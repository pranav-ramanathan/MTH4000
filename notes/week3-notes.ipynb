{
 "cells": [
  {
   "cell_type": "markdown",
   "metadata": {
    "slideshow": {
     "slide_type": "-"
    }
   },
   "source": [
    "# MTH4000 Programming in Python I - Lecture 3\n",
    "Module Organisers: Dr Matthew Lewis and Prof. Thomas Prellberg"
   ]
  },
  {
   "cell_type": "markdown",
   "metadata": {},
   "source": [
    "### Indexing (Recap)"
   ]
  },
  {
   "cell_type": "markdown",
   "metadata": {},
   "source": [
    "Last week, we were introduced to the sequence types: lists, tuples and ranges.  We saw that individual elements inside these types could be returned to us via *indexing*, which can be achieved by writing the name of the sequence object, followed by the index of the desired value written inside a pair of square brackets."
   ]
  },
  {
   "cell_type": "code",
   "execution_count": 1,
   "metadata": {
    "ExecuteTime": {
     "end_time": "2023-10-04T11:20:35.397450Z",
     "start_time": "2023-10-04T11:20:35.387298Z"
    }
   },
   "outputs": [
    {
     "name": "stdout",
     "output_type": "stream",
     "text": [
      "1\n",
      "5\n",
      "233\n",
      "233\n"
     ]
    }
   ],
   "source": [
    "fibonacci=[1,1,2,3,5,8,13,21,34,55,89,144,233]\n",
    "print(fibonacci[0]) # indexing starts at ZERO !!!\n",
    "print(fibonacci[4])\n",
    "print(fibonacci[-1]) # last element of the list\n",
    "print(fibonacci[len(fibonacci)-1])"
   ]
  },
  {
   "cell_type": "markdown",
   "metadata": {},
   "source": [
    "### Slicing"
   ]
  },
  {
   "cell_type": "markdown",
   "metadata": {},
   "source": [
    "As well as returning a single element inside a list, it is also possible to return a sublist containing all the elements inside the list that fall between a certain pair of indices.  Such a sublist is usually referred to as a *slice*, and the operation used to obtain them, *slicing*.\n",
    "\n",
    "A slice can be returned by writing the name of a list, followed by a pair of square brackets containing two indices separated by a colon.  The first index is the start index, the index of the first element to be *included* in the slice.  The second index is the stop index, the index of the first element past the start index to be *excluded* from the slice.  (Compare this notation with the start and stop arguments of the `range` function)."
   ]
  },
  {
   "cell_type": "code",
   "execution_count": 2,
   "metadata": {
    "ExecuteTime": {
     "end_time": "2023-10-04T11:20:37.869130Z",
     "start_time": "2023-10-04T11:20:37.862176Z"
    }
   },
   "outputs": [
    {
     "name": "stdout",
     "output_type": "stream",
     "text": [
      "[1, 1, 2, 3, 5, 8, 13, 21, 34, 55, 89, 144, 233]\n",
      "[5, 8, 13]\n",
      "[5]\n"
     ]
    }
   ],
   "source": [
    "print(fibonacci)\n",
    "print(fibonacci[4:7])\n",
    "print(fibonacci[4:5])"
   ]
  },
  {
   "cell_type": "markdown",
   "metadata": {},
   "source": [
    "For example, the slice (sublist) `fibonacci[4:7]` consists of `fibonacci[4]`, `fibonacci[5]` and `fibonacci[6]`, but not `fibonacci[7]`, and the number of entries in this slice is equal to $7-4=3$.\n",
    "\n",
    "Consistent with this, a slice with both indices being equal is an empty list."
   ]
  },
  {
   "cell_type": "code",
   "execution_count": 3,
   "metadata": {
    "ExecuteTime": {
     "end_time": "2023-10-04T11:20:41.512785Z",
     "start_time": "2023-10-04T11:20:41.507431Z"
    }
   },
   "outputs": [
    {
     "name": "stdout",
     "output_type": "stream",
     "text": [
      "[]\n",
      "0\n",
      "[]\n"
     ]
    }
   ],
   "source": [
    "print(fibonacci[5:5])\n",
    "print(len([]))\n",
    "print(fibonacci[5:4])"
   ]
  },
  {
   "cell_type": "markdown",
   "metadata": {},
   "source": [
    "We can also omit the start index, and Python will return the slice obtained by starting from index $0$.  Similarly, we can omit the stop index, and Python will return the slice obtained by using a stop index equal to the final index of the list."
   ]
  },
  {
   "cell_type": "code",
   "execution_count": 4,
   "metadata": {
    "ExecuteTime": {
     "end_time": "2023-10-04T11:20:43.015722Z",
     "start_time": "2023-10-04T11:20:43.011827Z"
    }
   },
   "outputs": [
    {
     "name": "stdout",
     "output_type": "stream",
     "text": [
      "[1, 1, 2, 3, 5, 8, 13]\n",
      "[5, 8, 13, 21, 34, 55, 89, 144, 233]\n",
      "[1, 1, 2, 3, 5, 8, 13, 21, 34, 55, 89, 144, 233]\n"
     ]
    }
   ],
   "source": [
    "print(fibonacci[:7])\n",
    "print(fibonacci[4:])\n",
    "print(fibonacci[:]) # we can even do both at the same time to return the entire list"
   ]
  },
  {
   "cell_type": "markdown",
   "metadata": {},
   "source": [
    "As above, we can also use negative indices. For example, the slice `fibonacci[3:-2]` starts at  the entry with index $3$ and omits the final two entries."
   ]
  },
  {
   "cell_type": "code",
   "execution_count": 5,
   "metadata": {
    "ExecuteTime": {
     "end_time": "2023-10-04T11:20:45.630408Z",
     "start_time": "2023-10-04T11:20:45.624382Z"
    }
   },
   "outputs": [
    {
     "name": "stdout",
     "output_type": "stream",
     "text": [
      "[3, 5, 8, 13, 21, 34, 55, 89]\n",
      "[3, 5, 8, 13]\n",
      "[3, 5, 8, 13, 21, 34, 55]\n"
     ]
    }
   ],
   "source": [
    "print(fibonacci[3:-2])\n",
    "print(fibonacci[-10:7])\n",
    "print(fibonacci[-10:-3])"
   ]
  },
  {
   "cell_type": "markdown",
   "metadata": {},
   "source": [
    "Slicing with `[-n,:]` gives the last $n$ entries."
   ]
  },
  {
   "cell_type": "code",
   "execution_count": 6,
   "metadata": {
    "ExecuteTime": {
     "end_time": "2023-10-04T11:20:49.416855Z",
     "start_time": "2023-10-04T11:20:49.404895Z"
    }
   },
   "outputs": [
    {
     "data": {
      "text/plain": [
       "[55, 89, 144, 233]"
      ]
     },
     "execution_count": 6,
     "metadata": {},
     "output_type": "execute_result"
    }
   ],
   "source": [
    "fibonacci[-4:]"
   ]
  },
  {
   "cell_type": "markdown",
   "metadata": {},
   "source": [
    "Finally, by giving a third argument, we can skip over entries.  (Again, compare this with the \"step size\" parameter in the `range` function).  To omit every second entry in the list, we can write the following:"
   ]
  },
  {
   "cell_type": "code",
   "execution_count": 7,
   "metadata": {
    "ExecuteTime": {
     "end_time": "2023-10-04T11:20:51.750507Z",
     "start_time": "2023-10-04T11:20:51.745328Z"
    }
   },
   "outputs": [
    {
     "name": "stdout",
     "output_type": "stream",
     "text": [
      "[1, 1, 2, 3, 5, 8, 13, 21, 34, 55, 89, 144, 233]\n",
      "[1, 2, 5, 13]\n",
      "[1, 3, 8, 21, 55, 144]\n"
     ]
    }
   ],
   "source": [
    "print(fibonacci)\n",
    "print(fibonacci[0:8:2])\n",
    "print(fibonacci[1:13:2])"
   ]
  },
  {
   "cell_type": "markdown",
   "metadata": {},
   "source": [
    "Slicing works also with tuples:"
   ]
  },
  {
   "cell_type": "code",
   "execution_count": 8,
   "metadata": {
    "ExecuteTime": {
     "end_time": "2023-10-04T11:20:53.078663Z",
     "start_time": "2023-10-04T11:20:53.072457Z"
    }
   },
   "outputs": [
    {
     "name": "stdout",
     "output_type": "stream",
     "text": [
      "(2023, 'February', 5)\n"
     ]
    }
   ],
   "source": [
    "today=(2023,'February',5)\n",
    "print(today)"
   ]
  },
  {
   "cell_type": "code",
   "execution_count": 9,
   "metadata": {
    "ExecuteTime": {
     "end_time": "2023-10-04T11:20:53.905616Z",
     "start_time": "2023-10-04T11:20:53.901423Z"
    }
   },
   "outputs": [
    {
     "name": "stdout",
     "output_type": "stream",
     "text": [
      "2023\n",
      "(2023,)\n",
      "('February', 5)\n"
     ]
    }
   ],
   "source": [
    "print(today[0])\n",
    "print(today[0:1])\n",
    "print(today[1:])"
   ]
  },
  {
   "cell_type": "markdown",
   "metadata": {},
   "source": [
    "## List Comprehensions"
   ]
  },
  {
   "cell_type": "markdown",
   "metadata": {},
   "source": [
    "So far, we have seen that we can create lists in Python by writing them out by hand, which is inefficient, or by using the ranges, which is efficient but restricted to equally-spaced integers. What if we wanted to generate a list of the first 71 square numbers? There is a nice construction in Python called [list comprehensions](http://docs.python.org/3/tutorial/datastructures.html#list-comprehensions) that allows us to do just this, as you have already seen in the labs. We will now go over this in more detail."
   ]
  },
  {
   "cell_type": "code",
   "execution_count": 10,
   "metadata": {
    "ExecuteTime": {
     "end_time": "2023-10-04T11:21:02.073280Z",
     "start_time": "2023-10-04T11:21:02.068536Z"
    },
    "scrolled": true
   },
   "outputs": [
    {
     "name": "stdout",
     "output_type": "stream",
     "text": [
      "[1, 4, 9, 16, 25, 36, 49, 64, 81, 100, 121, 144, 169, 196, 225, 256, 289, 324, 361, 400, 441, 484, 529, 576, 625, 676, 729, 784, 841, 900, 961, 1024, 1089, 1156, 1225, 1296, 1369, 1444, 1521, 1600, 1681, 1764, 1849, 1936, 2025, 2116, 2209, 2304, 2401, 2500, 2601, 2704, 2809, 2916, 3025, 3136, 3249, 3364, 3481, 3600, 3721, 3844, 3969, 4096, 4225, 4356, 4489, 4624, 4761, 4900, 5041]\n"
     ]
    }
   ],
   "source": [
    "print([n**2 for n in range (1,72)])"
   ]
  },
  {
   "cell_type": "markdown",
   "metadata": {},
   "source": [
    "We have just generated a list using the syntax \"\\[*expression* **for** *item* **in** *iterable*\\]\", where \n",
    "\n",
    "* *iterable* is a `range`, `list`, `tuple`, or any other kind of sequence object\n",
    "* *item* is a variable name which sequentially takes each value in the iterable\n",
    "* *expression* is a Python expression which is evaluated for each value of *item*"
   ]
  },
  {
   "cell_type": "markdown",
   "metadata": {},
   "source": [
    "It's clear that the list that's returned to us from this code is the value of *expression* for each value of *item*, when *item* is given each of the values inside *iterable*.  In terms of the objects given in the example above, the elements returned to the list are the values of `n**2` for each value of `n` given by `range(1,72)`.\n",
    "\n",
    "Since `range(1,72)` contains all integers between $1$ and $71$ (inclusive), the final list contains the values $1^2$, $2^2$, $3^2$, ..., $71^2$.\n",
    "\n",
    "Note that the expression can be a lot more complicated than squaring:"
   ]
  },
  {
   "cell_type": "code",
   "execution_count": 11,
   "metadata": {
    "ExecuteTime": {
     "end_time": "2023-10-04T11:21:29.838347Z",
     "start_time": "2023-10-04T11:21:29.834578Z"
    }
   },
   "outputs": [
    {
     "name": "stdout",
     "output_type": "stream",
     "text": [
      "[8.48528137423857, 20.688160865577203, 38.07886552931954, 62.49799996799898, 95.09994742374992]\n"
     ]
    }
   ],
   "source": [
    "print([(n**5+3*n**3+21*n**2-17*n-34)**0.5 for n in range(2,7)])"
   ]
  },
  {
   "cell_type": "markdown",
   "metadata": {},
   "source": [
    "As mentioned above, it can involve evaluating functions:"
   ]
  },
  {
   "cell_type": "code",
   "execution_count": 22,
   "metadata": {
    "ExecuteTime": {
     "end_time": "2023-10-04T11:21:44.853078Z",
     "start_time": "2023-10-04T11:21:44.847178Z"
    }
   },
   "outputs": [
    {
     "name": "stdout",
     "output_type": "stream",
     "text": [
      "[0.0, 0.7071067811865475, 1.0, 0.7071067811865476, 1.2246467991473532e-16, -0.7071067811865475, -1.0, -0.7071067811865477, -2.4492935982947064e-16]\n"
     ]
    }
   ],
   "source": [
    "import math\n",
    "\n",
    "pi_vals = [(math.pi * n)/4 for n in range(9)]\n",
    "\n",
    "print([math.sin(n) for n in pi_vals])"
   ]
  },
  {
   "cell_type": "markdown",
   "metadata": {},
   "source": [
    "There may even be more than one function in the same expression:"
   ]
  },
  {
   "cell_type": "code",
   "execution_count": 16,
   "metadata": {
    "ExecuteTime": {
     "end_time": "2023-10-04T11:21:46.834310Z",
     "start_time": "2023-10-04T11:21:46.827936Z"
    }
   },
   "outputs": [
    {
     "name": "stdout",
     "output_type": "stream",
     "text": [
      "[1.0, 1.0, 1.0, 1.0, 1.0]\n"
     ]
    }
   ],
   "source": [
    "print([math.sin(n)**2+math.cos(n)**2 for n in range(-2,3)])"
   ]
  },
  {
   "cell_type": "markdown",
   "metadata": {},
   "source": [
    "On the other hand, the expression may not depend on the variable at all:"
   ]
  },
  {
   "cell_type": "code",
   "execution_count": 17,
   "metadata": {
    "ExecuteTime": {
     "end_time": "2023-10-04T11:21:49.151252Z",
     "start_time": "2023-10-04T11:21:49.146110Z"
    }
   },
   "outputs": [
    {
     "name": "stdout",
     "output_type": "stream",
     "text": [
      "[1.0, 1.0, 1.0, 1.0, 1.0]\n"
     ]
    }
   ],
   "source": [
    "print([1.0 for n in range(-2,3)])"
   ]
  },
  {
   "cell_type": "markdown",
   "metadata": {},
   "source": [
    "#### Local (dummy) variables"
   ]
  },
  {
   "cell_type": "markdown",
   "metadata": {},
   "source": [
    "Note that in the above list comprehensions, I have chosen many different names for the variable. These variables are called *local* (or *dummy*) variables.  They are only defined within the scope of the list comprehension, and are forgotten the moment the list has been computed. Their name does not matter at all, it is just a place holder."
   ]
  },
  {
   "cell_type": "code",
   "execution_count": 18,
   "metadata": {
    "ExecuteTime": {
     "end_time": "2023-10-04T11:22:42.272639Z",
     "start_time": "2023-10-04T11:22:42.265568Z"
    }
   },
   "outputs": [
    {
     "data": {
      "text/plain": [
       "([0, 1, 2], [0, 1, 2], [0, 1, 2])"
      ]
     },
     "execution_count": 18,
     "metadata": {},
     "output_type": "execute_result"
    }
   ],
   "source": [
    "[a for a in range(3)],[_2 for _2 in range(3)],\\\n",
    "[some_name_I_dont_care_about for some_name_I_dont_care_about in range(3)]"
   ]
  },
  {
   "cell_type": "markdown",
   "metadata": {},
   "source": [
    "Neither `a`, `_2`, or `some_name_I_dont_care_about` are known after the previous code has been run"
   ]
  },
  {
   "cell_type": "code",
   "execution_count": 19,
   "metadata": {
    "ExecuteTime": {
     "end_time": "2023-09-27T13:51:36.103533Z",
     "start_time": "2023-09-27T13:51:36.100645Z"
    }
   },
   "outputs": [],
   "source": [
    "# After the first list comprehension was computed, the variable _2 was forgotten, so this call will be invalid.\n",
    "# _2"
   ]
  },
  {
   "cell_type": "markdown",
   "metadata": {},
   "source": [
    "#### More examples"
   ]
  },
  {
   "cell_type": "markdown",
   "metadata": {},
   "source": [
    "Let's compare the following three ways of generating a list of the first 20 integers. We can generate this list by hand, create the range object and convert it to a list, or use list comprehension."
   ]
  },
  {
   "cell_type": "code",
   "execution_count": 20,
   "metadata": {
    "ExecuteTime": {
     "end_time": "2023-10-04T11:22:44.548185Z",
     "start_time": "2023-10-04T11:22:44.541678Z"
    }
   },
   "outputs": [
    {
     "name": "stdout",
     "output_type": "stream",
     "text": [
      "[1, 2, 3, 4, 5, 6, 7, 8, 9, 10, 11, 12, 13, 14, 15, 16, 17, 18, 19, 20]\n",
      "[1, 2, 3, 4, 5, 6, 7, 8, 9, 10, 11, 12, 13, 14, 15, 16, 17, 18, 19, 20]\n",
      "[1, 2, 3, 4, 5, 6, 7, 8, 9, 10, 11, 12, 13, 14, 15, 16, 17, 18, 19, 20]\n"
     ]
    }
   ],
   "source": [
    "list1=[1,2,3,4,5,6,7,8,9,10,11,12,13,14,15,16,17,18,19,20]\n",
    "print(list1)\n",
    "list2=list(range(1,21))\n",
    "print(list2)\n",
    "list3=[n for n in range(1,21)]\n",
    "print(list3)"
   ]
  },
  {
   "cell_type": "markdown",
   "metadata": {},
   "source": [
    "However, the list comprehension syntax is the most useful if we can explicitly express the $n$-th element of a list. Here are some more examples."
   ]
  },
  {
   "cell_type": "code",
   "execution_count": 23,
   "metadata": {
    "ExecuteTime": {
     "end_time": "2023-10-04T11:22:49.973371Z",
     "start_time": "2023-10-04T11:22:49.964474Z"
    },
    "scrolled": true
   },
   "outputs": [
    {
     "name": "stdout",
     "output_type": "stream",
     "text": [
      "[0, 1, 2, 0, 1, 2, 0, 1, 2, 0, 1, 2, 0, 1, 2, 0, 1, 2, 0, 1, 2]\n",
      "[1, 4, 27, 256, 3125, 46656, 823543, 16777216, 387420489]\n",
      "[6, 120, 5040, 362880, 39916800, 6227020800, 1307674368000, 355687428096000, 121645100408832000]\n",
      "[1, 1, 1, 1, 1, 1, 1, 1, 1, 1, 1, 1, 1, 1, 1, 1, 1, 1, 1, 1, 1, 1, 1, 1, 1, 1, 1, 1, 1, 1]\n"
     ]
    }
   ],
   "source": [
    "print([n%3 for n in range(21)])\n",
    "print([k**k for k in range(1,10)])\n",
    "print([math.factorial(i) for i in range(3,20,2)])\n",
    "print([1 for n in range(30)])"
   ]
  },
  {
   "cell_type": "markdown",
   "metadata": {},
   "source": [
    "The *iterable* does not need to be a range object, but can be a list."
   ]
  },
  {
   "cell_type": "code",
   "execution_count": 24,
   "metadata": {
    "ExecuteTime": {
     "end_time": "2023-10-04T11:25:06.776936Z",
     "start_time": "2023-10-04T11:25:06.771511Z"
    }
   },
   "outputs": [
    {
     "name": "stdout",
     "output_type": "stream",
     "text": [
      "[0, 1, 4, 9, 16, 25, 36, 49, 64, 81, 100]\n",
      "[0.0, 1.0, 2.0, 3.0, 4.0, 5.0, 6.0, 7.0, 8.0, 9.0, 10.0]\n"
     ]
    }
   ],
   "source": [
    "list0=[n**2 for n in range(11)]\n",
    "print(list0)\n",
    "list1=[n**0.5 for n in list0]\n",
    "print(list1)"
   ]
  },
  {
   "cell_type": "markdown",
   "metadata": {},
   "source": [
    "There is also a great deal of variation allowed in our choice of iterable.  Up until this point, our iterables have all been ranges.  This need not be the case."
   ]
  },
  {
   "cell_type": "code",
   "execution_count": 25,
   "metadata": {
    "ExecuteTime": {
     "end_time": "2023-10-04T11:25:08.522468Z",
     "start_time": "2023-10-04T11:25:08.519009Z"
    }
   },
   "outputs": [
    {
     "name": "stdout",
     "output_type": "stream",
     "text": [
      "[4, 9, 25, 49, 121, 169]\n"
     ]
    }
   ],
   "source": [
    "primes=[2,3,5,7,11,13]\n",
    "\n",
    "print([p**2 for p in primes])"
   ]
  },
  {
   "cell_type": "markdown",
   "metadata": {},
   "source": [
    "In this last example, we constructed a list `primes` and created a list comprehension that iterates over this list.  We could instead have written this list *inside* the comprehension itself:"
   ]
  },
  {
   "cell_type": "code",
   "execution_count": 26,
   "metadata": {
    "ExecuteTime": {
     "end_time": "2023-10-04T11:25:10.215026Z",
     "start_time": "2023-10-04T11:25:10.210178Z"
    }
   },
   "outputs": [
    {
     "name": "stdout",
     "output_type": "stream",
     "text": [
      "[4, 9, 25, 49, 121, 169]\n"
     ]
    }
   ],
   "source": [
    "print([p**2 for p in [2,3,5,7,11,13]])"
   ]
  },
  {
   "cell_type": "markdown",
   "metadata": {},
   "source": [
    "This is useful if you wish to check a certain property holds for a fixed (and finite) set of values.  For instance, are $1$, $\\frac{1}{2}(1+\\sqrt{5})$ and $\\frac{1}{2}(1-\\sqrt{5})$ all solutions of the equation $x^3-2x^2+1=0$?"
   ]
  },
  {
   "cell_type": "code",
   "execution_count": 27,
   "metadata": {
    "ExecuteTime": {
     "end_time": "2023-10-04T11:25:16.620973Z",
     "start_time": "2023-10-04T11:25:16.616031Z"
    }
   },
   "outputs": [
    {
     "name": "stdout",
     "output_type": "stream",
     "text": [
      "[0, 0.0, -2.220446049250313e-16]\n"
     ]
    }
   ],
   "source": [
    "print([x**3-2*(x**2)+1 for x in [1,(1+5**0.5)/2,(1-5**0.5)/2]])"
   ]
  },
  {
   "cell_type": "markdown",
   "metadata": {},
   "source": [
    "Pay close attention how Python evaluates these three roots: \n",
    "- in the first case, it can be done in integer arithmetic, so the result is simply the integer $0$\n",
    "- in the second case, the evaluation is done in floating point, so the result is also floating point, in this case $0.0$\n",
    "- additionally, in the third case, finite precision can result in rounding errors, and we get $-2.2\\times 10^{-16}$"
   ]
  },
  {
   "cell_type": "markdown",
   "metadata": {},
   "source": [
    "Note that so far, our iterables have contained only integers and floats.  This need not be the case, we could have strings:"
   ]
  },
  {
   "cell_type": "code",
   "execution_count": 28,
   "metadata": {
    "ExecuteTime": {
     "end_time": "2023-10-04T11:31:20.243383Z",
     "start_time": "2023-10-04T11:31:20.237036Z"
    },
    "scrolled": true
   },
   "outputs": [
    {
     "name": "stdout",
     "output_type": "stream",
     "text": [
      "['hello world', 'hello there', 'hello from the other side']\n"
     ]
    }
   ],
   "source": [
    "print(['hello '+word for word in [\"world\",\"there\",\"from the other side\"]])"
   ]
  },
  {
   "cell_type": "markdown",
   "metadata": {},
   "source": [
    "We could even have an iterable be a list of lists:"
   ]
  },
  {
   "cell_type": "code",
   "execution_count": 29,
   "metadata": {
    "ExecuteTime": {
     "end_time": "2023-10-04T11:31:21.301752Z",
     "start_time": "2023-10-04T11:31:21.295227Z"
    }
   },
   "outputs": [
    {
     "name": "stdout",
     "output_type": "stream",
     "text": [
      "[2, 3, 3]\n"
     ]
    }
   ],
   "source": [
    "print([ len(l) for l in [ ['see','Spot'] , ['see','Spot','run'] , ['run','Spot','run'] ] ])"
   ]
  },
  {
   "cell_type": "markdown",
   "metadata": {},
   "source": [
    "Finally, a note about the variable names that we use for the items inside list comprehensions.  It should be clear that changing the variable inside the list comprehension does not affect the returned list (as long as we're careful to also change the expression accordingly):"
   ]
  },
  {
   "cell_type": "code",
   "execution_count": 34,
   "metadata": {
    "ExecuteTime": {
     "end_time": "2023-10-04T11:31:22.694893Z",
     "start_time": "2023-10-04T11:31:22.689579Z"
    }
   },
   "outputs": [
    {
     "name": "stdout",
     "output_type": "stream",
     "text": [
      "[0, 1, 2, 0, 1, 2, 0, 1, 2, 0, 1, 2, 0, 1, 2, 0, 1, 2, 0, 1, 2]\n",
      "[0, 1, 2, 0, 1, 2, 0, 1, 2, 0, 1, 2, 0, 1, 2, 0, 1, 2, 0, 1, 2]\n",
      "[0, 1, 2, 0, 1, 2, 0, 1, 2, 0, 1, 2, 0, 1, 2, 0, 1, 2, 0, 1, 2]\n"
     ]
    }
   ],
   "source": [
    "print([n%3 for n in range(21)])\n",
    "print([k%3 for k in range(21)])\n",
    "print([some_ridiculously_long_and_inappropriate_variable_name%3\\\n",
    "       for some_ridiculously_long_and_inappropriate_variable_name in range(21)])"
   ]
  },
  {
   "cell_type": "markdown",
   "metadata": {},
   "source": [
    "Let me repeat again that the variables that we define inside list comprehensions are only remembered by Python for the duration over which the list is being computed.  Once the list has been returned to us, the variable name is lost.  For instance, notice that we only defined the value `n` in some of the above list comprehensions.  Nowhere in this document has it been defined outside of this context.  Indeed, if we attempt to call it:"
   ]
  },
  {
   "cell_type": "code",
   "execution_count": 35,
   "metadata": {
    "ExecuteTime": {
     "end_time": "2023-10-04T11:39:38.702814Z",
     "start_time": "2023-10-04T11:39:38.698625Z"
    }
   },
   "outputs": [],
   "source": [
    "# n\n",
    "# this doesn't work!"
   ]
  },
  {
   "cell_type": "markdown",
   "metadata": {},
   "source": [
    "We find that Python doesn't remember it ever being defined and returns an error.  This is all to do with a concept called the *scope* of a variable, and we will see something similar when we discuss user-defined functions next week.\n",
    "\n",
    "For now, note that this has the advantage that you can confidently use the same variable in different list comprehensions without having to worry about the lists changing upon being re-computed."
   ]
  },
  {
   "cell_type": "code",
   "execution_count": 36,
   "metadata": {
    "ExecuteTime": {
     "end_time": "2023-10-04T11:39:40.752263Z",
     "start_time": "2023-10-04T11:39:40.743992Z"
    }
   },
   "outputs": [
    {
     "data": {
      "text/plain": [
       "[1, 2, 3, 4]"
      ]
     },
     "execution_count": 36,
     "metadata": {},
     "output_type": "execute_result"
    }
   ],
   "source": [
    "[n for n in range(1,5)]"
   ]
  },
  {
   "cell_type": "code",
   "execution_count": 37,
   "metadata": {
    "ExecuteTime": {
     "end_time": "2023-10-04T11:39:41.602439Z",
     "start_time": "2023-10-04T11:39:41.597758Z"
    }
   },
   "outputs": [
    {
     "data": {
      "text/plain": [
       "['one', 'two', 'three', 'four']"
      ]
     },
     "execution_count": 37,
     "metadata": {},
     "output_type": "execute_result"
    }
   ],
   "source": [
    "[n for n in ['one','two','three','four']]"
   ]
  },
  {
   "cell_type": "markdown",
   "metadata": {},
   "source": [
    "### Generators"
   ]
  },
  {
   "cell_type": "markdown",
   "metadata": {},
   "source": [
    "We (very!) briefly mention another data type that exists in Python: generators.  A generator behaves very similarly to a range, in that it contains nothing more than a start value and a rule for computing subsequent values.  The key difference is that generators allow us to construct specific rules for computing the next value of a sequence, rather than being forced into an arithmetic progression, as with ranges.\n",
    "\n",
    "We won't be dealing with generators at all throughout this course, so there is no need to remember any of that.  So why do we mention it here?  Two reasons:\n",
    "\n",
    "1.  Generators are quite popular in the Python community, and you may very well see them mentioned in online posts that you encounter while searching the web for function documentation.  In that case, it may prove helpful to have a vague idea of what's being discussed.\n",
    "\n",
    "\n",
    "2.  If you accidentally type (for example) `(2*i for i in range(5))` instead of `[2*i for i in range(5)]`, you construct a generator instead of a list."
   ]
  },
  {
   "cell_type": "code",
   "execution_count": null,
   "metadata": {
    "ExecuteTime": {
     "end_time": "2023-10-04T11:39:45.336854Z",
     "start_time": "2023-10-04T11:39:45.330786Z"
    }
   },
   "outputs": [],
   "source": [
    "(2*i for i in range(5))"
   ]
  },
  {
   "cell_type": "markdown",
   "metadata": {},
   "source": [
    "You may already have noticed that while coding, we sometimes get as output `< ... >`. This happens because of how Python stores data internally. You may, for example, have gotten output such as `[<matplotlib.lines.Line2D at 0x124255d90>]` when plotting.\n",
    "\n",
    "We can see that Python is not overly helpful when calling generators, only telling us that the above is a 'generator object'.  This again highlights the similarity between generators and ranges:"
   ]
  },
  {
   "cell_type": "code",
   "execution_count": null,
   "metadata": {
    "ExecuteTime": {
     "end_time": "2023-10-04T11:39:46.668826Z",
     "start_time": "2023-10-04T11:39:46.662365Z"
    }
   },
   "outputs": [],
   "source": [
    "range(5)"
   ]
  },
  {
   "cell_type": "markdown",
   "metadata": {},
   "source": [
    "In both cases, the values cannot simply be listed, because Python has not computed them yet.  Python memorises only the initial value, and a rule for computing the next one.  In the range object, the rule is simply to add one.  For the generator above, the rule is provided in the generator comprehension (like a list comprehension, but with round brackets).\n",
    "\n",
    "We can convert a generator to a list by using the built-in `list` function."
   ]
  },
  {
   "cell_type": "code",
   "execution_count": null,
   "metadata": {
    "ExecuteTime": {
     "end_time": "2023-10-04T11:39:47.951570Z",
     "start_time": "2023-10-04T11:39:47.944026Z"
    }
   },
   "outputs": [],
   "source": [
    "list((2*i for i in range(5)))"
   ]
  },
  {
   "cell_type": "markdown",
   "metadata": {},
   "source": [
    "Alternatively, if you wrote the list comprehension in round brackets because you wished to create a tuple, you can instead use the built-in `tuple` function:"
   ]
  },
  {
   "cell_type": "code",
   "execution_count": null,
   "metadata": {
    "ExecuteTime": {
     "end_time": "2023-10-04T11:39:49.616430Z",
     "start_time": "2023-10-04T11:39:49.609418Z"
    }
   },
   "outputs": [],
   "source": [
    "tuple((2*i for i in range(5)))"
   ]
  },
  {
   "cell_type": "markdown",
   "metadata": {},
   "source": [
    "The computations above are similar to when we used the `list` and `tuple` functions on a range:"
   ]
  },
  {
   "cell_type": "code",
   "execution_count": null,
   "metadata": {
    "ExecuteTime": {
     "end_time": "2023-10-04T11:39:50.492586Z",
     "start_time": "2023-10-04T11:39:50.486769Z"
    }
   },
   "outputs": [],
   "source": [
    "range(5)"
   ]
  },
  {
   "cell_type": "code",
   "execution_count": null,
   "metadata": {
    "ExecuteTime": {
     "end_time": "2023-10-04T11:39:50.964198Z",
     "start_time": "2023-10-04T11:39:50.958205Z"
    }
   },
   "outputs": [],
   "source": [
    "list(range(5))"
   ]
  },
  {
   "cell_type": "code",
   "execution_count": null,
   "metadata": {
    "ExecuteTime": {
     "end_time": "2023-10-04T11:39:51.431440Z",
     "start_time": "2023-10-04T11:39:51.425888Z"
    }
   },
   "outputs": [],
   "source": [
    "tuple(range(5))"
   ]
  },
  {
   "cell_type": "markdown",
   "metadata": {},
   "source": [
    "In each of these cases, Python simply iterates through every value in the generator, and appends them to a newly constructed list/tuple."
   ]
  },
  {
   "cell_type": "code",
   "execution_count": 40,
   "metadata": {},
   "outputs": [
    {
     "data": {
      "text/plain": [
       "(0, 1, 2, 3, 4, 5, 6, 7, 8, 9)"
      ]
     },
     "execution_count": 40,
     "metadata": {},
     "output_type": "execute_result"
    }
   ],
   "source": [
    "*(x for x in range(10)), # tuple comprehension, by unpacking generator"
   ]
  },
  {
   "cell_type": "markdown",
   "metadata": {},
   "source": [
    "### Lists and Plotting"
   ]
  },
  {
   "cell_type": "markdown",
   "metadata": {},
   "source": [
    "Now that we have discussed lists in Python, we shall briefly revisit plotting. "
   ]
  },
  {
   "cell_type": "code",
   "execution_count": 41,
   "metadata": {
    "ExecuteTime": {
     "end_time": "2023-10-04T11:40:05.524534Z",
     "start_time": "2023-10-04T11:40:04.927329Z"
    }
   },
   "outputs": [],
   "source": [
    "import matplotlib.pyplot as plt\n",
    "import numpy as np"
   ]
  },
  {
   "cell_type": "markdown",
   "metadata": {},
   "source": [
    "Lets assume we want to plot a function defined only for integer values, such as Euler's totient function $\\varphi(n)$, which counts the number of positive integers $m$ less than a given positive integer $n$ that are relatively prime to it, i.e. $gcd(n,m)=1$:\n",
    "\n",
    "$$\\varphi(n)=\\left|\\left\\{m\\in\\mathbb N: m<n, gcd(n,m)=1\\right\\}\\right|$$"
   ]
  },
  {
   "cell_type": "markdown",
   "metadata": {},
   "source": [
    "A bit of googling shows that the the totient function is defined in the module `sympy`, so we simply load that function."
   ]
  },
  {
   "cell_type": "code",
   "execution_count": 42,
   "metadata": {
    "ExecuteTime": {
     "end_time": "2023-10-04T11:40:07.449723Z",
     "start_time": "2023-10-04T11:40:06.642805Z"
    }
   },
   "outputs": [],
   "source": [
    "import sympy as sp"
   ]
  },
  {
   "cell_type": "markdown",
   "metadata": {},
   "source": [
    "We can compute it for a few examples. For example, $12$ is coprime to $1,5,7,11$ (but not to $2,3,4,6,8,9,10$) so that $\\varphi(12)$ should be $4$."
   ]
  },
  {
   "cell_type": "code",
   "execution_count": 43,
   "metadata": {
    "ExecuteTime": {
     "end_time": "2023-10-04T11:40:07.588963Z",
     "start_time": "2023-10-04T11:40:07.583009Z"
    },
    "scrolled": true
   },
   "outputs": [
    {
     "data": {
      "text/latex": [
       "$\\displaystyle 4$"
      ],
      "text/plain": [
       "4"
      ]
     },
     "execution_count": 43,
     "metadata": {},
     "output_type": "execute_result"
    }
   ],
   "source": [
    "sp.totient(12)"
   ]
  },
  {
   "cell_type": "markdown",
   "metadata": {},
   "source": [
    "We can use a list to give out $\\varphi(n)$ for a range of values of $n$."
   ]
  },
  {
   "cell_type": "code",
   "execution_count": 44,
   "metadata": {
    "ExecuteTime": {
     "end_time": "2023-10-04T11:40:08.806881Z",
     "start_time": "2023-10-04T11:40:08.797840Z"
    }
   },
   "outputs": [
    {
     "name": "stdout",
     "output_type": "stream",
     "text": [
      "[1, 1, 2, 2, 4, 2, 6, 4, 6, 4, 10, 4, 12, 6, 8, 8, 16, 6, 18, 8, 12, 10, 22, 8, 20, 12, 18, 12, 28, 8, 30, 16, 20, 16, 24, 12, 36, 18, 24, 16, 40, 12, 42, 20, 24, 22, 46, 16, 42, 20, 32, 24, 52, 18, 40, 24, 36, 28, 58, 16, 60, 30, 36, 32, 48, 20, 66, 32, 44, 24, 70, 24, 72, 36, 40, 36, 60, 24, 78, 32, 54, 40, 82, 24, 64, 42, 56, 40, 88, 24, 72, 44, 60, 46, 72, 32, 96, 42, 60, 40]\n"
     ]
    }
   ],
   "source": [
    "print([sp.totient(n) for n in range(1,101)])"
   ]
  },
  {
   "cell_type": "markdown",
   "metadata": {},
   "source": [
    "This doesn't seem to tell us much. To really appreciate this function, we should try plotting it. The plotting function accepts lists of $x$ and $y$ coordinates."
   ]
  },
  {
   "cell_type": "code",
   "execution_count": 46,
   "metadata": {
    "ExecuteTime": {
     "end_time": "2023-10-04T11:40:10.033673Z",
     "start_time": "2023-10-04T11:40:09.771172Z"
    }
   },
   "outputs": [
    {
     "data": {
      "image/png": "[encoded data removed]",
      "text/plain": [
       "<Figure size 640x480 with 1 Axes>"
      ]
     },
     "metadata": {},
     "output_type": "display_data"
    }
   ],
   "source": [
    "x=list(range(1,10001))\n",
    "y=[sp.totient(n) for n in x]\n",
    "plt.plot(x,y,'ro',markersize=1)\n",
    "plt.show()"
   ]
  },
  {
   "cell_type": "markdown",
   "metadata": {},
   "source": [
    "Note that I have used some nice formatting shortcut here: 'ro' means red circles as markers and no lines. For details, and help on everything pyplot related, see https://matplotlib.org/tutorials/introductory/pyplot.html."
   ]
  },
  {
   "cell_type": "code",
   "execution_count": 49,
   "metadata": {
    "ExecuteTime": {
     "end_time": "2023-10-04T11:40:13.639978Z",
     "start_time": "2023-10-04T11:40:11.204597Z"
    }
   },
   "outputs": [
    {
     "data": {
      "image/png": "[encoded data removed]",
      "text/plain": [
       "<Figure size 640x480 with 1 Axes>"
      ]
     },
     "metadata": {},
     "output_type": "display_data"
    }
   ],
   "source": [
    "x=list(range(1,1000001))\n",
    "y=[sp.totient(n) for n in x]\n",
    "plt.plot(x,y,'ro',markersize=0.01)\n",
    "plt.show()"
   ]
  },
  {
   "cell_type": "markdown",
   "metadata": {},
   "source": [
    "This shows that the behaviour of $\\varphi(n)$ seems to show some structure but is also intriguingly complicated. You can read up on this function [here](https://en.wikipedia.org/wiki/Euler's_totient_function)."
   ]
  },
  {
   "cell_type": "markdown",
   "metadata": {},
   "source": [
    "### Points and Plotting"
   ]
  },
  {
   "cell_type": "markdown",
   "metadata": {},
   "source": [
    "Lets assume we are given a sequence of points with $x$ and $y$ coordinates, say for a circle."
   ]
  },
  {
   "cell_type": "code",
   "execution_count": 50,
   "metadata": {
    "ExecuteTime": {
     "end_time": "2023-10-04T11:40:13.647005Z",
     "start_time": "2023-10-04T11:40:13.641985Z"
    }
   },
   "outputs": [],
   "source": [
    "circle_coordinates=[(np.cos(np.pi/180*phi),np.sin(np.pi/180*phi)) for phi in range(360)]"
   ]
  },
  {
   "cell_type": "markdown",
   "metadata": {},
   "source": [
    "To practice slicing, lets look at angles that are multiples of 90 degrees."
   ]
  },
  {
   "cell_type": "code",
   "execution_count": 51,
   "metadata": {
    "ExecuteTime": {
     "end_time": "2023-10-04T11:40:13.959764Z",
     "start_time": "2023-10-04T11:40:13.952502Z"
    },
    "scrolled": true
   },
   "outputs": [
    {
     "data": {
      "text/plain": [
       "[(1.0, 0.0),\n",
       " (6.123233995736766e-17, 1.0),\n",
       " (-1.0, 1.2246467991473532e-16),\n",
       " (-1.8369701987210297e-16, -1.0)]"
      ]
     },
     "execution_count": 51,
     "metadata": {},
     "output_type": "execute_result"
    }
   ],
   "source": [
    "circle_coordinates[0:360:90]"
   ]
  },
  {
   "cell_type": "markdown",
   "metadata": {},
   "source": [
    "How can we plot the points? Unfortunately we cannot simply plot tuples, we need to separate this into $x$ and $y$ coordinates."
   ]
  },
  {
   "cell_type": "code",
   "execution_count": 52,
   "metadata": {
    "ExecuteTime": {
     "end_time": "2023-10-04T11:40:15.080515Z",
     "start_time": "2023-10-04T11:40:15.076139Z"
    }
   },
   "outputs": [],
   "source": [
    "x_coord = [point[0] for point in circle_coordinates]\n",
    "y_coord = [point[1] for point in circle_coordinates]"
   ]
  },
  {
   "cell_type": "markdown",
   "metadata": {},
   "source": [
    "Now we are ready for plotting."
   ]
  },
  {
   "cell_type": "code",
   "execution_count": 53,
   "metadata": {
    "ExecuteTime": {
     "end_time": "2023-10-04T11:40:15.581339Z",
     "start_time": "2023-10-04T11:40:15.457548Z"
    }
   },
   "outputs": [
    {
     "data": {
      "image/png": "[encoded data removed]",
      "text/plain": [
       "<Figure size 640x480 with 1 Axes>"
      ]
     },
     "metadata": {},
     "output_type": "display_data"
    }
   ],
   "source": [
    "plt.plot(x_coord,y_coord)\n",
    "# the following line can be found searching Google for \"matplotlib axes equal\"\n",
    "plt.gca().axis('equal')\n",
    "plt.show()"
   ]
  },
  {
   "cell_type": "markdown",
   "metadata": {},
   "source": [
    "Finally, lets turn this into a clock by adding hour and minute markers (using appropriate slicing)"
   ]
  },
  {
   "cell_type": "code",
   "execution_count": 54,
   "metadata": {
    "ExecuteTime": {
     "end_time": "2023-10-04T11:40:16.595599Z",
     "start_time": "2023-10-04T11:40:16.474502Z"
    }
   },
   "outputs": [
    {
     "data": {
      "image/png": "[encoded data removed]",
      "text/plain": [
       "<Figure size 640x480 with 1 Axes>"
      ]
     },
     "metadata": {},
     "output_type": "display_data"
    }
   ],
   "source": [
    "plt.plot(x_coord,y_coord,color='cyan')\n",
    "plt.plot(x_coord[0:360:30],y_coord[0:360:30],'or',markersize=12)\n",
    "plt.plot(x_coord[0:360:6],y_coord[0:360:6],'.k')\n",
    "plt.gca().axis('equal')\n",
    "plt.show()"
   ]
  },
  {
   "cell_type": "markdown",
   "metadata": {},
   "source": [
    "And if you have fun with this sort of stuff, try adding more details..."
   ]
  },
  {
   "cell_type": "code",
   "execution_count": 55,
   "metadata": {
    "ExecuteTime": {
     "end_time": "2023-10-04T11:40:17.729677Z",
     "start_time": "2023-10-04T11:40:17.600863Z"
    }
   },
   "outputs": [
    {
     "data": {
      "image/png": "[encoded data removed]",
      "text/plain": [
       "<Figure size 640x480 with 1 Axes>"
      ]
     },
     "metadata": {},
     "output_type": "display_data"
    }
   ],
   "source": [
    "plt.plot(x_coord,y_coord,color='cyan')\n",
    "plt.plot(x_coord[0:360:30],y_coord[0:360:30],'or',markersize=12)\n",
    "plt.plot(x_coord[0:360:6],y_coord[0:360:6],'.k')\n",
    "plt.gca().axis('equal')\n",
    "# some more googling suggests the following code for some clock hands\n",
    "plt.arrow(0,0,0.35,0.35,head_width=0.15, head_length=0.2, linewidth=3, fc='orange', ec='black')\n",
    "plt.arrow(0,0,0,-0.65,head_width=0.1, head_length=0.25, linewidth=2, fc='lightblue', ec='black')\n",
    "plt.plot([0],[0],'oy',markersize=20,markeredgecolor='black',markeredgewidth=1.5)\n",
    "plt.show()"
   ]
  },
  {
   "cell_type": "markdown",
   "metadata": {},
   "source": [
    "## Functions"
   ]
  },
  {
   "cell_type": "markdown",
   "metadata": {},
   "source": [
    "We discussed sequence types and how to use these. We encountered situations where we repeated the same calculation for all entries of a sequence. Using the same calculation repeatedly for different input values is efficiently done with *functions*."
   ]
  },
  {
   "cell_type": "markdown",
   "metadata": {},
   "source": [
    "More importantly, as you will perhaps have noticed, all fancy things we have done so far such as graph plotting has been done with the help of functions. We will first discuss existing built-in functions in more detail. Then we will describe a really important part of programming, which is writing your own functions. In fact, **you will write many functions** yourself, in exercises, tests, and the final project, so you really will have to come to terms with this."
   ]
  },
  {
   "cell_type": "markdown",
   "metadata": {},
   "source": [
    "### Built-in Functions for Sequences"
   ]
  },
  {
   "cell_type": "markdown",
   "metadata": {},
   "source": [
    "Python has useful [built-in functions](http://docs.python.org/3/library/functions.html) for working with sequences. You have already seen in the tutorial that we can compute the length of a list, sum up all the entries in a list of numbers, or determine their minimum and maximum values."
   ]
  },
  {
   "cell_type": "code",
   "execution_count": 56,
   "metadata": {
    "ExecuteTime": {
     "end_time": "2023-10-04T11:40:28.070523Z",
     "start_time": "2023-10-04T11:40:28.063176Z"
    }
   },
   "outputs": [
    {
     "name": "stdout",
     "output_type": "stream",
     "text": [
      "[1, 3, 5, 7, 9, 11, 13, 15, 17, 19, 21, 23, 25, 27, 29, 31, 33, 35, 37, 39]\n",
      "this list has 20 entries\n",
      "the smallest value is 1 and the largest value is 39\n",
      "the sum of all the entries is 400\n"
     ]
    }
   ],
   "source": [
    "list0=[j for j in range(1,41,2)]\n",
    "print(list0)\n",
    "print('this list has', len(list0), 'entries')\n",
    "print('the smallest value is', min(list0), 'and the largest value is', max(list0))\n",
    "print('the sum of all the entries is', sum(list0))"
   ]
  },
  {
   "cell_type": "markdown",
   "metadata": {},
   "source": [
    "We can also sort the entries in a list."
   ]
  },
  {
   "cell_type": "code",
   "execution_count": 57,
   "metadata": {
    "ExecuteTime": {
     "end_time": "2023-10-04T11:40:29.508990Z",
     "start_time": "2023-10-04T11:40:29.503447Z"
    }
   },
   "outputs": [
    {
     "name": "stdout",
     "output_type": "stream",
     "text": [
      "[-1, 2, -3, 4, -5, 6, -7, 8, -9]\n",
      "[-9, -7, -5, -3, -1, 2, 4, 6, 8]\n"
     ]
    }
   ],
   "source": [
    "list0=[j*(-1)**j for j in range(1,10,1)]\n",
    "print(list0)\n",
    "print(sorted(list0))"
   ]
  },
  {
   "cell_type": "markdown",
   "metadata": {},
   "source": [
    "### Further Built-in Functions"
   ]
  },
  {
   "cell_type": "markdown",
   "metadata": {},
   "source": [
    "We already encountered a selection of other built-in functions, such as `type()` and `print()`. The following is a list of frequently used [built-in functions](http://docs.python.org/3.3/library/functions.html) in these lectures."
   ]
  },
  {
   "cell_type": "markdown",
   "metadata": {},
   "source": [
    "| Function | Description|\n",
    "|----------|------------|\n",
    "|`print(object)`| print `object` to output |\n",
    "|`type(object)`| return the type of `object` |\n",
    "|`abs(x)`|\treturn the absolute value of `x` (or magnitude if `x` is complex)|\n",
    "|`int(x)`|\treturn the integer constructed from float `x` by truncating decimal|\n",
    "|`len(sequence)`|\treturn the length of the `sequence`|\n",
    "|`sum(sequence)`|\treturn the sum of the entries of `sequence`|\n",
    "|`max(sequence)`|\treturn the maximum value in `sequence`|\n",
    "|`min(sequence)`|\treturn the minimum value in `sequence`|\n",
    "|`range(a,b,step)`|\treturn the range object of integers from `a` to `b` (exclusive) by `step`|\n",
    "|`list(sequence)`|\treturn a list constructed from `sequence`|\n",
    "|`sorted(sequence)`|\treturn the sorted list from the items in `sequence`|\n",
    "|`reversed(`sequence`)`|\treturn the reversed iterator object from the items in `sequence`|\n",
    "|`enumerate(sequence)`|\treturn the enumerate object constructed from `sequence`|\n",
    "|`zip(a,b)`|\treturn an iterator that aggregates items from sequences `a` and `b`|"
   ]
  },
  {
   "cell_type": "markdown",
   "metadata": {},
   "source": [
    "Some of the functions we have not encountered yet. `abs()` computes the absolute value (or magnitude) of a number. Note that the absolute value of an integer is returned as an integer, but that the absolute values of floats and complex numbers are returned as floats."
   ]
  },
  {
   "cell_type": "code",
   "execution_count": 58,
   "metadata": {
    "ExecuteTime": {
     "end_time": "2023-10-04T11:40:32.271188Z",
     "start_time": "2023-10-04T11:40:32.265752Z"
    }
   },
   "outputs": [
    {
     "name": "stdout",
     "output_type": "stream",
     "text": [
      "3\n",
      "3.0\n",
      "5.0\n"
     ]
    }
   ],
   "source": [
    "print(abs(-3))\n",
    "print(abs(-3.0))\n",
    "print(abs(3+4j))"
   ]
  },
  {
   "cell_type": "markdown",
   "metadata": {},
   "source": [
    "We have learned that division of integers produces floats. What if we want to convert a float result back to integer? We can do this either with `int()`. Note that the function `int()` truncates towards zero."
   ]
  },
  {
   "cell_type": "code",
   "execution_count": 59,
   "metadata": {
    "ExecuteTime": {
     "end_time": "2023-10-04T11:40:33.236325Z",
     "start_time": "2023-10-04T11:40:33.232334Z"
    }
   },
   "outputs": [
    {
     "name": "stdout",
     "output_type": "stream",
     "text": [
      "-1\n",
      "1\n"
     ]
    }
   ],
   "source": [
    "print(int(-1.414))\n",
    "print(int(1.414))"
   ]
  },
  {
   "cell_type": "markdown",
   "metadata": {},
   "source": [
    "We encountered several functions involving sequences, such as `range()`, `list()`, and `sorted()`. The function `reversed()` does what you would expect it to do, but note that `reversed()` does not return a list, so we need to use `list()` if we want the output to be a list. This is similar to having to convert a range object to a list."
   ]
  },
  {
   "cell_type": "code",
   "execution_count": 60,
   "metadata": {
    "ExecuteTime": {
     "end_time": "2023-10-04T11:40:34.271123Z",
     "start_time": "2023-10-04T11:40:34.266411Z"
    },
    "scrolled": true
   },
   "outputs": [
    {
     "name": "stdout",
     "output_type": "stream",
     "text": [
      "<list_reverseiterator object at 0x2a0d478e0>\n",
      "[-10, 8, 5, 1]\n",
      "[10, 9, 8, 7, 6, 5, 4, 3, 2, 1]\n"
     ]
    }
   ],
   "source": [
    "print(reversed([1,5,8,-10]))\n",
    "print(list(reversed([1,5,8,-10])))\n",
    "print(list(reversed(range(1,11))))"
   ]
  },
  {
   "cell_type": "markdown",
   "metadata": {},
   "source": [
    "Note that this can also be achieved by slicing appropriately."
   ]
  },
  {
   "cell_type": "code",
   "execution_count": 61,
   "metadata": {
    "ExecuteTime": {
     "end_time": "2023-10-04T11:40:36.170036Z",
     "start_time": "2023-10-04T11:40:36.164156Z"
    }
   },
   "outputs": [
    {
     "data": {
      "text/plain": [
       "[-10, 8, 5, 1]"
      ]
     },
     "execution_count": 61,
     "metadata": {},
     "output_type": "execute_result"
    }
   ],
   "source": [
    "[1,5,8,-10][::-1]"
   ]
  },
  {
   "cell_type": "markdown",
   "metadata": {},
   "source": [
    "The function `zip()` combines sequences into a list of pairs."
   ]
  },
  {
   "cell_type": "code",
   "execution_count": 62,
   "metadata": {
    "ExecuteTime": {
     "end_time": "2023-10-04T11:40:37.404710Z",
     "start_time": "2023-10-04T11:40:37.400591Z"
    },
    "scrolled": true
   },
   "outputs": [
    {
     "name": "stdout",
     "output_type": "stream",
     "text": [
      "<zip object at 0x11fb2c700>\n",
      "[(3, 4), (55, 5), (1, 2), (2, -7)]\n"
     ]
    }
   ],
   "source": [
    "list_a=[3,55,1,2]\n",
    "list_b=[4,5,2,-7]\n",
    "print(zip(list_a,list_b))\n",
    "print(list(zip(list_a,list_b)))"
   ]
  },
  {
   "cell_type": "code",
   "execution_count": 63,
   "metadata": {
    "ExecuteTime": {
     "end_time": "2023-10-04T11:40:38.051539Z",
     "start_time": "2023-10-04T11:40:38.048294Z"
    },
    "scrolled": true
   },
   "outputs": [
    {
     "name": "stdout",
     "output_type": "stream",
     "text": [
      "[(1.0, 0.0), (0.9998476951563913, 0.01745240643728351), (0.9993908270190958, 0.03489949670250097), (0.9986295347545738, 0.052335956242943835), (0.9975640502598242, 0.0697564737441253)]\n",
      "[(1.0, 0.0), (0.9998476951563913, 0.01745240643728351), (0.9993908270190958, 0.03489949670250097), (0.9986295347545738, 0.052335956242943835), (0.9975640502598242, 0.0697564737441253)]\n"
     ]
    }
   ],
   "source": [
    "print(list(zip(x_coord,y_coord))[:5])\n",
    "print(circle_coordinates[:5])"
   ]
  },
  {
   "cell_type": "markdown",
   "metadata": {},
   "source": [
    "Finally, the function `enumerate()` enumerates a sequence by zipping it with `range(len(sequence))`."
   ]
  },
  {
   "cell_type": "code",
   "execution_count": 64,
   "metadata": {
    "ExecuteTime": {
     "end_time": "2023-10-04T11:40:39.477532Z",
     "start_time": "2023-10-04T11:40:39.471369Z"
    }
   },
   "outputs": [
    {
     "name": "stdout",
     "output_type": "stream",
     "text": [
      "[3, 55, 1, 2]\n",
      "[(0, 3), (1, 55), (2, 1), (3, 2)]\n",
      "[(0, 3), (1, 55), (2, 1), (3, 2)]\n",
      "<enumerate object at 0x13fa47d80>\n"
     ]
    }
   ],
   "source": [
    "print(list_a)\n",
    "range_a=range(len(list_a))\n",
    "print(list(zip(range_a,list_a)))\n",
    "print(list(enumerate(list_a)))\n",
    "print(enumerate(list_a))"
   ]
  },
  {
   "cell_type": "markdown",
   "metadata": {},
   "source": [
    "## Conclusion and Outlook"
   ]
  },
  {
   "cell_type": "markdown",
   "metadata": {},
   "source": [
    "In this lecture we have discussed sequences and built-in functions, ending with a brief introduction to user-defined functions."
   ]
  },
  {
   "cell_type": "code",
   "execution_count": 65,
   "metadata": {},
   "outputs": [
    {
     "data": {
      "text/plain": [
       "(1, 2, 3, 4)"
      ]
     },
     "execution_count": 65,
     "metadata": {},
     "output_type": "execute_result"
    }
   ],
   "source": [
    "(1, 2, 3, 4)"
   ]
  },
  {
   "cell_type": "code",
   "execution_count": 69,
   "metadata": {},
   "outputs": [
    {
     "data": {
      "text/plain": [
       "(1, 3)"
      ]
     },
     "execution_count": 69,
     "metadata": {},
     "output_type": "execute_result"
    }
   ],
   "source": [
    "tuple(i for i in range(1,5, 2))"
   ]
  },
  {
   "cell_type": "code",
   "execution_count": null,
   "metadata": {},
   "outputs": [],
   "source": []
  }
 ],
 "metadata": {
  "kernelspec": {
   "display_name": "Python 3 (ipykernel)",
   "language": "python",
   "name": "python3"
  },
  "language_info": {
   "codemirror_mode": {
    "name": "ipython",
    "version": 3
   },
   "file_extension": ".py",
   "mimetype": "text/x-python",
   "name": "python",
   "nbconvert_exporter": "python",
   "pygments_lexer": "ipython3",
   "version": "3.10.12"
  }
 },
 "nbformat": 4,
 "nbformat_minor": 4
}
