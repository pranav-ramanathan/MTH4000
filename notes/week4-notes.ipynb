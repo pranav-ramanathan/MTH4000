{
 "cells": [
  {
   "cell_type": "markdown",
   "metadata": {
    "slideshow": {
     "slide_type": "-"
    }
   },
   "source": [
    "# MTH4000 Programming in Python I - Lecture 4\n",
    "Module organisers Dr Matthew Lewis and Prof. Thomas Prellberg"
   ]
  },
  {
   "cell_type": "code",
   "execution_count": 1,
   "metadata": {
    "ExecuteTime": {
     "end_time": "2023-10-04T21:58:54.008170Z",
     "start_time": "2023-10-04T21:58:53.438633Z"
    }
   },
   "outputs": [],
   "source": [
    "import numpy as np # import some standard modules, just in case we need them\n",
    "import matplotlib.pyplot as plt"
   ]
  },
  {
   "cell_type": "markdown",
   "metadata": {},
   "source": [
    "## Functions - continued"
   ]
  },
  {
   "cell_type": "markdown",
   "metadata": {},
   "source": [
    "### User-defined functions"
   ]
  },
  {
   "cell_type": "markdown",
   "metadata": {},
   "source": [
    "Python lets you define your own functions. To give a simple example, assume you want to compute the average value of the entries of a numerical sequence. For this you need to sum all the entries in the sequence, and then divide by the total number of entries."
   ]
  },
  {
   "cell_type": "code",
   "execution_count": 2,
   "metadata": {
    "ExecuteTime": {
     "end_time": "2023-10-04T21:58:54.014975Z",
     "start_time": "2023-10-04T21:58:54.010175Z"
    }
   },
   "outputs": [
    {
     "name": "stdout",
     "output_type": "stream",
     "text": [
      "4.5\n"
     ]
    }
   ],
   "source": [
    "x=[1,2,3,4,5,6,7,8]\n",
    "x_sum=sum(x)\n",
    "x_len=len(x)\n",
    "x_ave=x_sum/x_len\n",
    "print(x_ave)"
   ]
  },
  {
   "cell_type": "markdown",
   "metadata": {},
   "source": [
    "A function allows you to easily repeat this calculation (just as `sum()` allows you to easily sum up the terms). The Python code to define such as function is as follows. (Note that the function `numpy.mean()` does the same thing.)"
   ]
  },
  {
   "cell_type": "code",
   "execution_count": 5,
   "metadata": {
    "ExecuteTime": {
     "end_time": "2023-10-04T21:58:54.021134Z",
     "start_time": "2023-10-04T21:58:54.016986Z"
    }
   },
   "outputs": [],
   "source": [
    "average = lambda x: sum(x)/len(x)"
   ]
  },
  {
   "cell_type": "markdown",
   "metadata": {},
   "source": [
    "Lets have a closer look at this definition.\n",
    "\n",
    "* The keyword `def` starts the definition of the function.\n",
    "* The *name* of the function follows `def`.\n",
    "* Input parameters are given in parentheses after the *name*, separated by commas.\n",
    "* The definition statement is ended with `:`.\n",
    "* The *body* of the definition is indented. All lines start with an equal number of spaces.\n",
    "* The output of the function is specified by the keyword `return`.\n",
    "* The line following the definition statement is an optional *documentation string* in quotation marks describing the function.\n",
    "* The hash '#' starts a line of *comments* which you can use to explain the code"
   ]
  },
  {
   "cell_type": "markdown",
   "metadata": {},
   "source": [
    "We can now test the function."
   ]
  },
  {
   "cell_type": "code",
   "execution_count": 6,
   "metadata": {
    "ExecuteTime": {
     "end_time": "2023-10-04T21:58:54.031352Z",
     "start_time": "2023-10-04T21:58:54.024142Z"
    },
    "scrolled": true
   },
   "outputs": [
    {
     "data": {
      "text/plain": [
       "4.5"
      ]
     },
     "execution_count": 6,
     "metadata": {},
     "output_type": "execute_result"
    }
   ],
   "source": [
    "average([1,2,3,4,5,6,7,8])"
   ]
  },
  {
   "cell_type": "markdown",
   "metadata": {},
   "source": [
    "Of course, in practice, you sometimes skip most of the above detail, especially when the resulting code still looks understandable such as in:"
   ]
  },
  {
   "cell_type": "code",
   "execution_count": 7,
   "metadata": {
    "ExecuteTime": {
     "end_time": "2023-10-04T21:58:54.036907Z",
     "start_time": "2023-10-04T21:58:54.033361Z"
    }
   },
   "outputs": [],
   "source": [
    "def ave(x):\n",
    "    return sum(x)/len(x)"
   ]
  },
  {
   "cell_type": "code",
   "execution_count": 8,
   "metadata": {
    "ExecuteTime": {
     "end_time": "2023-10-04T21:58:54.047048Z",
     "start_time": "2023-10-04T21:58:54.039920Z"
    }
   },
   "outputs": [
    {
     "data": {
      "text/plain": [
       "4.5"
      ]
     },
     "execution_count": 8,
     "metadata": {},
     "output_type": "execute_result"
    }
   ],
   "source": [
    "ave([1,2,3,4,5,6,7,8])"
   ]
  },
  {
   "cell_type": "markdown",
   "metadata": {},
   "source": [
    "### Document string and comments"
   ]
  },
  {
   "cell_type": "markdown",
   "metadata": {},
   "source": [
    "It is good practice to document your code well, and I encourage you to make use of the documentation string as well as the comment lines. The documentation string of any function is accessible using the question mark `?` or the built-in help function `help()`. "
   ]
  },
  {
   "cell_type": "code",
   "execution_count": 9,
   "metadata": {
    "ExecuteTime": {
     "end_time": "2023-10-04T21:58:54.055742Z",
     "start_time": "2023-10-04T21:58:54.049090Z"
    }
   },
   "outputs": [
    {
     "name": "stdout",
     "output_type": "stream",
     "text": [
      "Help on function <lambda> in module __main__:\n",
      "\n",
      "<lambda> lambda x\n",
      "\n"
     ]
    }
   ],
   "source": [
    "# this shows the document string just below the code box\n",
    "help(average)"
   ]
  },
  {
   "cell_type": "code",
   "execution_count": 10,
   "metadata": {
    "ExecuteTime": {
     "end_time": "2023-10-04T21:58:54.103993Z",
     "start_time": "2023-10-04T21:58:54.057750Z"
    }
   },
   "outputs": [
    {
     "data": {
      "text/plain": [
       "\u001b[0;31mSignature:\u001b[0m \u001b[0maverage\u001b[0m\u001b[0;34m(\u001b[0m\u001b[0mx\u001b[0m\u001b[0;34m)\u001b[0m\u001b[0;34m\u001b[0m\u001b[0;34m\u001b[0m\u001b[0m\n",
       "\u001b[0;31mDocstring:\u001b[0m <no docstring>\n",
       "\u001b[0;31mFile:\u001b[0m      /var/folders/7x/nlby_cyd5z9bc_8lydt0xjsr0000gn/T/ipykernel_54261/2896339599.py\n",
       "\u001b[0;31mType:\u001b[0m      function"
      ]
     },
     "metadata": {},
     "output_type": "display_data"
    }
   ],
   "source": [
    "# this shows the document string in a separate section at the bottom of the browser window\n",
    "?average"
   ]
  },
  {
   "cell_type": "markdown",
   "metadata": {},
   "source": [
    "This also works for built-in functions, as you have seen earlier."
   ]
  },
  {
   "cell_type": "code",
   "execution_count": 11,
   "metadata": {
    "ExecuteTime": {
     "end_time": "2023-10-04T21:58:54.111351Z",
     "start_time": "2023-10-04T21:58:54.106003Z"
    }
   },
   "outputs": [
    {
     "data": {
      "text/plain": [
       "\u001b[0;31mSignature:\u001b[0m \u001b[0mlen\u001b[0m\u001b[0;34m(\u001b[0m\u001b[0mobj\u001b[0m\u001b[0;34m,\u001b[0m \u001b[0;34m/\u001b[0m\u001b[0;34m)\u001b[0m\u001b[0;34m\u001b[0m\u001b[0;34m\u001b[0m\u001b[0m\n",
       "\u001b[0;31mDocstring:\u001b[0m Return the number of items in a container.\n",
       "\u001b[0;31mType:\u001b[0m      builtin_function_or_method"
      ]
     },
     "metadata": {},
     "output_type": "display_data"
    }
   ],
   "source": [
    "?len"
   ]
  },
  {
   "cell_type": "markdown",
   "metadata": {},
   "source": [
    "If we use triple quotes, we can extend the document string over several lines. Lets add more documentation to our function."
   ]
  },
  {
   "cell_type": "code",
   "execution_count": 12,
   "metadata": {
    "ExecuteTime": {
     "end_time": "2023-10-04T21:58:54.120321Z",
     "start_time": "2023-10-04T21:58:54.116356Z"
    }
   },
   "outputs": [],
   "source": [
    "def average(x): \n",
    "    \"\"\"Compute the average of the values in the sequence x.\n",
    "    \n",
    "    Parameters\n",
    "        x: any iterable with numerical values\n",
    "    \n",
    "    Returns:\n",
    "        the average value of all the values in the iterable\n",
    "    \n",
    "    Examples\n",
    "        >>> average([1,2,3])\n",
    "        2.0\n",
    "    \"\"\"\n",
    "    x_sum=sum(x)\n",
    "    x_len=len(x)\n",
    "    return x_sum/x_len"
   ]
  },
  {
   "cell_type": "code",
   "execution_count": 13,
   "metadata": {
    "ExecuteTime": {
     "end_time": "2023-10-04T21:58:54.127997Z",
     "start_time": "2023-10-04T21:58:54.123329Z"
    }
   },
   "outputs": [
    {
     "data": {
      "text/plain": [
       "\u001b[0;31mSignature:\u001b[0m \u001b[0maverage\u001b[0m\u001b[0;34m(\u001b[0m\u001b[0mx\u001b[0m\u001b[0;34m)\u001b[0m\u001b[0;34m\u001b[0m\u001b[0;34m\u001b[0m\u001b[0m\n",
       "\u001b[0;31mDocstring:\u001b[0m\n",
       "Compute the average of the values in the sequence x.\n",
       "\n",
       "Parameters\n",
       "    x: any iterable with numerical values\n",
       "\n",
       "Returns:\n",
       "    the average value of all the values in the iterable\n",
       "\n",
       "Examples\n",
       "    >>> average([1,2,3])\n",
       "    2.0\n",
       "\u001b[0;31mFile:\u001b[0m      /var/folders/7x/nlby_cyd5z9bc_8lydt0xjsr0000gn/T/ipykernel_54261/2337320597.py\n",
       "\u001b[0;31mType:\u001b[0m      function"
      ]
     },
     "metadata": {},
     "output_type": "display_data"
    }
   ],
   "source": [
    "?average"
   ]
  },
  {
   "cell_type": "markdown",
   "metadata": {},
   "source": [
    "More information about documentation string conventions can be found [here](http://www.python.org/dev/peps/pep-0257/).\n"
   ]
  },
  {
   "cell_type": "markdown",
   "metadata": {},
   "source": [
    "### Input parameters"
   ]
  },
  {
   "cell_type": "markdown",
   "metadata": {},
   "source": [
    "You can have one or more input parameters (or arguments) in a function definition."
   ]
  },
  {
   "cell_type": "code",
   "execution_count": 14,
   "metadata": {
    "ExecuteTime": {
     "end_time": "2023-10-04T21:58:54.135365Z",
     "start_time": "2023-10-04T21:58:54.130008Z"
    }
   },
   "outputs": [],
   "source": [
    "# def cartesian(r,phi):\n",
    "#     \"Compute the Cartesian coordinates (x,y) from polar coordinates (r,phi)\"\n",
    "#     return (r*np.cos(phi),r*np.sin(phi))\n",
    "def cartesian(r, phi):\n",
    "    \"Compute the Cartesian coordinates (x,y) from polar coordinates (r,phi)\"\n",
    "    return r*np.cos(phi),r*np.sin(phi)"
   ]
  },
  {
   "cell_type": "code",
   "execution_count": 23,
   "metadata": {
    "ExecuteTime": {
     "end_time": "2023-10-04T21:58:54.143514Z",
     "start_time": "2023-10-04T21:58:54.138378Z"
    }
   },
   "outputs": [
    {
     "name": "stdout",
     "output_type": "stream",
     "text": [
      "0.7071067811865476 0.7071067811865475\n"
     ]
    }
   ],
   "source": [
    "x, y = cartesian(1,np.pi/4)\n",
    "print(x, y)"
   ]
  },
  {
   "cell_type": "markdown",
   "metadata": {},
   "source": [
    "A very helpful (but initially perhaps confusing) feature is that functions themselves can also be used as arguments. The following example is just to illustrate the principle. `apply_the_function()` takes two arguments, a function and an argument. It returns the value of the function when applied to the argument, so `apply_the_function(f,x)` essentially is just another way of writing `f(x)`."
   ]
  },
  {
   "cell_type": "code",
   "execution_count": null,
   "metadata": {
    "ExecuteTime": {
     "end_time": "2023-10-04T21:58:54.148726Z",
     "start_time": "2023-10-04T21:58:54.144522Z"
    }
   },
   "outputs": [],
   "source": [
    "def apply_the_function(f,x):\n",
    "    return f(x)"
   ]
  },
  {
   "cell_type": "markdown",
   "metadata": {},
   "source": [
    "This may seem silly, but let's put it to use:"
   ]
  },
  {
   "cell_type": "code",
   "execution_count": null,
   "metadata": {
    "ExecuteTime": {
     "end_time": "2023-10-04T21:58:54.156230Z",
     "start_time": "2023-10-04T21:58:54.149733Z"
    }
   },
   "outputs": [],
   "source": [
    "print(apply_the_function(abs,1+1j))\n",
    "print(apply_the_function(len,[1,1,1]))"
   ]
  },
  {
   "cell_type": "markdown",
   "metadata": {},
   "source": [
    "It is important to note that we use the function name, e.g. `abs` or `len`, and not try to write `abs(x)` or anything like that."
   ]
  },
  {
   "cell_type": "markdown",
   "metadata": {},
   "source": [
    "Let's practice this idea by writing a function `apply_the_operation()`, assuming we want to apply an operation such as addition of two numbers."
   ]
  },
  {
   "cell_type": "code",
   "execution_count": null,
   "metadata": {
    "ExecuteTime": {
     "end_time": "2023-10-04T21:58:54.162940Z",
     "start_time": "2023-10-04T21:58:54.159239Z"
    }
   },
   "outputs": [],
   "source": [
    "def addition(x,y):\n",
    "    return x+y"
   ]
  },
  {
   "cell_type": "markdown",
   "metadata": {},
   "source": [
    "In analogy to the previous example, we can write"
   ]
  },
  {
   "cell_type": "code",
   "execution_count": null,
   "metadata": {
    "ExecuteTime": {
     "end_time": "2023-10-04T21:58:54.169672Z",
     "start_time": "2023-10-04T21:58:54.164954Z"
    }
   },
   "outputs": [],
   "source": [
    "def apply_the_operation(f,x,y):\n",
    "    return f(x,y)"
   ]
  },
  {
   "cell_type": "markdown",
   "metadata": {},
   "source": [
    "To test this, we simply write"
   ]
  },
  {
   "cell_type": "code",
   "execution_count": null,
   "metadata": {
    "ExecuteTime": {
     "end_time": "2023-10-04T21:58:54.179117Z",
     "start_time": "2023-10-04T21:58:54.173685Z"
    }
   },
   "outputs": [],
   "source": [
    "apply_the_operation(addition,2,3)"
   ]
  },
  {
   "cell_type": "markdown",
   "metadata": {},
   "source": [
    "### Example: applying a function to every element of a list"
   ]
  },
  {
   "cell_type": "markdown",
   "metadata": {},
   "source": [
    "We already know that functions in numpy can be applied element-wise to a list."
   ]
  },
  {
   "cell_type": "code",
   "execution_count": null,
   "metadata": {
    "ExecuteTime": {
     "end_time": "2023-10-04T21:58:54.186139Z",
     "start_time": "2023-10-04T21:58:54.181123Z"
    }
   },
   "outputs": [],
   "source": [
    "import numpy as np\n",
    "print(np.sin([0,0.25*np.pi,0.5*np.pi]))"
   ]
  },
  {
   "cell_type": "markdown",
   "metadata": {},
   "source": [
    "Python has a built-in function `map()` that maps the first argument to every element of a list. It does not actually evaluate this operation but returns a generator, so we have to do a list conversion to see its result."
   ]
  },
  {
   "cell_type": "code",
   "execution_count": null,
   "metadata": {
    "ExecuteTime": {
     "end_time": "2023-10-04T21:58:54.195696Z",
     "start_time": "2023-10-04T21:58:54.190150Z"
    },
    "scrolled": true
   },
   "outputs": [],
   "source": [
    "import math\n",
    "print(list(map(math.sin,[0,0.25*math.pi,0.5*math.pi])))"
   ]
  },
  {
   "cell_type": "markdown",
   "metadata": {},
   "source": [
    "Let us now write a function `my_map()` from scratch."
   ]
  },
  {
   "cell_type": "code",
   "execution_count": null,
   "metadata": {
    "ExecuteTime": {
     "end_time": "2023-10-04T21:58:54.201861Z",
     "start_time": "2023-10-04T21:58:54.197705Z"
    }
   },
   "outputs": [],
   "source": [
    "def my_map(f,l):\n",
    "    return [f(x) for x in l]"
   ]
  },
  {
   "cell_type": "markdown",
   "metadata": {},
   "source": [
    "A final test shows that we get the same result (without the need to do a list conversion)."
   ]
  },
  {
   "cell_type": "code",
   "execution_count": null,
   "metadata": {
    "ExecuteTime": {
     "end_time": "2023-10-04T21:58:54.210714Z",
     "start_time": "2023-10-04T21:58:54.205871Z"
    }
   },
   "outputs": [],
   "source": [
    "print(my_map(math.sin,[0,0.25*math.pi,0.5*math.pi]))"
   ]
  },
  {
   "cell_type": "markdown",
   "metadata": {},
   "source": [
    "### A longer example"
   ]
  },
  {
   "cell_type": "markdown",
   "metadata": {},
   "source": [
    "There is a nice formula to compute the area $A$ of a triangle from its side length $a$, $b$, and $c$ due to [Heron](http://en.wikipedia.org/wiki/Heron%27s_formula):\n",
    "$$A=\\sqrt{s(s-a)(s-b)(s-c)}\\quad\\text{where}\\quad s=\\frac{a+b+c}2\\;.$$"
   ]
  },
  {
   "cell_type": "markdown",
   "metadata": {},
   "source": [
    "We want to write a function `area_triangle` that takes as its arguments the points $A$, $B$, and $C$ of the triangle given as tuples of Cartesian coordinates."
   ]
  },
  {
   "cell_type": "code",
   "execution_count": null,
   "metadata": {
    "ExecuteTime": {
     "end_time": "2023-10-04T21:58:54.218373Z",
     "start_time": "2023-10-04T21:58:54.212720Z"
    }
   },
   "outputs": [],
   "source": [
    "def area_triangle(A,B,C):\n",
    "    '''Compute the area of a triangle with given vertices.\n",
    "\n",
    "    Parameters\n",
    "    ----------\n",
    "        A1, A2, A3: tuples of numbers\n",
    "            Cartesian coordinates of the vertices of the triangle\n",
    "\n",
    "    Returns\n",
    "    -------\n",
    "        float\n",
    "            Area of the triangle computed by Heron's formula.\n",
    "\n",
    "    Examples\n",
    "    --------\n",
    "        >>> area_triangle((0,0),(3,0),(0,4))\n",
    "        6.0\n",
    "        >>> area_triangle((-1,2),(-3,-1),(4,1))\n",
    "        8.500000000000005\n",
    "    '''\n",
    "    # Compute the length of side a\n",
    "    a = ((B[0]-C[0])**2+(B[1]-C[1])**2)**0.5\n",
    "    \n",
    "    # Compute the length of side b\n",
    "    b = ((C[0]-A[0])**2+(C[1]-A[1])**2)**0.5\n",
    "    \n",
    "    # Compute the length of side c\n",
    "    c = ((A[0]-B[0])**2+(A[1]-B[1])**2)**0.5\n",
    "\n",
    "    # Compute the semiperimeter s\n",
    "    s = (a+b+c)/2\n",
    "    \n",
    "    # Compute the area\n",
    "    area = (s*(s-a)*(s-b)*(s-c))**0.5\n",
    "\n",
    "    return area"
   ]
  },
  {
   "cell_type": "markdown",
   "metadata": {},
   "source": [
    "Lets test this on a several simple cases (where you can compute the area in your head):"
   ]
  },
  {
   "cell_type": "code",
   "execution_count": null,
   "metadata": {
    "ExecuteTime": {
     "end_time": "2023-10-04T21:58:54.226491Z",
     "start_time": "2023-10-04T21:58:54.221382Z"
    },
    "scrolled": true
   },
   "outputs": [],
   "source": [
    "print(area_triangle((0,0),(12,0),(0,5)))\n",
    "print(area_triangle((0,0),(8,0),(4,3)))"
   ]
  },
  {
   "cell_type": "markdown",
   "metadata": {},
   "source": [
    "### Local versus global variables"
   ]
  },
  {
   "cell_type": "markdown",
   "metadata": {},
   "source": [
    "Just as we had discussed last week in the context of *list comprehensions*, local variables play an important role when dealing with functions. The following two functions are identical, as the name of the function parameter is only known inside the function. (Sometimes these local variables are also called 'dummy' variables, as their name does not matter, they are just placeholders. You know this from integrating: $\\int_0^1f(x)dx=\\int_0^1f(t)dt$ irrespective of the use of $x$ or $t$."
   ]
  },
  {
   "cell_type": "code",
   "execution_count": null,
   "metadata": {
    "ExecuteTime": {
     "end_time": "2023-10-04T21:58:54.233548Z",
     "start_time": "2023-10-04T21:58:54.229503Z"
    }
   },
   "outputs": [],
   "source": [
    "def f1(x):\n",
    "    y=2\n",
    "    return x*y\n",
    "\n",
    "def f2(t):\n",
    "    s=2\n",
    "    return s*t"
   ]
  },
  {
   "cell_type": "code",
   "execution_count": null,
   "metadata": {
    "ExecuteTime": {
     "end_time": "2023-10-04T21:58:54.243081Z",
     "start_time": "2023-10-04T21:58:54.236558Z"
    }
   },
   "outputs": [],
   "source": [
    "f1(3),f2(3)"
   ]
  },
  {
   "cell_type": "markdown",
   "metadata": {},
   "source": [
    "None of the variables x,y,s,t used inside the function are known outside. In fact, if there is any variable with the same name defined outside the function, it will remain unaltered."
   ]
  },
  {
   "cell_type": "code",
   "execution_count": null,
   "metadata": {
    "ExecuteTime": {
     "end_time": "2023-10-04T21:58:54.250219Z",
     "start_time": "2023-10-04T21:58:54.245092Z"
    }
   },
   "outputs": [],
   "source": [
    "def f3(x):\n",
    "    y=2\n",
    "    print('(x,y)=',(x,y),'inside f3')\n",
    "    return x*y\n",
    "\n",
    "x=-1\n",
    "y=3\n",
    "print('(x,y)=',(x,y),'outside f3')\n",
    "z=f3(10)\n",
    "print('(x,y)=',(x,y),'outside f3')\n",
    "print('output of f3:',z)"
   ]
  },
  {
   "cell_type": "markdown",
   "metadata": {},
   "source": [
    "Note in particular that if we use a function call `g(x)`, changing `x` inside the function does *NOT* have any effect on `x` outside the function."
   ]
  },
  {
   "cell_type": "code",
   "execution_count": null,
   "metadata": {
    "ExecuteTime": {
     "end_time": "2023-10-04T21:58:54.262511Z",
     "start_time": "2023-10-04T21:58:54.258228Z"
    }
   },
   "outputs": [],
   "source": [
    "def f4(x):\n",
    "    x=x*x\n",
    "    return x\n",
    "\n",
    "x=9\n",
    "print(x)\n",
    "print(f4(x))\n",
    "print(x)"
   ]
  },
  {
   "cell_type": "markdown",
   "metadata": {},
   "source": [
    "Equally importantly, the value of a variable defined outside the function *is* known inside the function, but cannot be altered by it."
   ]
  },
  {
   "cell_type": "code",
   "execution_count": null,
   "metadata": {
    "ExecuteTime": {
     "end_time": "2023-10-04T21:58:54.269396Z",
     "start_time": "2023-10-04T21:58:54.264518Z"
    }
   },
   "outputs": [],
   "source": [
    "def f(x):\n",
    "    print(x,z)\n",
    "    # z=-2 # produces error\n",
    "    x=-2 # does not produce an error\n",
    "    print(x,z)\n",
    "#z=99\n",
    "#x=10\n",
    "f(x)\n",
    "print(x,z)"
   ]
  },
  {
   "cell_type": "markdown",
   "metadata": {},
   "source": [
    "### The importance of the `return` statement"
   ]
  },
  {
   "cell_type": "markdown",
   "metadata": {},
   "source": [
    "Note that in the last example, `f(x)` did **not** contain a return statement, and while the function prints someting out, it doesn't give any output!"
   ]
  },
  {
   "cell_type": "code",
   "execution_count": null,
   "metadata": {
    "ExecuteTime": {
     "end_time": "2023-10-04T21:58:54.276040Z",
     "start_time": "2023-10-04T21:58:54.272405Z"
    },
    "scrolled": true
   },
   "outputs": [],
   "source": [
    "f(x)"
   ]
  },
  {
   "cell_type": "markdown",
   "metadata": {},
   "source": [
    "If we want to have output (for example, to assign the output to another variable) we have to use the `return` statement. We can still assign the non-existing output of a function without a `return` to a variable."
   ]
  },
  {
   "cell_type": "code",
   "execution_count": null,
   "metadata": {
    "ExecuteTime": {
     "end_time": "2023-10-04T21:58:54.282146Z",
     "start_time": "2023-10-04T21:58:54.278050Z"
    }
   },
   "outputs": [],
   "source": [
    "r=f(x)\n",
    "r"
   ]
  },
  {
   "cell_type": "markdown",
   "metadata": {},
   "source": [
    "Note that `r` produced no output either. What is going on? `r` actually has the value `None`, which we can see if we print it."
   ]
  },
  {
   "cell_type": "code",
   "execution_count": null,
   "metadata": {
    "ExecuteTime": {
     "end_time": "2023-10-04T21:58:54.290273Z",
     "start_time": "2023-10-04T21:58:54.284154Z"
    }
   },
   "outputs": [],
   "source": [
    "print(r)"
   ]
  },
  {
   "cell_type": "markdown",
   "metadata": {},
   "source": [
    "Lesson to be learned: if you want output, use a `return` statement:"
   ]
  },
  {
   "cell_type": "code",
   "execution_count": null,
   "metadata": {
    "ExecuteTime": {
     "end_time": "2023-10-04T21:58:54.300001Z",
     "start_time": "2023-10-04T21:58:54.292286Z"
    }
   },
   "outputs": [],
   "source": [
    "def f_new(x):\n",
    "    print(x,z)\n",
    "    # z=-2 # produces error\n",
    "    x=-2 # does not produce an error\n",
    "    print(x,z)\n",
    "    return x,z\n",
    "z=99\n",
    "x=10\n",
    "out=f_new(x)\n",
    "print(out)"
   ]
  },
  {
   "cell_type": "markdown",
   "metadata": {},
   "source": [
    "## Lambda functions"
   ]
  },
  {
   "cell_type": "markdown",
   "metadata": {},
   "source": [
    "Python knows a programming concept called [Lambda Functions](http://en.wikipedia.org/wiki/Anonymous_function). The name \"Lambda\" is used for historical reasons. It is related to a formal system in mathematical logic called [Lambda Calculus](https://en.wikipedia.org/wiki/Lambda_calculus). Regarding the choice of the name, see [here](https://math.stackexchange.com/questions/64468/why-is-lambda-calculus-named-after-that-specific-greek-letter-why-not-rho-calc)."
   ]
  },
  {
   "cell_type": "markdown",
   "metadata": {},
   "source": [
    "Let us assume that a function has a body that is a simple one line statement, such as in\n",
    "```python\n",
    "def f(x):\n",
    "    return x*x\n",
    "```\n",
    "Instead of this, we can write\n",
    "```python\n",
    "f = lambda x: x*x\n",
    "```\n",
    "with the keyword `lambda`. This is a lambda function, and the advantage is that we can use it without ever giving the function a name, which is why lambda functions are also called anonymous functions."
   ]
  },
  {
   "cell_type": "code",
   "execution_count": null,
   "metadata": {
    "ExecuteTime": {
     "end_time": "2023-10-04T21:58:54.307773Z",
     "start_time": "2023-10-04T21:58:54.302008Z"
    }
   },
   "outputs": [],
   "source": [
    "(lambda x: x*x)(-4)"
   ]
  },
  {
   "cell_type": "markdown",
   "metadata": {},
   "source": [
    "A detailed discussion of lambda functions is more elaborate, but we will just want to use Lambda functions when convenient. Let us for a moment go back to the `apply_the_function()` example"
   ]
  },
  {
   "cell_type": "code",
   "execution_count": null,
   "metadata": {
    "ExecuteTime": {
     "end_time": "2023-10-04T21:58:54.312999Z",
     "start_time": "2023-10-04T21:58:54.308779Z"
    }
   },
   "outputs": [],
   "source": [
    "def apply_the_function(f,x):\n",
    "    return f(x)"
   ]
  },
  {
   "cell_type": "markdown",
   "metadata": {},
   "source": [
    "To use it on $f(x)=x^2$, we needed to first define the function `f()`."
   ]
  },
  {
   "cell_type": "code",
   "execution_count": null,
   "metadata": {
    "ExecuteTime": {
     "end_time": "2023-10-04T21:58:54.319686Z",
     "start_time": "2023-10-04T21:58:54.315010Z"
    }
   },
   "outputs": [],
   "source": [
    "def f(x):\n",
    "    return x**2\n",
    "apply_the_function(f,2)"
   ]
  },
  {
   "cell_type": "markdown",
   "metadata": {},
   "source": [
    "Lambda functions allow us to write the same without ever defining `f()`:"
   ]
  },
  {
   "cell_type": "code",
   "execution_count": null,
   "metadata": {
    "ExecuteTime": {
     "end_time": "2023-10-04T21:58:54.327472Z",
     "start_time": "2023-10-04T21:58:54.322712Z"
    }
   },
   "outputs": [],
   "source": [
    "apply_the_function(lambda x: x**2,2)"
   ]
  },
  {
   "cell_type": "markdown",
   "metadata": {},
   "source": [
    "You can use either, but I find lambda functions sometimes more convenient and will use them accordingly. To come back to the average function, defined above, here is what it would look when used as a lambda function:"
   ]
  },
  {
   "cell_type": "code",
   "execution_count": null,
   "metadata": {
    "ExecuteTime": {
     "end_time": "2023-10-04T21:58:54.334286Z",
     "start_time": "2023-10-04T21:58:54.328482Z"
    }
   },
   "outputs": [],
   "source": [
    "(lambda x: sum(x)/len(x))([1,2,3,4,5,6,7,8])"
   ]
  },
  {
   "cell_type": "markdown",
   "metadata": {},
   "source": [
    "## Conclusion and Outlook"
   ]
  },
  {
   "cell_type": "markdown",
   "metadata": {},
   "source": [
    "In this lecture we have discussed functions. Next week we will start with logic.\n"
   ]
  }
 ],
 "metadata": {
  "kernelspec": {
   "display_name": "Python 3 (ipykernel)",
   "language": "python",
   "name": "python3"
  },
  "language_info": {
   "codemirror_mode": {
    "name": "ipython",
    "version": 3
   },
   "file_extension": ".py",
   "mimetype": "text/x-python",
   "name": "python",
   "nbconvert_exporter": "python",
   "pygments_lexer": "ipython3",
   "version": "3.10.12"
  }
 },
 "nbformat": 4,
 "nbformat_minor": 4
}
