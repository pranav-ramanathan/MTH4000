{
 "cells": [
  {
   "cell_type": "code",
   "execution_count": 1,
   "id": "093dfb1b-9339-46c8-bc14-8ac9eed5cc89",
   "metadata": {},
   "outputs": [
    {
     "name": "stdout",
     "output_type": "stream",
     "text": [
      "Enter a int, when you input 0 it stops\n"
     ]
    },
    {
     "name": "stdin",
     "output_type": "stream",
     "text": [
      "Enter a int \n",
      " 1\n",
      "Enter a int\n",
      " 2\n",
      "Enter a int\n",
      " 3\n",
      "Enter a int\n",
      " 0\n"
     ]
    },
    {
     "name": "stdout",
     "output_type": "stream",
     "text": [
      "[3, 2, 1]\n"
     ]
    }
   ],
   "source": [
    "int_list = []\n",
    "print('Enter a int, when you input 0 it stops')\n",
    "num = int(input('Enter a int \\n'))\n",
    "int_list.append(num)\n",
    "while num != 0:\n",
    "    num = int(input('Enter a int\\n'))\n",
    "    int_list.append(num)\n",
    "int_list.sort()\n",
    "\n",
    "int_list.reverse()\n",
    "int_list.remove(0)\n",
    "print(int_list)"
   ]
  },
  {
   "cell_type": "code",
   "execution_count": 3,
   "id": "bfd7b77b-6b78-4023-947f-5732639950bd",
   "metadata": {},
   "outputs": [
    {
     "name": "stdin",
     "output_type": "stream",
     "text": [
      "enter word\n",
      " hello\n",
      "enter word \n",
      " hi\n",
      "enter word \n",
      " bye\n",
      "enter word \n",
      " \n"
     ]
    },
    {
     "data": {
      "text/plain": [
       "['hello', 'hi', 'bye']"
      ]
     },
     "execution_count": 3,
     "metadata": {},
     "output_type": "execute_result"
    }
   ],
   "source": [
    "def unique_list():\n",
    "    usr_input = input('enter word\\n')\n",
    "    word_list = []\n",
    "    while usr_input != '':\n",
    "        if usr_input != '' and usr_input not in word_list:\n",
    "            word_list.append(usr_input)\n",
    "     \n",
    "        usr_input = input('enter word \\n')\n",
    "        \n",
    "    return word_list\n",
    "unique_list()"
   ]
  },
  {
   "cell_type": "code",
   "execution_count": 5,
   "id": "6016e651-48f8-4f66-af98-aa2b6a061b79",
   "metadata": {},
   "outputs": [
    {
     "name": "stdin",
     "output_type": "stream",
     "text": [
      "enter integer\n",
      " 1\n",
      "enter integer \n",
      " 0\n",
      "enter integer \n",
      " -1\n",
      "enter integer \n",
      " \n"
     ]
    },
    {
     "data": {
      "text/plain": [
       "[-1, 0, 1]"
      ]
     },
     "execution_count": 5,
     "metadata": {},
     "output_type": "execute_result"
    }
   ],
   "source": [
    "def int_list():\n",
    "    usr_input = input('enter integer\\n')\n",
    "    int_list = []\n",
    "    while usr_input != '':\n",
    "        if usr_input != '':\n",
    "            int_list.append(int(usr_input))\n",
    "     \n",
    "        usr_input = input('enter integer \\n')\n",
    "    int_list.sort()\n",
    "    return int_list\n",
    "int_list()"
   ]
  },
  {
   "cell_type": "code",
   "execution_count": 10,
   "id": "70e3bfcf-9f7c-49a9-95d3-3df44f2b82ef",
   "metadata": {},
   "outputs": [
    {
     "data": {
      "text/plain": [
       "[1, 2, 3, 4, 5, 6, 8, 10, 12, 15, 20, 24, 30, 40, 60]"
      ]
     },
     "execution_count": 10,
     "metadata": {},
     "output_type": "execute_result"
    }
   ],
   "source": [
    "def proper_divisors(n):\n",
    "    return [i for i in range(1, n) if n % i == 0]\n",
    "\n",
    "proper_divisors(120)"
   ]
  },
  {
   "cell_type": "code",
   "execution_count": 13,
   "id": "b0780adc-9727-4324-bafa-fe68b0dd86b6",
   "metadata": {},
   "outputs": [
    {
     "data": {
      "text/plain": [
       "[6, 28, 496, 8128]"
      ]
     },
     "execution_count": 13,
     "metadata": {},
     "output_type": "execute_result"
    }
   ],
   "source": [
    "def is_perfect(n):\n",
    "    return True if sum(proper_divisors(n)) == n else False\n",
    "\n",
    "def main(range_start, range_end):\n",
    "    return [i for i in range(range_start, range_end+1) if is_perfect(i)]\n",
    "\n",
    "main(1, 10000)"
   ]
  },
  {
   "cell_type": "code",
   "execution_count": null,
   "id": "be204561-ccb5-479b-897f-d9b30565e973",
   "metadata": {},
   "outputs": [],
   "source": []
  }
 ],
 "metadata": {
  "kernelspec": {
   "display_name": "Python 3 (ipykernel)",
   "language": "python",
   "name": "python3"
  },
  "language_info": {
   "codemirror_mode": {
    "name": "ipython",
    "version": 3
   },
   "file_extension": ".py",
   "mimetype": "text/x-python",
   "name": "python",
   "nbconvert_exporter": "python",
   "pygments_lexer": "ipython3",
   "version": "3.10.12"
  }
 },
 "nbformat": 4,
 "nbformat_minor": 5
}
