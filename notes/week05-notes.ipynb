{
 "cells": [
  {
   "cell_type": "markdown",
   "metadata": {
    "slideshow": {
     "slide_type": "-"
    }
   },
   "source": [
    "# MTH4000 Programming in Python I - Lecture 5\n",
    "Module organisers Dr Matthew Lewis and Prof. Thomas Prellberg"
   ]
  },
  {
   "cell_type": "markdown",
   "metadata": {},
   "source": [
    "## Logic"
   ]
  },
  {
   "cell_type": "markdown",
   "metadata": {},
   "source": [
    "Last week, we discussed functions and how to use these to repeat operations efficiently for different input values.\n",
    "\n",
    "Up to now, our Python code has consisted out of a list of instructions that were executed sequentially one after another. However, in programming it is usually necessary to decide upon different instructions. (You can also be certain that these skills will be required of you for your project.)\n",
    "\n",
    "You are familiar with this from the definition of piecewise defined mathematical functions. To define a function that takes a real number $x$ and returns $1$ if $x$ is in the open interval $(0,1)$ and $0$ otherwise, we would write\n",
    "$$f(x)=\\begin{cases}1&\\text{for $x\\in(0,1)$,}\\\\0&\\text{otherwise.}\\end{cases}$$"
   ]
  },
  {
   "cell_type": "markdown",
   "metadata": {},
   "source": [
    "This can be written in Python as follows."
   ]
  },
  {
   "cell_type": "code",
   "execution_count": 1,
   "metadata": {
    "ExecuteTime": {
     "end_time": "2023-02-21T20:09:29.458444Z",
     "start_time": "2023-02-21T20:09:29.436947Z"
    }
   },
   "outputs": [],
   "source": [
    "def f(x):\n",
    "    if 0<x and x<1:\n",
    "        return 1\n",
    "    else:\n",
    "        return 0"
   ]
  },
  {
   "cell_type": "markdown",
   "metadata": {},
   "source": [
    "There is quite a bit of new code here that I haven't explained yet (regardless, it should be somewhat readable). For now, lets just confirm that this works by using the function to compute a few values, and then by plotting the graph of the function we have just written."
   ]
  },
  {
   "cell_type": "code",
   "execution_count": 2,
   "metadata": {
    "ExecuteTime": {
     "end_time": "2023-02-21T20:09:29.473410Z",
     "start_time": "2023-02-21T20:09:29.459411Z"
    }
   },
   "outputs": [
    {
     "name": "stdout",
     "output_type": "stream",
     "text": [
      "0 1 0\n"
     ]
    }
   ],
   "source": [
    "print(f(-1),f(1/2),f(3.14))"
   ]
  },
  {
   "cell_type": "code",
   "execution_count": 3,
   "metadata": {
    "ExecuteTime": {
     "end_time": "2023-02-21T20:09:30.103659Z",
     "start_time": "2023-02-21T20:09:29.474443Z"
    }
   },
   "outputs": [
    {
     "data": {
      "image/png": "[encoded data removed]",
      "text/plain": [
       "<Figure size 432x288 with 1 Axes>"
      ]
     },
     "metadata": {
      "needs_background": "light"
     },
     "output_type": "display_data"
    }
   ],
   "source": [
    "from matplotlib import pyplot as plt\n",
    "x=[-3+n/100 for n in range(601)] # remember that we can define the x values via np.linspace, a list, or a range\n",
    "y=[f(t) for t in x] # remember also that t is just a placeholder, [f(poo) for poo in x] would work equally well\n",
    "plt.plot(x,y)\n",
    "plt.show()"
   ]
  },
  {
   "cell_type": "markdown",
   "metadata": {},
   "source": [
    "So what's new in the code above? There are (a) comparison operators (`<`), (b) logical operators (`and`), and finally (c) an [if statement](http://docs.python.org/3/tutorial/controlflow.html#if-statements) controlling the \"flow\" of the program execution. We shall now examine these new items in turn."
   ]
  },
  {
   "cell_type": "markdown",
   "metadata": {},
   "source": [
    "### Boolean Values"
   ]
  },
  {
   "cell_type": "markdown",
   "metadata": {},
   "source": [
    "Implicit in the use of comparison and logical operators is the use of [Boolean](http://en.wikipedia.org/wiki/George_Boole) types, which can take the values `True` and `False`. We can assign Boolean values to variables as we have done with other data types."
   ]
  },
  {
   "cell_type": "code",
   "execution_count": 4,
   "metadata": {
    "ExecuteTime": {
     "end_time": "2023-02-21T20:09:30.119658Z",
     "start_time": "2023-02-21T20:09:30.107660Z"
    }
   },
   "outputs": [
    {
     "name": "stdout",
     "output_type": "stream",
     "text": [
      "True\n"
     ]
    },
    {
     "data": {
      "text/plain": [
       "bool"
      ]
     },
     "execution_count": 4,
     "metadata": {},
     "output_type": "execute_result"
    }
   ],
   "source": [
    "you_are_smart=True\n",
    "print(you_are_smart)\n",
    "type(you_are_smart)"
   ]
  },
  {
   "cell_type": "markdown",
   "metadata": {},
   "source": [
    "### Comparison Operators"
   ]
  },
  {
   "cell_type": "markdown",
   "metadata": {},
   "source": [
    "The above comparison `0<x` gives as output a Boolean variable, if `x` is of type int or float."
   ]
  },
  {
   "cell_type": "code",
   "execution_count": 5,
   "metadata": {
    "ExecuteTime": {
     "end_time": "2023-02-21T20:09:30.135659Z",
     "start_time": "2023-02-21T20:09:30.122661Z"
    }
   },
   "outputs": [
    {
     "name": "stdout",
     "output_type": "stream",
     "text": [
      "True\n",
      "False\n",
      "False\n"
     ]
    }
   ],
   "source": [
    "print(0<1)\n",
    "print(1<0)\n",
    "print(2<2)"
   ]
  },
  {
   "cell_type": "markdown",
   "metadata": {},
   "source": [
    "More generally, comparison operators \"compare\" two objects and return a Boolean value. There are eight comparison operations in Python:\n",
    "\n",
    "|Operation|Meaning|\n",
    "|---|---|\n",
    "|`<`|strictly less than|\n",
    "|`<=`|less than or equal to|\n",
    "|`>`|strictly greater than|\n",
    "|`>=`|greater than or equal to|\n",
    "|`==`|equal|\n",
    "|`!=`|not equal|\n",
    "|`is`|object identity|\n",
    "|`is not`|negated object identity|\n",
    "\n",
    "For numerical comparisons it is sufficient to focus on the first six of these. (Object identity is related to how data is stored in Python. More about this later.)"
   ]
  },
  {
   "cell_type": "code",
   "execution_count": 6,
   "metadata": {
    "ExecuteTime": {
     "end_time": "2023-02-21T20:09:30.151670Z",
     "start_time": "2023-02-21T20:09:30.137656Z"
    }
   },
   "outputs": [
    {
     "name": "stdout",
     "output_type": "stream",
     "text": [
      "True\n",
      "False\n",
      "True\n",
      "True\n",
      "False\n",
      "False\n",
      "True\n"
     ]
    }
   ],
   "source": [
    "print(0<=0)\n",
    "print(0>0)\n",
    "print(0>=0)\n",
    "print(0==0)\n",
    "print(0!=0)\n",
    "print(0==1)\n",
    "print(0!=1)"
   ]
  },
  {
   "cell_type": "markdown",
   "metadata": {},
   "source": [
    "**One common mistake beginning programmers make is to confuse '=' (assignment) with '==' (equality comparison): while `a==2` tests whether `a` has the value 2, `a=2` assigns the value 2 to `a`.**"
   ]
  },
  {
   "cell_type": "markdown",
   "metadata": {},
   "source": [
    "### Boolean Operators"
   ]
  },
  {
   "cell_type": "markdown",
   "metadata": {},
   "source": [
    "Boolean Operators `and`, `or`, and `not` can be used to combine Boolean values, giving results just as you would expect from logic statements in mathematics."
   ]
  },
  {
   "cell_type": "code",
   "execution_count": 7,
   "metadata": {
    "ExecuteTime": {
     "end_time": "2023-02-21T20:09:30.167211Z",
     "start_time": "2023-02-21T20:09:30.154187Z"
    }
   },
   "outputs": [
    {
     "name": "stdout",
     "output_type": "stream",
     "text": [
      "False\n",
      "True\n",
      "False\n"
     ]
    }
   ],
   "source": [
    "print(True and False)\n",
    "print(True or False)\n",
    "print(not True)"
   ]
  },
  {
   "cell_type": "markdown",
   "metadata": {},
   "source": [
    "Python implements these operators as follows:\n",
    "\n",
    "|Operation|Meaning|\n",
    "|---|---|\n",
    "|`x or y`|if x is false, then y, else x|\n",
    "|`x and y`|if x is false, then x, else y|\n",
    "|`not x`|if x is false, then `True`, else `False`|\n",
    "\n",
    "This is important to note, as for example when executing `x or y` Python does not evaluate `y` if `x` is true."
   ]
  },
  {
   "cell_type": "markdown",
   "metadata": {},
   "source": [
    "--- \n",
    "\n",
    "As an aside, note that other data can be evaluated as Boolean values in comparisons. This can lead to confusion unless you are really able to clearly think through the logic. But some lazy programmers love to use it, so I need to mention the following.\n",
    "\n",
    "Generally zero values or empty collections of elements are `False` (e.g. `0`, `0.0`, `0j`, `''`, `()`, `[]`, `range(0)`), non-zero values or non-empty collections are `True`. For example, `not 0` is `True`, as `0` evaluates to `False`. For example, when computing `not 5`, Python evaluates `5` to be `True`, and hence `not 5` is `False`."
   ]
  },
  {
   "cell_type": "code",
   "execution_count": 8,
   "metadata": {
    "ExecuteTime": {
     "end_time": "2023-02-21T20:09:30.183201Z",
     "start_time": "2023-02-21T20:09:30.169204Z"
    }
   },
   "outputs": [
    {
     "name": "stdout",
     "output_type": "stream",
     "text": [
      "False\n"
     ]
    }
   ],
   "source": [
    "print(not 5)"
   ]
  },
  {
   "cell_type": "markdown",
   "metadata": {},
   "source": [
    "Note that by this convention, `0` is evaluated as `False`, but `[0]` is evaluated as `True`, which is a bit confusing. Best avoid it."
   ]
  },
  {
   "cell_type": "code",
   "execution_count": 9,
   "metadata": {
    "ExecuteTime": {
     "end_time": "2023-02-21T20:09:30.199195Z",
     "start_time": "2023-02-21T20:09:30.186198Z"
    }
   },
   "outputs": [
    {
     "name": "stdout",
     "output_type": "stream",
     "text": [
      "True\n",
      "False\n"
     ]
    }
   ],
   "source": [
    "print(not 0)\n",
    "print(not [0])"
   ]
  },
  {
   "cell_type": "markdown",
   "metadata": {},
   "source": [
    "Finally, it gets even more confusing when we ask Python to compute `4 and 5`. Both `4` and `5` evaluate to `True`, so logically `4 and 5` should return `True`. Instead we get the following:"
   ]
  },
  {
   "cell_type": "code",
   "execution_count": 10,
   "metadata": {
    "ExecuteTime": {
     "end_time": "2023-02-21T20:09:30.215195Z",
     "start_time": "2023-02-21T20:09:30.205197Z"
    }
   },
   "outputs": [
    {
     "name": "stdout",
     "output_type": "stream",
     "text": [
      "5\n"
     ]
    }
   ],
   "source": [
    "print(4 and 5)"
   ]
  },
  {
   "cell_type": "markdown",
   "metadata": {},
   "source": [
    "So what is going on? Looking at the table above, we see that Python evaluates `4` to be `True`, so it returns the second argument `5`, just as described above. The Boolean value of `5` is `True`, so this actually makes sense. If in doubt, it's best to entirely avoid this and restrict yourself to doing logical comparisons **only with Boolean data**. However, you might encounter code where some programmer uses this feature, so it's good to be aware of it.\n",
    "\n",
    "---"
   ]
  },
  {
   "cell_type": "markdown",
   "metadata": {},
   "source": [
    "### Combining Boolean Operations and Comparisons"
   ]
  },
  {
   "cell_type": "markdown",
   "metadata": {},
   "source": [
    "Logical expressions can be formed in Python and behave just as you would expect from Mathematics."
   ]
  },
  {
   "cell_type": "code",
   "execution_count": 11,
   "metadata": {
    "ExecuteTime": {
     "end_time": "2023-02-21T20:09:30.230202Z",
     "start_time": "2023-02-21T20:09:30.217194Z"
    }
   },
   "outputs": [
    {
     "data": {
      "text/plain": [
       "True"
      ]
     },
     "execution_count": 11,
     "metadata": {},
     "output_type": "execute_result"
    }
   ],
   "source": [
    "1<2 and 4==4"
   ]
  },
  {
   "cell_type": "code",
   "execution_count": 12,
   "metadata": {
    "ExecuteTime": {
     "end_time": "2023-02-21T20:09:30.245205Z",
     "start_time": "2023-02-21T20:09:30.232196Z"
    }
   },
   "outputs": [
    {
     "data": {
      "text/plain": [
       "False"
      ]
     },
     "execution_count": 12,
     "metadata": {},
     "output_type": "execute_result"
    }
   ],
   "source": [
    "1<2 and 3<=1"
   ]
  },
  {
   "cell_type": "code",
   "execution_count": 13,
   "metadata": {
    "ExecuteTime": {
     "end_time": "2023-02-21T20:09:30.260727Z",
     "start_time": "2023-02-21T20:09:30.247208Z"
    }
   },
   "outputs": [
    {
     "data": {
      "text/plain": [
       "True"
      ]
     },
     "execution_count": 13,
     "metadata": {},
     "output_type": "execute_result"
    }
   ],
   "source": [
    "not 0>1"
   ]
  },
  {
   "cell_type": "markdown",
   "metadata": {},
   "source": [
    "---\n",
    "\n",
    "As another aside, Python allows us to chain inequalities together. You are used from Mathematics to write $0<x<1$, which for $x=1/2$ is a true statement. Logically, you have combined $0<x$ and $x<1$ in one statement. Python allows you to do just the same."
   ]
  },
  {
   "cell_type": "code",
   "execution_count": 14,
   "metadata": {
    "ExecuteTime": {
     "end_time": "2023-02-21T20:09:30.276729Z",
     "start_time": "2023-02-21T20:09:30.264727Z"
    }
   },
   "outputs": [
    {
     "name": "stdout",
     "output_type": "stream",
     "text": [
      "True\n",
      "True\n"
     ]
    }
   ],
   "source": [
    "x=1/2\n",
    "print(0<x<1)\n",
    "print(0<x and x<1)"
   ]
  },
  {
   "cell_type": "markdown",
   "metadata": {},
   "source": [
    "However, Python allows you to also write things that you would avoid when writing mathematics, such as $0<3>2$. Python simply interprets `0<3>2` as `0<3 and 3>2`, which is true."
   ]
  },
  {
   "cell_type": "code",
   "execution_count": 15,
   "metadata": {
    "ExecuteTime": {
     "end_time": "2023-02-21T20:09:30.292727Z",
     "start_time": "2023-02-21T20:09:30.279728Z"
    }
   },
   "outputs": [
    {
     "name": "stdout",
     "output_type": "stream",
     "text": [
      "True\n",
      "True\n"
     ]
    }
   ],
   "source": [
    "print(0<3>2)\n",
    "print(0<3 and 3>2)"
   ]
  },
  {
   "cell_type": "markdown",
   "metadata": {},
   "source": [
    "You will see code like this, but it is best if you **avoid chain inequalities** and use `and` instead.\n",
    "\n",
    "---"
   ]
  },
  {
   "cell_type": "markdown",
   "metadata": {},
   "source": [
    "### Operator Precedence revisited"
   ]
  },
  {
   "cell_type": "markdown",
   "metadata": {},
   "source": [
    "Knowing the order of operator precedence is important when writing code. If you are unsure, you can always add brackets, but too many brackets can make your code hard to read. For example, due to operator precedence, the following two expressions are equivalent."
   ]
  },
  {
   "cell_type": "code",
   "execution_count": 16,
   "metadata": {
    "ExecuteTime": {
     "end_time": "2023-02-21T20:09:30.308724Z",
     "start_time": "2023-02-21T20:09:30.295726Z"
    }
   },
   "outputs": [
    {
     "name": "stdout",
     "output_type": "stream",
     "text": [
      "True\n",
      "True\n"
     ]
    }
   ],
   "source": [
    "print(1<2 and not 3<2)\n",
    "print((1<2) and (not (3<2)))"
   ]
  },
  {
   "cell_type": "markdown",
   "metadata": {},
   "source": [
    "Here is part of a [table](http://docs.python.org/3/reference/expressions.html#operator-precedence) of some operators we have encountered so far **ordered by increasing precedence** (i.e. the operations further down the list are performed first).\n",
    "\n",
    "|Operator|Description|\n",
    "|---|---|\n",
    "|`or`|\tBoolean OR|\n",
    "|`and`|\tBoolean AND|\n",
    "|`not x`|\tBoolean NOT|\n",
    "|`<`, `<=`, `>`, `>=`, `!=`, `==`|\tComparisons|\n",
    "|`+`, `-`|\tAddition and subtraction|\n",
    "|`*`, `/`, `//`, `%` |\tMultiplication, division, floor division, remainder|\n",
    "|`+x`, `-x`\t|Positive, negative|\n",
    "|`**`\t| Exponentiation|\n",
    "|`x[index]`, `x[index:index]`, `x(arguments...)`\t|Subscription, slicing, call|\n",
    "|`(expressions...)`, `[expressions...]`|\tBinding or tuple display, list display|"
   ]
  },
  {
   "cell_type": "markdown",
   "metadata": {},
   "source": [
    "The entries further down in this table get evaluated first. In the example below, you therefore cannot remove all bracketing, as the `not` negates `(1<2 and 3<2)`. In the last line, the `not` only negates `1<2`."
   ]
  },
  {
   "cell_type": "code",
   "execution_count": 17,
   "metadata": {
    "ExecuteTime": {
     "end_time": "2023-02-21T20:09:30.324727Z",
     "start_time": "2023-02-21T20:09:30.310728Z"
    }
   },
   "outputs": [
    {
     "name": "stdout",
     "output_type": "stream",
     "text": [
      "True\n",
      "True\n",
      "False\n"
     ]
    }
   ],
   "source": [
    "print(not ((1<2) and (3<2)))\n",
    "print(not (1<2 and 3<2))\n",
    "print(not 1<2 and 3<2)"
   ]
  },
  {
   "cell_type": "markdown",
   "metadata": {},
   "source": [
    "### If Statement"
   ]
  },
  {
   "cell_type": "markdown",
   "metadata": {},
   "source": [
    "Having discussed logical statements, we now return to the function we had defined above and discuss the [if statement](http://docs.python.org/3/tutorial/controlflow.html#if-statements). An if statement consists out of one or more blocks of code such that only one block is executed depending on the value of logical expressions."
   ]
  },
  {
   "cell_type": "code",
   "execution_count": 18,
   "metadata": {
    "ExecuteTime": {
     "end_time": "2023-02-21T20:09:30.340740Z",
     "start_time": "2023-02-21T20:09:30.326726Z"
    }
   },
   "outputs": [],
   "source": [
    "def f(x):\n",
    "    if 0<x and x<1: # note that we could equivalently have written: if 0<x<1\n",
    "        return 1\n",
    "    else:\n",
    "        return 0"
   ]
  },
  {
   "cell_type": "markdown",
   "metadata": {},
   "source": [
    "In the above example, If `0<x<1` is `True`, then the function executes the first block (it returns `1`), otherwise it executes the second block (it returns `0`)."
   ]
  },
  {
   "cell_type": "markdown",
   "metadata": {},
   "source": [
    "Lets look at a more complex example, where we determine the type of the roots of a quadratic polynomial by considering its discriminant."
   ]
  },
  {
   "cell_type": "code",
   "execution_count": 19,
   "metadata": {
    "ExecuteTime": {
     "end_time": "2023-02-21T20:09:30.356252Z",
     "start_time": "2023-02-21T20:09:30.343738Z"
    }
   },
   "outputs": [
    {
     "name": "stdout",
     "output_type": "stream",
     "text": [
      "Discriminant = -24604\n",
      "Roots are complex.\n"
     ]
    }
   ],
   "source": [
    "# Determine if the roots of polynomial ax^2 + bx + c = 0 are real, repeated or complex\n",
    "# this is determined by the sign of the discriminant b^2-4ac\n",
    "a = 10\n",
    "b = -234\n",
    "c = 1984\n",
    "\n",
    "def discriminant(a,b,c):\n",
    "    return b**2 - 4*a*c\n",
    "\n",
    "print(\"Discriminant =\", discriminant(a,b,c))\n",
    "\n",
    "if discriminant(a,b,c) > 0:\n",
    "    print(\"Roots are real and distinct.\")\n",
    "elif discriminant(a,b,c) < 0:\n",
    "    print(\"Roots are complex.\")\n",
    "else:\n",
    "    print(\"Roots are real and repeated.\")"
   ]
  },
  {
   "cell_type": "markdown",
   "metadata": {},
   "source": [
    "Python checks the conditions of the `if` statement sequentially: If the discriminant is positive then the first block is executed. Otherwise, if the discriminant is negative then the second block is executed. Otherwise, the third block is executed."
   ]
  },
  {
   "cell_type": "markdown",
   "metadata": {},
   "source": [
    "The main points to observe when writing an `if` statement are as follows:\n",
    "\n",
    "1. Start with the `if` keyword.\n",
    "2. Write a logical expression (returning `True` or `False`).\n",
    "3. End line with a colon `:`.\n",
    "4. Indent block 4 spaces after `if` statement.\n",
    "5. Include `elif` (one or more) and `else` statements if needed.\n",
    "6. Only ***one*** of the blocks following `if`, `elif` and `else` is executed.\n",
    "7. The block following an `else` statement will execute only if all other logical expressions before it are `False`."
   ]
  },
  {
   "cell_type": "markdown",
   "metadata": {},
   "source": [
    "***Remember that jupyter notebook helps you with indentation: if you hit enter after typing a colon `:`, it automatically indents the following line!***"
   ]
  },
  {
   "cell_type": "markdown",
   "metadata": {},
   "source": [
    "Let us finish by considering a slightly more complicated example of a piecewise defined function.\n",
    "$$g(x)=\\begin{cases}1+x&\\text{for $x<-1$,}\\\\\\sqrt{-x(1+x)}&\\text{for $-1\\le x<0$,}\\\\-\\sqrt{x(1-x)}&\\text{for $0\\le x<1$,}\\\\x-1&\\text{for $1\\le x$.}\\end{cases}$$"
   ]
  },
  {
   "cell_type": "markdown",
   "metadata": {},
   "source": [
    "The Python code for this function is as follows:"
   ]
  },
  {
   "cell_type": "code",
   "execution_count": 20,
   "metadata": {
    "ExecuteTime": {
     "end_time": "2023-02-21T20:09:30.372254Z",
     "start_time": "2023-02-21T20:09:30.358252Z"
    }
   },
   "outputs": [],
   "source": [
    "def g(x):\n",
    "    if x<-1:   #       x < -1\n",
    "        y=x+1\n",
    "    elif x<0:  # -1 <= x <  0\n",
    "        y=(-x*(1+x))**(1/2)\n",
    "    elif x<1:  #  0 <= x <  1\n",
    "        y=-(x*(1-x))**(1/2)\n",
    "    else:      #  1 <= x\n",
    "        y=x-1\n",
    "    return y"
   ]
  },
  {
   "cell_type": "markdown",
   "metadata": {},
   "source": [
    "Having written the Python code, we can now produce the graph."
   ]
  },
  {
   "cell_type": "code",
   "execution_count": 21,
   "metadata": {
    "ExecuteTime": {
     "end_time": "2023-02-21T20:09:30.498895Z",
     "start_time": "2023-02-21T20:09:30.374254Z"
    }
   },
   "outputs": [
    {
     "data": {
      "image/png": "[encoded data removed]",
      "text/plain": [
       "<Figure size 432x288 with 1 Axes>"
      ]
     },
     "metadata": {
      "needs_background": "light"
     },
     "output_type": "display_data"
    }
   ],
   "source": [
    "from matplotlib import pyplot as plt\n",
    "x=[-2+n/100 for n in range(401)]\n",
    "y=[g(t) for t in x]\n",
    "plt.plot(x,y)\n",
    "plt.show()"
   ]
  },
  {
   "cell_type": "markdown",
   "metadata": {},
   "source": [
    "## Recursive functions"
   ]
  },
  {
   "cell_type": "markdown",
   "metadata": {},
   "source": [
    "Many functions in mathematics are easily defined by recursion. For example, take the factorial function $n!$ which is the product over all positive integers less than or equal to $n$. Multiplying $(n-1)!$ by the factor $n$ gives you $n!$, so one equivalent definition is as follows:\n",
    "$$n!=\\begin{cases}1&n=0,\\\\ n\\cdot(n-1)!&n>0.\\end{cases}$$"
   ]
  },
  {
   "cell_type": "markdown",
   "metadata": {},
   "source": [
    "This what is known as a recursive definition, as the value of $n!$ depends on $(n-1)!$ for any $n>0$. It turns out that recursive definitions of functions can be very easily implemented in Python."
   ]
  },
  {
   "cell_type": "code",
   "execution_count": 22,
   "metadata": {
    "ExecuteTime": {
     "end_time": "2023-02-21T20:09:30.514766Z",
     "start_time": "2023-02-21T20:09:30.500768Z"
    }
   },
   "outputs": [],
   "source": [
    "def fac(n):\n",
    "    \"Factorial function, assuming non-negative integer input\"\n",
    "    if n==0:\n",
    "        f=1\n",
    "    else:\n",
    "        f=n*fac(n-1)\n",
    "    return f"
   ]
  },
  {
   "cell_type": "code",
   "execution_count": 23,
   "metadata": {
    "ExecuteTime": {
     "end_time": "2023-02-21T20:09:30.530798Z",
     "start_time": "2023-02-21T20:09:30.516769Z"
    },
    "scrolled": false
   },
   "outputs": [
    {
     "data": {
      "text/plain": [
       "[1, 1, 2, 6, 24, 120, 720, 5040, 40320, 362880]"
      ]
     },
     "execution_count": 23,
     "metadata": {},
     "output_type": "execute_result"
    }
   ],
   "source": [
    "[fac(n) for n in range(10)]"
   ]
  },
  {
   "cell_type": "markdown",
   "metadata": {},
   "source": [
    "While this looks simple, there is actually more going on than you might initially realise. In particular, what makes this work is the fact that `n` and `f` are local variables. Lets use `print()` statements to show what happens.This is useful for testing purposes, once the code is tested we would normally remove these `print()` statements again."
   ]
  },
  {
   "cell_type": "code",
   "execution_count": 24,
   "metadata": {
    "ExecuteTime": {
     "end_time": "2023-02-21T20:09:30.546779Z",
     "start_time": "2023-02-21T20:09:30.532768Z"
    }
   },
   "outputs": [],
   "source": [
    "def fac(n):\n",
    "    print('fac called with', n)\n",
    "    if n==0:\n",
    "        f=1\n",
    "    else:\n",
    "        f=n*fac(n-1)\n",
    "    print('fac returns ', n, '!= ', f, sep='')\n",
    "    return f"
   ]
  },
  {
   "cell_type": "code",
   "execution_count": 25,
   "metadata": {
    "ExecuteTime": {
     "end_time": "2023-02-21T20:09:30.561927Z",
     "start_time": "2023-02-21T20:09:30.548777Z"
    },
    "scrolled": true
   },
   "outputs": [
    {
     "name": "stdout",
     "output_type": "stream",
     "text": [
      "fac called with 5\n",
      "fac called with 4\n",
      "fac called with 3\n",
      "fac called with 2\n",
      "fac called with 1\n",
      "fac called with 0\n",
      "fac returns 0!= 1\n",
      "fac returns 1!= 1\n",
      "fac returns 2!= 2\n",
      "fac returns 3!= 6\n",
      "fac returns 4!= 24\n",
      "fac returns 5!= 120\n"
     ]
    },
    {
     "data": {
      "text/plain": [
       "120"
      ]
     },
     "execution_count": 25,
     "metadata": {},
     "output_type": "execute_result"
    }
   ],
   "source": [
    "fac(5)"
   ]
  },
  {
   "cell_type": "markdown",
   "metadata": {},
   "source": [
    "If $n$ is greater than one, the factorial function needs to compute $n\\cdot(n-1)!$ for which the value of $(n-1)!$ is needed. So to get $5!$, it needs to compute $4!$, for which it needs $3!$, which in turn requires $2!$, for which $1!$ is needed, which is needs $0!$. Finally $0!=1$, and everything can be put together."
   ]
  },
  {
   "cell_type": "markdown",
   "metadata": {},
   "source": [
    "### Binomial coefficients and Pascal's triangle"
   ]
  },
  {
   "attachments": {
    "pascal.svg": {
     "image/svg+xml": [
      "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"
     ]
    }
   },
   "cell_type": "markdown",
   "metadata": {},
   "source": [
    "Binomial coefficients have an explicit expression in terms of factorials as follows\n",
    "$$\\binom nk=\\frac{n!}{k!(n-k)!}\\quad\\text{for $n\\geq0$ and $0\\leq k\\leq n$.}$$ \n",
    "They can be visualised Pascal's triangle, where $n$ is the number of the row and $k$ the position in the row (starting with zero as in Python indexing).\n",
    "\n",
    "\n",
    "![pascal.svg](attachment:pascal.svg)\n",
    "\n",
    "One clearly gets entries in a row by adding neighbouring entries in the row above, for example $10=4+6$. Mathematically, we can therefore write\n",
    "\n",
    "$$\\binom n0=\\binom nn=1\\quad\\text{for $n\\geq0$}$$\n",
    "and\n",
    "$$\\binom nk=\\binom{n-1}{k-1}+\\binom{n-1}k\\quad\\text{for $n>0$ and $0<k<n$.}$$"
   ]
  },
  {
   "cell_type": "markdown",
   "metadata": {},
   "source": [
    "Lets write the Python code."
   ]
  },
  {
   "cell_type": "code",
   "execution_count": 26,
   "metadata": {
    "ExecuteTime": {
     "end_time": "2023-02-21T20:09:30.577436Z",
     "start_time": "2023-02-21T20:09:30.562928Z"
    }
   },
   "outputs": [],
   "source": [
    "def binomial(n,k):\n",
    "    \"binomial coefficient, assuming two integer parameters n and k with n>=0 and 0<=k<=n\"\n",
    "    if k==0 or k==n:\n",
    "        b=1\n",
    "    else:\n",
    "        b=binomial(n-1,k-1)+binomial(n-1,k)\n",
    "    return b"
   ]
  },
  {
   "cell_type": "markdown",
   "metadata": {},
   "source": [
    "This should give us the above triangle."
   ]
  },
  {
   "cell_type": "code",
   "execution_count": 27,
   "metadata": {
    "ExecuteTime": {
     "end_time": "2023-02-21T20:09:30.593400Z",
     "start_time": "2023-02-21T20:09:30.579404Z"
    },
    "scrolled": true
   },
   "outputs": [
    {
     "data": {
      "text/plain": [
       "[[1],\n",
       " [1, 1],\n",
       " [1, 2, 1],\n",
       " [1, 3, 3, 1],\n",
       " [1, 4, 6, 4, 1],\n",
       " [1, 5, 10, 10, 5, 1],\n",
       " [1, 6, 15, 20, 15, 6, 1],\n",
       " [1, 7, 21, 35, 35, 21, 7, 1]]"
      ]
     },
     "execution_count": 27,
     "metadata": {},
     "output_type": "execute_result"
    }
   ],
   "source": [
    "[[binomial(n,k) for k in range (n+1)] for n in range(8)]"
   ]
  },
  {
   "cell_type": "markdown",
   "metadata": {},
   "source": [
    "## The danger of infinite recursion"
   ]
  },
  {
   "cell_type": "markdown",
   "metadata": {},
   "source": [
    "Note that the above functions did not test for nonsense input. If I tried to compute `fac(0.5)`, for example, the function would try to compute $(-1/2)!$, then $(-3/2)!$, then $(-5/2)!$ and so on, ad infinitum. Lets try it."
   ]
  },
  {
   "cell_type": "code",
   "execution_count": 28,
   "metadata": {
    "ExecuteTime": {
     "end_time": "2023-02-21T20:09:30.609434Z",
     "start_time": "2023-02-21T20:09:30.597402Z"
    },
    "scrolled": true
   },
   "outputs": [],
   "source": [
    "#fac(0.5)"
   ]
  },
  {
   "cell_type": "markdown",
   "metadata": {},
   "source": [
    "Fortunately Python stops this nonsense after too many recursions. Otherwise the code box would just show \n",
    "`In [*]:` and you would have to stop the program execution by hand (by selecting \"interrupt the kernel\" from the menu)."
   ]
  },
  {
   "cell_type": "markdown",
   "metadata": {},
   "source": [
    "## Conclusion and Outlook"
   ]
  },
  {
   "cell_type": "markdown",
   "metadata": {},
   "source": [
    "In this lecture we have introduced logic and an if statement as a first example of program control flow. Next week we will encounter more control flow statements."
   ]
  }
 ],
 "metadata": {
  "kernelspec": {
   "display_name": "Python 3 (ipykernel)",
   "language": "python",
   "name": "python3"
  },
  "language_info": {
   "codemirror_mode": {
    "name": "ipython",
    "version": 3
   },
   "file_extension": ".py",
   "mimetype": "text/x-python",
   "name": "python",
   "nbconvert_exporter": "python",
   "pygments_lexer": "ipython3",
   "version": "3.11.3"
  }
 },
 "nbformat": 4,
 "nbformat_minor": 2
}
