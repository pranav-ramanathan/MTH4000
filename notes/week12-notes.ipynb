{
 "cells": [
  {
   "cell_type": "markdown",
   "metadata": {
    "slideshow": {
     "slide_type": "-"
    }
   },
   "source": [
    "# MTH4000 Programming in Python I - Lecture 11\n",
    "Module Organisers: Dr Matthew Lewis and Prof. Thomas Prellberg"
   ]
  },
  {
   "cell_type": "markdown",
   "metadata": {},
   "source": [
    "This week we will cover some general tips and tricks, followed by some analysis of complexity, to encourage good programming."
   ]
  },
  {
   "cell_type": "markdown",
   "metadata": {},
   "source": [
    "## Multiple statements in one line?"
   ]
  },
  {
   "cell_type": "markdown",
   "metadata": {},
   "source": [
    "One central feature of Python is that, unlike some other programming languages, you do not need to separate statements with special characters (e.g. semicolons), nor do you need to use brackets to demarcate code blocks. \n",
    "\n",
    "Let's take some simple Python function:\n",
    "\n",
    "```Python\n",
    "def max(num1, num2):\n",
    "    if num1 > num2:\n",
    "        result = num1\n",
    "    else:\n",
    "        result = num2\n",
    "    return result\n",
    "```\n",
    "\n",
    "We have seen that in Python, statements are separated by new lines, and code blocks are structured by indentation. In C, the same code looks as follows:\n",
    "\n",
    "```C\n",
    "int max(int num1, int num2) {\n",
    "   int result;\n",
    "   if (num1 > num2)\n",
    "      result = num1;\n",
    "   else\n",
    "      result = num2;\n",
    "   return result; \n",
    "}\n",
    "```\n",
    "\n",
    "We can notice several differences in the structure of this code.  Firstly, C requires us to declare variables and their data types before using them.  Secondly, all statements are separated by semicolons, and code blocks containing more than one statement are connected by bracketing. \n",
    "\n",
    "This makes indenting entirely optional; the above code can be written on one single line as follows:\n",
    "\n",
    "```C\n",
    "int max(int num1, int num2) { int result; if (num1 > num2) result = num1; else result = num2; return result; }\n",
    "```\n",
    "\n",
    "or indeed, as follows:\n",
    "\n",
    "```C      \n",
    "                  int \n",
    "                 max (\n",
    "               int num1,\n",
    "              int num2) {\n",
    "             int result; if \n",
    "           (num1>num2) result \n",
    "          = num1; else result = \n",
    "          num2; return result;}\n",
    "```"
   ]
  },
  {
   "cell_type": "markdown",
   "metadata": {},
   "source": [
    "While the last example looks just silly (and makes the code very difficult to read), there is sometimes an advantage in having fewer lines of code. Python does allow you to have several statements on a single line *provided there are no nested code blocks*. In that case, statements need to be separated by a semicolon.\n",
    "\n",
    "If you have a code block containing many single statements in sequence, then you can do it. For example:"
   ]
  },
  {
   "cell_type": "code",
   "execution_count": 1,
   "metadata": {
    "ExecuteTime": {
     "end_time": "2023-11-11T23:07:44.822521Z",
     "start_time": "2023-11-11T23:07:42.315758Z"
    }
   },
   "outputs": [
    {
     "name": "stdout",
     "output_type": "stream",
     "text": [
      "1\n",
      "2\n",
      "1+2=3\n"
     ]
    }
   ],
   "source": [
    "a=int(input())\n",
    "b=int(input())\n",
    "c=a+b\n",
    "s=\"{0}+{1}={2}\"\n",
    "print(s.format(a,b,c))"
   ]
  },
  {
   "cell_type": "markdown",
   "metadata": {},
   "source": [
    "is equivalent to:"
   ]
  },
  {
   "cell_type": "code",
   "execution_count": 2,
   "metadata": {
    "ExecuteTime": {
     "end_time": "2023-11-11T23:07:48.108548Z",
     "start_time": "2023-11-11T23:07:44.826531Z"
    },
    "scrolled": true
   },
   "outputs": [
    {
     "name": "stdout",
     "output_type": "stream",
     "text": [
      "1\n",
      "2\n",
      "1+2=3\n"
     ]
    }
   ],
   "source": [
    "a=int(input()); b=int(input()); c=a+b; s=\"{0}+{1}={2}\"; print(s.format(a,b,c))"
   ]
  },
  {
   "cell_type": "markdown",
   "metadata": {},
   "source": [
    "Moreover, if a code block can be written in a single line, then it's possible to combine it with the preceding keyword statement (the line ending with a `:` that initialises the code block).  The intial example, for instance, can be written as:"
   ]
  },
  {
   "cell_type": "code",
   "execution_count": 3,
   "metadata": {
    "ExecuteTime": {
     "end_time": "2023-11-11T23:07:48.115853Z",
     "start_time": "2023-11-11T23:07:48.111565Z"
    }
   },
   "outputs": [],
   "source": [
    "def max(num1, num2):\n",
    "    if num1 > num2: result = num1\n",
    "    else: result = num2\n",
    "    return result"
   ]
  },
  {
   "cell_type": "markdown",
   "metadata": {},
   "source": [
    "While slightly more compact than the original, I find this to be less readable. You will have noticed that throughout the entire module I have refrained from doing these things, as it generally is not necessary and can lead to harder to read code."
   ]
  },
  {
   "cell_type": "markdown",
   "metadata": {},
   "source": [
    "## Inline `if`, or ternary (conditional) operator"
   ]
  },
  {
   "cell_type": "markdown",
   "metadata": {},
   "source": [
    "We already encountered the ternary if as a useful tool in the algorithms section. Let's go over it again in some more detail:\n",
    "\n",
    "Suppose you have an `if` statement that is simple in structure.  More specifically, it contains only an `if` and an `else` block, and both code blocks can be written in a single line.  Such statements can be greatly simplified by a Python feature called a ternary operator.\n",
    "\n",
    "The ternary operator is useful when, for example, you want to select one of two values depending on some condition. For example, the function\n",
    "\n",
    "```Python\n",
    "def max(num1, num2):\n",
    "    if num1 > num2:\n",
    "        result = num1\n",
    "    else:\n",
    "        result = num2\n",
    "    return result\n",
    "```\n",
    "above can be written as follows:"
   ]
  },
  {
   "cell_type": "code",
   "execution_count": 4,
   "metadata": {
    "ExecuteTime": {
     "end_time": "2023-11-11T23:07:48.123328Z",
     "start_time": "2023-11-11T23:07:48.119864Z"
    }
   },
   "outputs": [],
   "source": [
    "def max(num1, num2):\n",
    "    result = num1 if num1 > num2 else num2\n",
    "    return result"
   ]
  },
  {
   "cell_type": "markdown",
   "metadata": {},
   "source": [
    "So what is going on? The syntax is\n",
    "\n",
    "```Python\n",
    "value1 if condition else value2\n",
    "```\n",
    "\n",
    "and evaluates to `value1` if the condition is true, otherwise it evaluates to `value2`. Note that there is no assignment made here, the assignment to the variable `result` in the above example happens only *after* the value is computed. \n",
    "\n",
    "In fact, this syntax allows us to bypass the assignment entirely, and we can further simplify our function as follows:"
   ]
  },
  {
   "cell_type": "code",
   "execution_count": 5,
   "metadata": {
    "ExecuteTime": {
     "end_time": "2023-11-11T23:07:48.130597Z",
     "start_time": "2023-11-11T23:07:48.125340Z"
    }
   },
   "outputs": [],
   "source": [
    "def max(num1, num2): return num1 if num1 > num2 else num2"
   ]
  },
  {
   "cell_type": "markdown",
   "metadata": {},
   "source": [
    "We can also extend this feature to replace `if`-`elif`-`elif`-...-`else` constructions.  This can be achieved by nesting the ternary operator.\n",
    "\n",
    "Let's assume we want to input a single character, and we want to change all the lowercase vowels a,e,i,o,u to uppercase A,E,I,O,U, respectively, and change them to X if the character is not a lowercase vowel. We could write this as follows:"
   ]
  },
  {
   "cell_type": "code",
   "execution_count": 6,
   "metadata": {
    "ExecuteTime": {
     "end_time": "2023-11-11T23:07:49.997142Z",
     "start_time": "2023-11-11T23:07:48.133606Z"
    },
    "scrolled": false
   },
   "outputs": [
    {
     "name": "stdout",
     "output_type": "stream",
     "text": [
      "x\n",
      "X\n"
     ]
    }
   ],
   "source": [
    "c=input()\n",
    "if c==\"a\":\n",
    "    x=\"A\"\n",
    "elif c==\"e\":\n",
    "    x=\"E\"\n",
    "elif c==\"i\":\n",
    "    x=\"I\"\n",
    "elif c==\"o\":\n",
    "    x=\"O\"\n",
    "elif c==\"u\":\n",
    "    x=\"U\"\n",
    "else:\n",
    "    x=\"X\"\n",
    "print(x)"
   ]
  },
  {
   "cell_type": "markdown",
   "metadata": {},
   "source": [
    "The equivalent code, using nested ternary operators, works as follows:"
   ]
  },
  {
   "cell_type": "code",
   "execution_count": 7,
   "metadata": {
    "ExecuteTime": {
     "end_time": "2023-11-11T23:07:51.015458Z",
     "start_time": "2023-11-11T23:07:50.001153Z"
    },
    "scrolled": true
   },
   "outputs": [
    {
     "name": "stdout",
     "output_type": "stream",
     "text": [
      "x\n",
      "X\n"
     ]
    }
   ],
   "source": [
    "c=input()\n",
    "print(\"A\" if c==\"a\" else \"E\" if c==\"e\" else \"I\" if c==\"i\" else \"O\" if c==\"o\" else \"U\" if c==\"u\" else \"X\")"
   ]
  },
  {
   "cell_type": "markdown",
   "metadata": {},
   "source": [
    "As there is no assignment done, this is also immensely useful in list comprehensions. Let's assume we input a string and want to do the encoding for every letter of that string."
   ]
  },
  {
   "cell_type": "code",
   "execution_count": 8,
   "metadata": {
    "ExecuteTime": {
     "end_time": "2023-11-11T23:07:51.026816Z",
     "start_time": "2023-11-11T23:07:51.019475Z"
    },
    "scrolled": true
   },
   "outputs": [
    {
     "name": "stdout",
     "output_type": "stream",
     "text": [
      "['X', 'X', 'I', 'X', 'X', 'I', 'X', 'X', 'X', 'O', 'X', 'X', 'O', 'O', 'X', 'X']\n"
     ]
    }
   ],
   "source": [
    "s=\"This is so cool!\"\n",
    "print([\"A\" if c==\"a\" else \"E\" if c==\"e\" else \"I\" if c==\"i\" else \"O\" if c==\"o\" else \"U\" if c==\"u\" else \"X\" for c in s])"
   ]
  },
  {
   "cell_type": "markdown",
   "metadata": {},
   "source": [
    "## Use of `if` as a filter in list comprehensions"
   ]
  },
  {
   "cell_type": "markdown",
   "metadata": {},
   "source": [
    "Finally, I should point out another use of `if` in list comprehensions, namely as a filter. For example, if we only want to return the vowels contained in a given string, we can do it as follows:"
   ]
  },
  {
   "cell_type": "code",
   "execution_count": 9,
   "metadata": {
    "ExecuteTime": {
     "end_time": "2023-11-11T23:07:51.039208Z",
     "start_time": "2023-11-11T23:07:51.030830Z"
    }
   },
   "outputs": [
    {
     "name": "stdout",
     "output_type": "stream",
     "text": [
      "['i', 'i', 'o', 'o', 'o']\n"
     ]
    }
   ],
   "source": [
    "s=\"This is so cool!\"\n",
    "print([c for c in s if c in \"aeiou\"])"
   ]
  },
  {
   "cell_type": "markdown",
   "metadata": {},
   "source": [
    "We can combine this filter with the mapping in the above example.  This requires us to use `if` in the ternary operator *before* the `for` keyword, and `if` as a filter *after* the `for` keyword."
   ]
  },
  {
   "cell_type": "code",
   "execution_count": 10,
   "metadata": {
    "ExecuteTime": {
     "end_time": "2023-11-11T23:07:51.057117Z",
     "start_time": "2023-11-11T23:07:51.048220Z"
    },
    "scrolled": true
   },
   "outputs": [
    {
     "name": "stdout",
     "output_type": "stream",
     "text": [
      "['I', 'I', 'O', 'O', 'O']\n"
     ]
    }
   ],
   "source": [
    "s=\"This is so cool!\"\n",
    "print([\"A\" if c==\"a\" else \"E\" if c==\"e\" else \"I\" if c==\"i\" else \"O\" if c==\"o\" else \"U\" if c==\"u\" else \"X\" \n",
    "       for c in s if c in \"aeiou\"])"
   ]
  },
  {
   "cell_type": "markdown",
   "metadata": {},
   "source": [
    "Note that this means that we have now seen three *different* uses of `if` in Python:\n",
    "\n",
    "1. Conditional Statement\n",
    "\n",
    "```Python\n",
    "def collatz(x):\n",
    "    if x%2==0:\n",
    "        x=x//2\n",
    "    else:\n",
    "        x=3*x+1\n",
    "    return x\n",
    "```\n",
    "\n",
    "2. Ternary Operator\n",
    "\n",
    "```Python\n",
    "collatz=lambda x: x//2 if x%2==0 else 3*x+1\n",
    "```\n",
    "\n",
    "3. Filter in List Comprehensions\n",
    "\n",
    "```Python\n",
    "[3*x+1 for x in range(10) if x%2!=0]\n",
    "```"
   ]
  },
  {
   "cell_type": "markdown",
   "metadata": {},
   "source": [
    "To confuse people, we can use filtering and the ternary operator in one single list comprehension:"
   ]
  },
  {
   "cell_type": "code",
   "execution_count": 11,
   "metadata": {
    "ExecuteTime": {
     "end_time": "2023-11-11T23:07:51.071830Z",
     "start_time": "2023-11-11T23:07:51.059124Z"
    }
   },
   "outputs": [
    {
     "data": {
      "text/plain": [
       "[1, -2, -4, 5, 7, -8, -10, 11, 13, -14, -16, 17, 19]"
      ]
     },
     "execution_count": 11,
     "metadata": {},
     "output_type": "execute_result"
    }
   ],
   "source": [
    "[x if x%2 else -x for x in range(20) if x%3]"
   ]
  },
  {
   "cell_type": "markdown",
   "metadata": {},
   "source": [
    "## Dictionaries"
   ]
  },
  {
   "cell_type": "markdown",
   "metadata": {},
   "source": [
    "The above chain construction of `if`'s and `else`'s becomes unwieldy as the number of cases becomes large, so you may wonder if there is a better way of coding this.  To answer this, we introduce a new data type; dictionaries.\n",
    "\n",
    "A dictionary is a composite data type, just like lists and tuples.  The key difference is that instead of its elements being indexed by integers in the range $0$ to $n-1$ (where $n$ is its length), it is instead indexed with a set of uniquely defined objects called *keys*:\n",
    "\n",
    "```python\n",
    "d = {key0: value0, key1: value1, key3: value3, ..., keyn: valuen}\n",
    "```\n",
    "\n",
    "We can see that each value contained inside the dictionary is paired with a unique key.  In order to call a given value inside this dictionary, it suffices to index the dictionary with the corresponding key, e.g. `d[key1]` would return `value1`."
   ]
  },
  {
   "cell_type": "code",
   "execution_count": 12,
   "metadata": {
    "ExecuteTime": {
     "end_time": "2023-11-11T23:07:51.088218Z",
     "start_time": "2023-11-11T23:07:51.073835Z"
    }
   },
   "outputs": [
    {
     "data": {
      "text/plain": [
       "5"
      ]
     },
     "execution_count": 12,
     "metadata": {},
     "output_type": "execute_result"
    }
   ],
   "source": [
    "shapes={'triangle':3, 'quadrilateral':4, 'pentagon':5}\n",
    "\n",
    "shapes['pentagon']"
   ]
  },
  {
   "cell_type": "markdown",
   "metadata": {},
   "source": [
    "Similarly to lists, we can add (or update) dictionary entries by using assignments:"
   ]
  },
  {
   "cell_type": "code",
   "execution_count": 13,
   "metadata": {
    "ExecuteTime": {
     "end_time": "2023-11-11T23:07:51.096948Z",
     "start_time": "2023-11-11T23:07:51.091227Z"
    }
   },
   "outputs": [
    {
     "data": {
      "text/plain": [
       "{'triangle': 3, 'quadrilateral': 4, 'pentagon': 5, 'hexagon': 6}"
      ]
     },
     "execution_count": 13,
     "metadata": {},
     "output_type": "execute_result"
    }
   ],
   "source": [
    "shapes['hexagon']=6\n",
    "\n",
    "shapes"
   ]
  },
  {
   "cell_type": "markdown",
   "metadata": {},
   "source": [
    "We can delete entries with the `del` keyword:"
   ]
  },
  {
   "cell_type": "code",
   "execution_count": 14,
   "metadata": {
    "ExecuteTime": {
     "end_time": "2023-11-11T23:07:51.106985Z",
     "start_time": "2023-11-11T23:07:51.099962Z"
    }
   },
   "outputs": [
    {
     "data": {
      "text/plain": [
       "{'quadrilateral': 4, 'pentagon': 5, 'hexagon': 6}"
      ]
     },
     "execution_count": 14,
     "metadata": {},
     "output_type": "execute_result"
    }
   ],
   "source": [
    "del shapes['triangle']\n",
    "\n",
    "shapes"
   ]
  },
  {
   "cell_type": "markdown",
   "metadata": {},
   "source": [
    "We can even determine whether a key exists inside a given dictionary using the `in` keyword:"
   ]
  },
  {
   "cell_type": "code",
   "execution_count": 15,
   "metadata": {
    "ExecuteTime": {
     "end_time": "2023-11-11T23:07:51.116654Z",
     "start_time": "2023-11-11T23:07:51.108993Z"
    }
   },
   "outputs": [
    {
     "data": {
      "text/plain": [
       "False"
      ]
     },
     "execution_count": 15,
     "metadata": {},
     "output_type": "execute_result"
    }
   ],
   "source": [
    "'square' in shapes"
   ]
  },
  {
   "cell_type": "markdown",
   "metadata": {},
   "source": [
    "Python dictionaries have much more functionality than this, but this will suffice for a brief introduction."
   ]
  },
  {
   "cell_type": "markdown",
   "metadata": {},
   "source": [
    "We can use dictionaries to simplify the above vowel substitution:\n",
    "\n",
    "```python\n",
    "\"A\" if c==\"a\" else \"E\" if c==\"e\" else \"I\" if c==\"i\" else \"O\" if c==\"o\" else \"U\" if c==\"u\" else \"X\"\n",
    "```\n",
    "\n",
    "If we define\n",
    "\n",
    "```python\n",
    "dic = {\"a\": \"A\", \"e\": \"E\", \"i\": \"I\", \"o\": \"O\", \"u\": \"U\"}\n",
    "```\n",
    "\n",
    "then all of the substitution rules in the above statement (with the exception of non-vowels being mapped to `X`) can be accessed by simply indexing the dictionary `dic` with the appropriate character,\n",
    "\n",
    "```python\n",
    "dic[c]\n",
    "```\n",
    "(provided the value of c exists as key in `dic`). The code is therefore the following:"
   ]
  },
  {
   "cell_type": "code",
   "execution_count": 16,
   "metadata": {
    "ExecuteTime": {
     "end_time": "2023-11-11T23:07:52.139196Z",
     "start_time": "2023-11-11T23:07:51.120667Z"
    }
   },
   "outputs": [
    {
     "name": "stdout",
     "output_type": "stream",
     "text": [
      "x\n",
      "X\n"
     ]
    }
   ],
   "source": [
    "dic = {\"a\": \"A\", \"e\": \"E\", \"i\": \"I\", \"o\": \"O\", \"u\": \"U\"}\n",
    "c=input()\n",
    "print(dic[c] if c in dic else \"X\")"
   ]
  },
  {
   "cell_type": "markdown",
   "metadata": {},
   "source": [
    "The list comprehension from above becomes much more readable, in my opinion. Instead of\n",
    "```python\n",
    "s=\"This is so cool!\"\n",
    "print([\"A\" if c==\"a\" else \"E\" if c==\"e\" else \"I\" if c==\"i\" else \"O\" if c==\"o\" else \"U\" if c==\"u\" else \"X\" for c in s])\n",
    "print([\"A\" if c==\"a\" else \"E\" if c==\"e\" else \"I\" if c==\"i\" else \"O\" if c==\"o\" else \"U\" if c==\"u\" else \"X\" \n",
    "       for c in s if c in \"aeiou\"])\n",
    "```\n",
    "we can instead write"
   ]
  },
  {
   "cell_type": "code",
   "execution_count": 17,
   "metadata": {
    "ExecuteTime": {
     "end_time": "2023-11-11T23:07:52.150608Z",
     "start_time": "2023-11-11T23:07:52.142208Z"
    }
   },
   "outputs": [
    {
     "name": "stdout",
     "output_type": "stream",
     "text": [
      "['X', 'X', 'I', 'X', 'X', 'I', 'X', 'X', 'X', 'O', 'X', 'X', 'O', 'O', 'X', 'X']\n",
      "['I', 'I', 'O', 'O', 'O']\n"
     ]
    }
   ],
   "source": [
    "s=\"This is so cool!\"\n",
    "dic = {\"a\": \"A\", \"e\": \"E\", \"i\": \"I\", \"o\": \"O\", \"u\": \"U\"}\n",
    "print([dic[c] if c in dic else \"X\" for c in s])\n",
    "print([dic[c] for c in s if c in dic])"
   ]
  },
  {
   "cell_type": "markdown",
   "metadata": {},
   "source": [
    "There's much more to this, but we're running out of time in this module..."
   ]
  },
  {
   "cell_type": "markdown",
   "metadata": {},
   "source": [
    "## The `*` operator, or \"cool tricks with unpacking\""
   ]
  },
  {
   "cell_type": "markdown",
   "metadata": {},
   "source": [
    "... and I still want to return to one last topic, namely unpacking. You will recall that we have encountered code like\n",
    "```python\n",
    "a,b=[\"first\",\"second\"]\n",
    "```\n",
    "which automatically unpacks the right hand side of the assignment and assigns each item individually. This is quite convenient, and it can be done with all sorts of iterables, such as strings:"
   ]
  },
  {
   "cell_type": "code",
   "execution_count": 18,
   "metadata": {
    "ExecuteTime": {
     "end_time": "2023-11-11T23:07:52.159661Z",
     "start_time": "2023-11-11T23:07:52.154622Z"
    }
   },
   "outputs": [
    {
     "name": "stdout",
     "output_type": "stream",
     "text": [
      "and\n"
     ]
    }
   ],
   "source": [
    "a=\"and\"\n",
    "print(a)"
   ]
  },
  {
   "cell_type": "code",
   "execution_count": 19,
   "metadata": {
    "ExecuteTime": {
     "end_time": "2023-11-11T23:07:52.169524Z",
     "start_time": "2023-11-11T23:07:52.162673Z"
    }
   },
   "outputs": [
    {
     "name": "stdout",
     "output_type": "stream",
     "text": [
      "a\n",
      "n\n",
      "d\n"
     ]
    }
   ],
   "source": [
    "b,c,d=\"and\"\n",
    "print(b)\n",
    "print(c)\n",
    "print(d)"
   ]
  },
  {
   "cell_type": "code",
   "execution_count": 20,
   "metadata": {
    "ExecuteTime": {
     "end_time": "2023-11-11T23:07:52.179055Z",
     "start_time": "2023-11-11T23:07:52.173535Z"
    }
   },
   "outputs": [],
   "source": [
    "# b,c=\"and\" # error, number of variables must match length of iterable"
   ]
  },
  {
   "cell_type": "markdown",
   "metadata": {},
   "source": [
    "What if we want to use such an assignment where the number of variables does **not** match the length of the iterable?\n",
    "\n",
    "This is where the `*` operator comes to the rescue.  Observe the following example:"
   ]
  },
  {
   "cell_type": "code",
   "execution_count": 21,
   "metadata": {
    "ExecuteTime": {
     "end_time": "2023-11-11T23:07:52.188484Z",
     "start_time": "2023-11-11T23:07:52.183069Z"
    }
   },
   "outputs": [
    {
     "name": "stdout",
     "output_type": "stream",
     "text": [
      "12\n",
      "[13, 14, 15]\n"
     ]
    }
   ],
   "source": [
    "a,*b=(12,13,14,15)\n",
    "print(a)\n",
    "print(b)"
   ]
  },
  {
   "cell_type": "markdown",
   "metadata": {},
   "source": [
    "The value $12$ is assigned to the variable `a`, as per usual, but there is only a single variable left to be defined, despite the fact that there are three values remaining in the right-hand tuple.  Applying the `*` operator to `b` means that `b` is assigned the value of a list containing all the remaining elements that have been left unassigned.\n",
    "\n",
    "Note that we can also apply the `*` operator to the first variable, which packs the first three elements in a list and assigns it to `a`."
   ]
  },
  {
   "cell_type": "code",
   "execution_count": 22,
   "metadata": {
    "ExecuteTime": {
     "end_time": "2023-11-11T23:07:52.198178Z",
     "start_time": "2023-11-11T23:07:52.191500Z"
    }
   },
   "outputs": [
    {
     "name": "stdout",
     "output_type": "stream",
     "text": [
      "[12, 13, 14]\n",
      "15\n"
     ]
    }
   ],
   "source": [
    "*a,b=(12,13,14,15)\n",
    "print(a)\n",
    "print(b)"
   ]
  },
  {
   "cell_type": "markdown",
   "metadata": {},
   "source": [
    "We can even apply this operator to a sequence containing a single variable, as follows:"
   ]
  },
  {
   "cell_type": "code",
   "execution_count": 23,
   "metadata": {
    "ExecuteTime": {
     "end_time": "2023-11-11T23:07:52.208073Z",
     "start_time": "2023-11-11T23:07:52.202189Z"
    }
   },
   "outputs": [
    {
     "name": "stdout",
     "output_type": "stream",
     "text": [
      "[12, 13, 14, 15]\n"
     ]
    }
   ],
   "source": [
    "*a,=(12,13,14,15)\n",
    "print(a)"
   ]
  },
  {
   "cell_type": "markdown",
   "metadata": {},
   "source": [
    "Note that we have to use the notation `a,` (with a trailing comma), in order to write the left-hand side as a tuple of length $1$, instead of a single variable.\n",
    "\n",
    "It should be clear that the same result could have been achieved with\n",
    "\n",
    "```python\n",
    "a=list((12,13,14,15))\n",
    "```\n",
    "but the operator `*` is more versatile: we can add additional variables around both sides of the variable marked with `*`, as long as there is only one `*` on the list (otherwise the operation is not well defined)."
   ]
  },
  {
   "cell_type": "code",
   "execution_count": 24,
   "metadata": {
    "ExecuteTime": {
     "end_time": "2023-11-11T23:07:52.218749Z",
     "start_time": "2023-11-11T23:07:52.210097Z"
    },
    "scrolled": true
   },
   "outputs": [
    {
     "name": "stdout",
     "output_type": "stream",
     "text": [
      "12 13 [14, 15, 16] 17 18 19\n",
      "12 13 [14] 15 16 17\n",
      "12 13 [] 14 15 16\n"
     ]
    }
   ],
   "source": [
    "a,b,*c,d,e,f=(12,13,14,15,16,17,18,19)\n",
    "print(a,b,c,d,e,f)\n",
    "a,b,*c,d,e,f=(12,13,14,15,16,17)\n",
    "print(a,b,c,d,e,f)\n",
    "a,b,*c,d,e,f=(12,13,14,15,16)\n",
    "print(a,b,c,d,e,f)\n",
    "# a,b,*c,d,e,f=(12,13,14,15) # error, not enough number of items "
   ]
  },
  {
   "cell_type": "markdown",
   "metadata": {},
   "source": [
    "Of course this could also be done with slicing of lists, for example the first statement of the previous code box is equivalent to:"
   ]
  },
  {
   "cell_type": "code",
   "execution_count": 25,
   "metadata": {
    "ExecuteTime": {
     "end_time": "2023-11-11T23:07:52.227783Z",
     "start_time": "2023-11-11T23:07:52.221759Z"
    }
   },
   "outputs": [
    {
     "name": "stdout",
     "output_type": "stream",
     "text": [
      "12 13 [14, 15, 16] 17 18 19\n"
     ]
    }
   ],
   "source": [
    "s=(12,13,14,15,16,17,18,19)\n",
    "a=s[0]; b=s[1]; c=list(s[2:-3]); d=s[-3]; e=s[-2]; f=s[-1]\n",
    "print(a,b,c,d,e,f)"
   ]
  },
  {
   "cell_type": "markdown",
   "metadata": {},
   "source": [
    "Conversely, the `*` operator can also be used when evaluating expressions.  In situations where Python is expecting a sequence of values to be returned to the interpreter one-by-one, the `*` operator allows items contained inside a list (or tuple) to be read as if they had been returned separately.\n",
    "\n",
    "Notice what happens when we try to create a list of the variables defined above:"
   ]
  },
  {
   "cell_type": "code",
   "execution_count": 26,
   "metadata": {
    "ExecuteTime": {
     "end_time": "2023-11-11T23:07:52.237746Z",
     "start_time": "2023-11-11T23:07:52.230795Z"
    }
   },
   "outputs": [
    {
     "name": "stdout",
     "output_type": "stream",
     "text": [
      "[12, 13, [14, 15, 16], 17, 18, 19]\n"
     ]
    }
   ],
   "source": [
    "s=[a,b,c,d,e,f]\n",
    "print(s)"
   ]
  },
  {
   "cell_type": "markdown",
   "metadata": {},
   "source": [
    "Since `c` is a list, it gets included in `s` as a single item.  We can use the `*` operator to unpack this list and include each element separately:"
   ]
  },
  {
   "cell_type": "code",
   "execution_count": 27,
   "metadata": {
    "ExecuteTime": {
     "end_time": "2023-11-11T23:07:52.245061Z",
     "start_time": "2023-11-11T23:07:52.240757Z"
    },
    "scrolled": true
   },
   "outputs": [
    {
     "name": "stdout",
     "output_type": "stream",
     "text": [
      "[12, 13, 14, 15, 16, 17, 18, 19]\n"
     ]
    }
   ],
   "source": [
    "s=[a,b,*c,d,e,f]\n",
    "print(s)"
   ]
  },
  {
   "cell_type": "markdown",
   "metadata": {},
   "source": [
    "Similarly, if a given function has several arguments, then the `*` operator can be used to return input values to all these arguments using a single variable."
   ]
  },
  {
   "cell_type": "code",
   "execution_count": 28,
   "metadata": {
    "ExecuteTime": {
     "end_time": "2023-11-11T23:07:52.262604Z",
     "start_time": "2023-11-11T23:07:52.258086Z"
    }
   },
   "outputs": [
    {
     "name": "stdout",
     "output_type": "stream",
     "text": [
      "First print this. Print this next. Print this last.\n"
     ]
    }
   ],
   "source": [
    "l=['First print this.','Print this next.','Print this last.']\n",
    "\n",
    "print(*l)"
   ]
  },
  {
   "cell_type": "markdown",
   "metadata": {},
   "source": [
    "This code is equivalent to"
   ]
  },
  {
   "cell_type": "code",
   "execution_count": 29,
   "metadata": {
    "ExecuteTime": {
     "end_time": "2023-11-11T23:07:52.272155Z",
     "start_time": "2023-11-11T23:07:52.266619Z"
    }
   },
   "outputs": [
    {
     "name": "stdout",
     "output_type": "stream",
     "text": [
      "First print this. Print this next. Print this last.\n"
     ]
    }
   ],
   "source": [
    "print(l[0],l[1],l[2])"
   ]
  },
  {
   "cell_type": "markdown",
   "metadata": {},
   "source": [
    "but is clearly much more succint."
   ]
  },
  {
   "cell_type": "markdown",
   "metadata": {},
   "source": [
    "### An application: from list of points to lists of coordinates and back"
   ]
  },
  {
   "cell_type": "markdown",
   "metadata": {},
   "source": [
    "From earlier lectures you will recall that the following conversion was needed when changing beween different representations of points, for example when plotting using matplotlib."
   ]
  },
  {
   "cell_type": "code",
   "execution_count": 30,
   "metadata": {
    "ExecuteTime": {
     "end_time": "2023-11-11T23:07:52.279831Z",
     "start_time": "2023-11-11T23:07:52.274169Z"
    }
   },
   "outputs": [
    {
     "name": "stdout",
     "output_type": "stream",
     "text": [
      "[(0, 10), (3, 16), (-1, 15), (2, -11)]\n"
     ]
    }
   ],
   "source": [
    "# Points are written as a list of pairs.\n",
    "points=[(0,10),(3,16),(-1,15),(2,-11)]\n",
    "print(points)"
   ]
  },
  {
   "cell_type": "code",
   "execution_count": 31,
   "metadata": {
    "ExecuteTime": {
     "end_time": "2023-11-11T23:07:52.289632Z",
     "start_time": "2023-11-11T23:07:52.282845Z"
    }
   },
   "outputs": [
    {
     "name": "stdout",
     "output_type": "stream",
     "text": [
      "[0, 3, -1, 2] [10, 16, 15, -11]\n"
     ]
    }
   ],
   "source": [
    "# We separate these pairs into a list, xcoords, of all values at index 0\n",
    "# and a list, ycoords, of all values at index 1.\n",
    "xcoords=[point[0] for point in points]\n",
    "ycoords=[point[1] for point in points]\n",
    "print(xcoords,ycoords)"
   ]
  },
  {
   "cell_type": "code",
   "execution_count": 32,
   "metadata": {
    "ExecuteTime": {
     "end_time": "2023-11-11T23:07:52.298918Z",
     "start_time": "2023-11-11T23:07:52.293644Z"
    }
   },
   "outputs": [
    {
     "name": "stdout",
     "output_type": "stream",
     "text": [
      "[(0, 10), (3, 16), (-1, 15), (2, -11)]\n"
     ]
    }
   ],
   "source": [
    "# We can retrieve the original list using the zip function, which zips together\n",
    "# all values indexed at 0, 1, 2, and 3.\n",
    "newpoints=list(zip(xcoords,ycoords))\n",
    "print(newpoints)"
   ]
  },
  {
   "cell_type": "markdown",
   "metadata": {},
   "source": [
    "Given that the `zip` function accepts several arguments, we can do the first step more elegantly (and in a more \"pythonic\" way) using the `*` operator:"
   ]
  },
  {
   "cell_type": "code",
   "execution_count": 33,
   "metadata": {
    "ExecuteTime": {
     "end_time": "2023-11-11T23:07:52.307648Z",
     "start_time": "2023-11-11T23:07:52.302937Z"
    },
    "scrolled": false
   },
   "outputs": [
    {
     "name": "stdout",
     "output_type": "stream",
     "text": [
      "[0, 3, -1, 2] [10, 16, 15, -11]\n"
     ]
    }
   ],
   "source": [
    "xcoords2,ycoords2=zip(*points)\n",
    "print(xcoords,ycoords)"
   ]
  },
  {
   "cell_type": "markdown",
   "metadata": {},
   "source": [
    "What happened in the code above?  Well, the `*` operator forced the `zip` function to accept the elements `points[0]`, `points[1]`, etc as separate input parameters, meaning that the values of the pairs indexed at $0$ were all packed into a single list, as were the values of the pairs indexed at $1$.\n",
    "\n",
    "We can again use the `*` operator to unpack the resulting lists and return each separately to the `print` function."
   ]
  },
  {
   "cell_type": "code",
   "execution_count": 34,
   "metadata": {
    "ExecuteTime": {
     "end_time": "2023-11-11T23:07:52.315139Z",
     "start_time": "2023-11-11T23:07:52.309656Z"
    }
   },
   "outputs": [
    {
     "name": "stdout",
     "output_type": "stream",
     "text": [
      "(0, 3, -1, 2) (10, 16, 15, -11)\n"
     ]
    }
   ],
   "source": [
    "print(*zip(*points))"
   ]
  },
  {
   "cell_type": "markdown",
   "metadata": {},
   "source": [
    "Well, OK, this gives you tuples and not lists, so I am simplifying a bit (unpacking the generator depends on context, in case you're interested). However, this can now be used to transform between both representations by simply repeating the process. Repeatedly using the `*` operator to unpack the resulting iterables, we get:"
   ]
  },
  {
   "cell_type": "code",
   "execution_count": 35,
   "metadata": {
    "ExecuteTime": {
     "end_time": "2023-11-11T23:07:52.324860Z",
     "start_time": "2023-11-11T23:07:52.318150Z"
    }
   },
   "outputs": [
    {
     "name": "stdout",
     "output_type": "stream",
     "text": [
      "(0, 10) (3, 16) (-1, 15) (2, -11)\n",
      "(0, 3, -1, 2) (10, 16, 15, -11)\n",
      "(0, 10) (3, 16) (-1, 15) (2, -11)\n",
      "(0, 3, -1, 2) (10, 16, 15, -11)\n"
     ]
    }
   ],
   "source": [
    "print(*points)\n",
    "*coords,=zip(*points)\n",
    "print(*coords)\n",
    "*newpoints,=zip(*coords)\n",
    "print(*newpoints)\n",
    "*newcoords,=zip(*newpoints)\n",
    "print(*newcoords)"
   ]
  },
  {
   "cell_type": "markdown",
   "metadata": {},
   "source": [
    "Alternatively, nesting `*zip()` in a function call such as `print()` looks as follows:"
   ]
  },
  {
   "cell_type": "code",
   "execution_count": 36,
   "metadata": {
    "ExecuteTime": {
     "end_time": "2023-11-11T23:07:52.336600Z",
     "start_time": "2023-11-11T23:07:52.328394Z"
    },
    "scrolled": false
   },
   "outputs": [
    {
     "name": "stdout",
     "output_type": "stream",
     "text": [
      "(0, 10) (3, 16) (-1, 15) (2, -11)\n",
      "(0, 3, -1, 2) (10, 16, 15, -11)\n",
      "(0, 10) (3, 16) (-1, 15) (2, -11)\n",
      "(0, 3, -1, 2) (10, 16, 15, -11)\n"
     ]
    }
   ],
   "source": [
    "print(*points)\n",
    "print(*zip(*points))\n",
    "print(*zip(*zip(*points)))\n",
    "print(*zip(*zip(*zip(*points))))"
   ]
  },
  {
   "cell_type": "markdown",
   "metadata": {},
   "source": [
    "The really cool thing is that you can go back by applying the same operation twice: I conclude with the mathematical observation that `*zip()` acts as an involution."
   ]
  },
  {
   "cell_type": "markdown",
   "metadata": {},
   "source": [
    "## Python Function Arguments"
   ]
  },
  {
   "cell_type": "markdown",
   "metadata": {},
   "source": [
    "### The `print` function revisited"
   ]
  },
  {
   "cell_type": "markdown",
   "metadata": {},
   "source": [
    "By now, we are really well acquainted with various uses of the `print` function. Let me give you some examples."
   ]
  },
  {
   "cell_type": "code",
   "execution_count": 37,
   "metadata": {
    "ExecuteTime": {
     "end_time": "2023-11-11T23:07:52.347357Z",
     "start_time": "2023-11-11T23:07:52.340610Z"
    },
    "scrolled": true
   },
   "outputs": [
    {
     "name": "stdout",
     "output_type": "stream",
     "text": [
      "Various uses of the print function\n",
      "\n",
      "sin(π) = 0 and cos(π) = -1\n",
      "sin(π) =...0...and cos(π) =...-1\n"
     ]
    }
   ],
   "source": [
    "print('Various uses of the print function')\n",
    "print()\n",
    "print('sin(π) =', 0, 'and cos(π) =', -1)\n",
    "print('sin(π) =', 0, 'and cos(π) =', -1, sep='...')"
   ]
  },
  {
   "cell_type": "markdown",
   "metadata": {},
   "source": [
    "What I would want you to focus on now is two things: first of all, the `print` function seems to have no fixed number of arguments. Indeed, in the first three lines this function is used with one, zero, and four arguments, respectively. Additionally, there is also this strange piece of code `sep='...'`, which changes the separator string between arguments. It overwrites the default separator string ' ' (blank space) by '...' (three periods)."
   ]
  },
  {
   "cell_type": "markdown",
   "metadata": {},
   "source": [
    "It turns out that all of this is not special for the `print` function at all, but represents features that we can use for functions we write ourselves."
   ]
  },
  {
   "cell_type": "markdown",
   "metadata": {},
   "source": [
    "### Functions with an arbitrary number of arguments, `*args`"
   ]
  },
  {
   "cell_type": "markdown",
   "metadata": {},
   "source": [
    "One feature of the `print` function is that it can take an arbitrary number of arguments. You may recall that when we wanted to compute a sum of numbers, we had to put the numbers into a list and call `sum` with the list as an argument. In other words,\n",
    "```python\n",
    "sum([1,2])\n",
    "```\n",
    "works, but\n",
    "```python\n",
    "sum(1,2)\n",
    "```\n",
    "produces an error. We will now write a function `my_sum` that takes an arbitrary number of arguments (provided they are all numerical) and sums them all up, i.e. can be used as\n",
    "```python\n",
    "my_sum(1,2)\n",
    "```"
   ]
  },
  {
   "cell_type": "code",
   "execution_count": 38,
   "metadata": {
    "ExecuteTime": {
     "end_time": "2023-11-11T23:07:52.358592Z",
     "start_time": "2023-11-11T23:07:52.351370Z"
    }
   },
   "outputs": [
    {
     "name": "stdout",
     "output_type": "stream",
     "text": [
      "6\n",
      "(4+1j)\n"
     ]
    }
   ],
   "source": [
    "def my_sum(*numbers):\n",
    "    s=0\n",
    "    for i in numbers:\n",
    "        s=s+i\n",
    "    return(s)\n",
    "\n",
    "print(my_sum(1,2,3))\n",
    "print(my_sum(1,2.,1+1j))"
   ]
  },
  {
   "cell_type": "markdown",
   "metadata": {},
   "source": [
    "So what happened here? `*numbers` means that the operator * packs all the items that you hand over when calling the function into a list and assigns that list to `numbers`. This implies that you can do things like iterate over it (as done above), or access the various arguments by indexing `numbers[i]`. \n",
    "\n",
    "We can in fact simply write the following:"
   ]
  },
  {
   "cell_type": "code",
   "execution_count": 39,
   "metadata": {
    "ExecuteTime": {
     "end_time": "2023-11-11T23:07:52.369866Z",
     "start_time": "2023-11-11T23:07:52.361602Z"
    },
    "scrolled": true
   },
   "outputs": [
    {
     "data": {
      "text/plain": [
       "1"
      ]
     },
     "execution_count": 39,
     "metadata": {},
     "output_type": "execute_result"
    }
   ],
   "source": [
    "def my_sum(*numbers):\n",
    "    return sum(numbers)\n",
    "\n",
    "my_sum(3,-9,7)"
   ]
  },
  {
   "cell_type": "markdown",
   "metadata": {},
   "source": [
    "To be really explicit, in the above example `numbers` is an iterable with `numbers[0]=3`,`numbers[1]=-9`, and `numbers[2]=7`. "
   ]
  },
  {
   "cell_type": "markdown",
   "metadata": {},
   "source": [
    "Finally, you can use a fixed number of other arguments **before** the `*args` construction."
   ]
  },
  {
   "cell_type": "code",
   "execution_count": 40,
   "metadata": {
    "ExecuteTime": {
     "end_time": "2023-11-11T23:07:52.381353Z",
     "start_time": "2023-11-11T23:07:52.372878Z"
    }
   },
   "outputs": [
    {
     "data": {
      "text/plain": [
       "1"
      ]
     },
     "execution_count": 40,
     "metadata": {},
     "output_type": "execute_result"
    }
   ],
   "source": [
    "def my_sum(start,*numbers):\n",
    "    s=start\n",
    "    for i in numbers:\n",
    "        s=s+i\n",
    "    return(s)\n",
    "\n",
    "my_sum(3,-9,7)"
   ]
  },
  {
   "cell_type": "markdown",
   "metadata": {},
   "source": [
    "This looks just the same as above, but in fact now `start=3`, `numbers[0]=-9`, and `numbers[1]=7`. The beauty of this function definition is that we can use this function to concatenate strings as well (it doesn't work with the previous definitions of `my_sum()` - ask yourself why)."
   ]
  },
  {
   "cell_type": "code",
   "execution_count": 41,
   "metadata": {
    "ExecuteTime": {
     "end_time": "2023-11-11T23:07:52.391046Z",
     "start_time": "2023-11-11T23:07:52.384366Z"
    }
   },
   "outputs": [
    {
     "data": {
      "text/plain": [
       "'SOS'"
      ]
     },
     "execution_count": 41,
     "metadata": {},
     "output_type": "execute_result"
    }
   ],
   "source": [
    "my_sum('S','O','S')"
   ]
  },
  {
   "cell_type": "markdown",
   "metadata": {},
   "source": [
    "### Functions with default arguments"
   ]
  },
  {
   "cell_type": "markdown",
   "metadata": {},
   "source": [
    "The other feature of the `print` function is that the separator string could be changed by `sep=\"...\"`. To remind ourselves, `sep` has a pre-defined value: if you don't assign anything to the separator then `sep=\" \"` is a blank space by default."
   ]
  },
  {
   "cell_type": "code",
   "execution_count": 42,
   "metadata": {
    "ExecuteTime": {
     "end_time": "2023-11-11T23:07:52.398711Z",
     "start_time": "2023-11-11T23:07:52.393059Z"
    }
   },
   "outputs": [
    {
     "name": "stdout",
     "output_type": "stream",
     "text": [
      "this             is             widely             spaced\n",
      "and this is normally spaced\n",
      "\n",
      "a\n",
      "new\n",
      "line\n",
      "for\n",
      "each\n",
      "string\n"
     ]
    }
   ],
   "source": [
    "print(\"this\", \"is\", \"widely\", \"spaced\", sep=\"             \")\n",
    "print(\"and\", \"this\", \"is\", \"normally\", \"spaced\") #default separator value \" \"\n",
    "print() #empty line\n",
    "print(\"a\", \"new\" ,\"line\", \"for\", \"each\", \"string\", sep=\"\\n\")"
   ]
  },
  {
   "cell_type": "markdown",
   "metadata": {},
   "source": [
    "This is a nice feature that we can use when writing our own functions. Let's think of all these root finding algorithms. Maybe you want one function from which you use the bisection method, regula falsi, and secant method, with the secant method being the default."
   ]
  },
  {
   "cell_type": "code",
   "execution_count": 43,
   "metadata": {
    "ExecuteTime": {
     "end_time": "2023-11-11T23:07:52.409506Z",
     "start_time": "2023-11-11T23:07:52.401725Z"
    }
   },
   "outputs": [],
   "source": [
    "def root_finding(f,a,b,n,method=\"secant\"):\n",
    "    if method==\"secant\":\n",
    "        print(\"using secant method\")\n",
    "        #root=secant(f,a,b,n)\n",
    "    elif method==\"regula falsi\":\n",
    "        print(\"using regula falsi\")\n",
    "        #root=regula_falsi(f,a,b,n)\n",
    "    elif method==\"bisection\":\n",
    "        print(\"using bisection\")\n",
    "        #root=bisection(f,a,b,n)\n",
    "    else:\n",
    "        print(\"allowed methods are 'secant', 'regula falsi', 'bisection'\")\n",
    "        #root=None\n",
    "    #return root"
   ]
  },
  {
   "cell_type": "markdown",
   "metadata": {},
   "source": [
    "Some lines are commented out as I am just trying to get the principle across: if the method is not specified, then the function uses \"secant\" by default, if a valid method is specified, the function uses that, and if an invalid method is specified, the function prints out a helpful message."
   ]
  },
  {
   "cell_type": "code",
   "execution_count": 44,
   "metadata": {
    "ExecuteTime": {
     "end_time": "2023-11-11T23:07:52.422269Z",
     "start_time": "2023-11-11T23:07:52.412528Z"
    },
    "scrolled": false
   },
   "outputs": [
    {
     "name": "stdout",
     "output_type": "stream",
     "text": [
      "using secant method\n",
      "using secant method\n",
      "using regula falsi\n",
      "allowed methods are 'secant', 'regula falsi', 'bisection'\n"
     ]
    }
   ],
   "source": [
    "root_finding(lambda x: x*(2-x), -1, 1, 10)\n",
    "root_finding(lambda x: x*(2-x), -1, 1, 10, method=\"secant\")\n",
    "root_finding(lambda x: x*(2-x), -1, 1, 10, method=\"regula falsi\")\n",
    "root_finding(lambda x: x*(2-x), -1, 1, 10, method=\"bijection\")"
   ]
  },
  {
   "cell_type": "markdown",
   "metadata": {},
   "source": [
    "## How complex is an algorithm?"
   ]
  },
  {
   "cell_type": "markdown",
   "metadata": {},
   "source": [
    "We have already pointed out that one should think of writing efficient code. We shall now look into what this means in more detail. Python already helps you with this, for example by not making copies of whole arrays during assignment, unless you specify `.copy()`. Doing so would waste both computer memory and run time. Moreover, `numpy` provides optimised functionality for linear algebra calculations. So we haven't really had to worry about this so far. \n",
    "\n",
    "But occasionally it is necessary to design or choose good algorithms and to implement them efficiently. To do so, we first have to introduce some terminology."
   ]
  },
  {
   "cell_type": "markdown",
   "metadata": {},
   "source": [
    "In general, how quickly an algorithm will provide an answer will depend on the actual machine that the code is run on, so in order to discuss complexity theoretically we will focus on both the **number of executions** needed, and the **memory** needed. The former is the **time complexity**, the latter the **memory complexity** of the algorithm. Complexity analysis focusses on the question of how these quantities grow if the **size** of the problem increases. For this, we will use [**O() notation**](https://en.wikipedia.org/wiki/Big_O_notation), which allows us to make abstract statements about this growth. Here, n can be the length of a list to be sorted, the index of a Fibonacci number to be computed, and so on."
   ]
  },
  {
   "cell_type": "markdown",
   "metadata": {},
   "source": [
    "Roughly, the $O(n)$ notation states how fast a quantity grows as $n$ becomes large. For example, if $T(n)$ is the run time, and $f(n)$ is some positive increasing function of $n$, then\n",
    "\n",
    "$$T(n)=O(f(n))\\quad\\text{as}\\quad n\\to\\infty$$\n",
    "\n",
    "means that there exists some $M>0$ and some $n_0$ such that $T(n)\\leq M f(n)$ for all $n\\geq n_0$.\n",
    "\n",
    "Note that the $O(n)$ notation ignores the size of the prefactor $M$, as this is irrelevant when looking at the growth for really large values of $n$. Typical examples are\n",
    "\n",
    "- $O(1)$: constant growth: no increase of $T(n)$ at all when $n$ increases\n",
    "- $O(\\log n)$: logarithmic growth: when $n$ doubles, $T(n)$ increases by a constant amount\n",
    "- $O(n)$: linear growth: when $n$ doubles, so does $T(n)$\n",
    "- $O(n^d)$: polynomial growth: when $n$ doubles, $T(n)$ increases by a factor $2^d$\n",
    "- $O(c^n)$: exponential growth: when $n$ increases by one, $T(n)$ increases by a factor $c$\n",
    "- $O(n!)$: factorial growth - about as bad as it gets (example: computing all permutations of $n$ objects)\n",
    "\n",
    "Normally there is an implicit optimality assumption when people are using this notation, as by the mathematical definition above, one could say [for example](https://stackoverflow.com/questions/44341669/how-is-on-algorithm-also-an-on2-algorithm) that $O(n)=O(n^2)$. (Unfortunately, the equals sign is also not reflexive in this notation: $O(n^2)=O(n)$ is clearly nonsense.)"
   ]
  },
  {
   "cell_type": "code",
   "execution_count": 45,
   "metadata": {
    "ExecuteTime": {
     "end_time": "2023-11-11T23:07:53.071831Z",
     "start_time": "2023-11-11T23:07:52.424280Z"
    }
   },
   "outputs": [],
   "source": [
    "import random # to generate some randomly chosen examples below\n",
    "from timeit import timeit\n",
    "import matplotlib.pyplot as plt\n",
    "import numpy as np"
   ]
  },
  {
   "cell_type": "markdown",
   "metadata": {},
   "source": [
    "In what follows, we shall mainly consider the case of time complexity, as this is harder to analyse. Memory complexity is generally easier to understand, as you just have to consider the amount of data that is needed to store (lists, arrays, ...)."
   ]
  },
  {
   "cell_type": "markdown",
   "metadata": {},
   "source": [
    "## Fibonacci numbers"
   ]
  },
  {
   "cell_type": "markdown",
   "metadata": {},
   "source": [
    "We shall start with the complexity analysis of an example we encountered before when we discussed recursion."
   ]
  },
  {
   "cell_type": "markdown",
   "metadata": {},
   "source": [
    "As you now have learned about the ternary if, I can write the Fibonacci recursion simply as"
   ]
  },
  {
   "cell_type": "code",
   "execution_count": 46,
   "metadata": {
    "ExecuteTime": {
     "end_time": "2023-11-11T23:07:53.081076Z",
     "start_time": "2023-11-11T23:07:53.072870Z"
    }
   },
   "outputs": [
    {
     "name": "stdout",
     "output_type": "stream",
     "text": [
      "[1, 1, 2, 3, 5, 8, 13, 21, 34, 55, 89, 144, 233, 377, 610, 987, 1597, 2584, 4181, 6765]\n"
     ]
    }
   ],
   "source": [
    "fib = lambda n: 1 if n<2 else fib(n-1)+fib(n-2)\n",
    "\n",
    "print([fib(n) for n in range(20)])"
   ]
  },
  {
   "cell_type": "markdown",
   "metadata": {
    "ExecuteTime": {
     "end_time": "2023-03-25T23:26:35.053140Z",
     "start_time": "2023-03-25T23:26:35.032290Z"
    }
   },
   "source": [
    "This simplicity however has a fairly bad drawback: at each level of the recursion `fib()` is called twice, implying the run time increases as fast as the growth of the Fibonacci numbers itself, so we expect exponential growth $O(c^n)$. (More precisely, $c$ here is the golden ratio 1.618... .)\n",
    "\n",
    "On the face of it, not much data storage is needed by each function call, but as the computation of `fib(n)` needs n-fold recursion down to `fib(0)`, storage of intermediate data implies an overall memory complexity of $O(n)$."
   ]
  },
  {
   "cell_type": "markdown",
   "metadata": {},
   "source": [
    "An alternative implementation stores previously computed values and produces $O(n)$ growth:"
   ]
  },
  {
   "cell_type": "code",
   "execution_count": 47,
   "metadata": {
    "ExecuteTime": {
     "end_time": "2023-11-11T23:07:53.091116Z",
     "start_time": "2023-11-11T23:07:53.085086Z"
    },
    "scrolled": true
   },
   "outputs": [
    {
     "name": "stdout",
     "output_type": "stream",
     "text": [
      "[1, 1, 2, 3, 5, 8, 13, 21, 34, 55, 89, 144, 233, 377, 610, 987, 1597, 2584, 4181, 6765]\n"
     ]
    }
   ],
   "source": [
    "def fib2(n):\n",
    "    lst=[1,1]\n",
    "    for m in range(2,n+1):\n",
    "        lst.append(lst[-1]+lst[-2])\n",
    "    return lst[-1]\n",
    "\n",
    "print([fib2(n) for n in range(20)])"
   ]
  },
  {
   "cell_type": "markdown",
   "metadata": {},
   "source": [
    "Here, the memory complexity is again $O(n)$ due to the need to maintain a list of size $n$. So far for the theoretical analysis. It is now time to test these assertions in Python."
   ]
  },
  {
   "cell_type": "markdown",
   "metadata": {},
   "source": [
    "## Run-time analysis in Python"
   ]
  },
  {
   "cell_type": "markdown",
   "metadata": {},
   "source": [
    "To verify the above assertions, we can use the [magic](https://ipython.readthedocs.io/en/stable/interactive/magics.html) command `%timeit`. This is *not* a Python command, but gives easy access to a quick run-time check."
   ]
  },
  {
   "cell_type": "code",
   "execution_count": 48,
   "metadata": {
    "ExecuteTime": {
     "end_time": "2023-11-11T23:08:06.411637Z",
     "start_time": "2023-11-11T23:07:53.094128Z"
    }
   },
   "outputs": [
    {
     "name": "stdout",
     "output_type": "stream",
     "text": [
      "1.7 µs ± 278 ns per loop (mean ± std. dev. of 7 runs, 1,000,000 loops each)\n"
     ]
    }
   ],
   "source": [
    "%timeit fib(5)"
   ]
  },
  {
   "cell_type": "code",
   "execution_count": 49,
   "metadata": {
    "ExecuteTime": {
     "end_time": "2023-11-11T23:08:15.191755Z",
     "start_time": "2023-11-11T23:08:06.415650Z"
    }
   },
   "outputs": [
    {
     "name": "stdout",
     "output_type": "stream",
     "text": [
      "1.01 µs ± 101 ns per loop (mean ± std. dev. of 7 runs, 1,000,000 loops each)\n"
     ]
    }
   ],
   "source": [
    "%timeit fib2(5)"
   ]
  },
  {
   "cell_type": "markdown",
   "metadata": {},
   "source": [
    "This command returns the average time to run the code (as you can see, it fluctuates a bit). and automatically picks some parameters for you: (a) the loop count, which tells you how many times the statement was run per timing loop repetition, and (b) the run count, which tells you how many times the timing loop was repeated."
   ]
  },
  {
   "cell_type": "markdown",
   "metadata": {},
   "source": [
    "So it seems to be clear that `fib2` is better than `fib`, in line with our above analysis. But this is all done for fixed size n=5, so it does not tell us anything about the complexity growth as n changes. For that, we have to run the same for different values of n."
   ]
  },
  {
   "cell_type": "code",
   "execution_count": 50,
   "metadata": {
    "ExecuteTime": {
     "end_time": "2023-11-11T23:08:29.962232Z",
     "start_time": "2023-11-11T23:08:15.193768Z"
    }
   },
   "outputs": [
    {
     "name": "stdout",
     "output_type": "stream",
     "text": [
      "18.4 µs ± 2.86 µs per loop (mean ± std. dev. of 7 runs, 100,000 loops each)\n"
     ]
    }
   ],
   "source": [
    "%timeit fib(10)"
   ]
  },
  {
   "cell_type": "code",
   "execution_count": 51,
   "metadata": {
    "ExecuteTime": {
     "end_time": "2023-11-11T23:08:42.720519Z",
     "start_time": "2023-11-11T23:08:29.963238Z"
    }
   },
   "outputs": [
    {
     "name": "stdout",
     "output_type": "stream",
     "text": [
      "1.51 µs ± 114 ns per loop (mean ± std. dev. of 7 runs, 1,000,000 loops each)\n"
     ]
    }
   ],
   "source": [
    "%timeit fib2(10)"
   ]
  },
  {
   "cell_type": "markdown",
   "metadata": {},
   "source": [
    "It does seem that increasing n by a factor of 2 increases the runtime of `fib` tenfold, but only doubles the run time of `fib2`. This is encouraging, but we should dig deeper."
   ]
  },
  {
   "cell_type": "markdown",
   "metadata": {},
   "source": [
    "What makes the magic command work is the `timeit` module, which provides the function `timeit()`. This needs the statement we wish to time as a textstring, and contains an optional argument `number` preset to `number=1000000`. Moreover, as we will want to time functions defined elsewhere, we also annoyingly need to specify `globals=globals()` - let's not dive to deeply into this here.\n",
    "\n",
    "We can repeat the last magic command by running `timeit()` with `numbers=1000` seven times:"
   ]
  },
  {
   "cell_type": "code",
   "execution_count": 52,
   "metadata": {
    "ExecuteTime": {
     "end_time": "2023-11-11T23:08:52.738157Z",
     "start_time": "2023-11-11T23:08:42.723535Z"
    }
   },
   "outputs": [
    {
     "name": "stdout",
     "output_type": "stream",
     "text": [
      "1.4491896999970777e-06\n",
      "1.4100962999946205e-06\n",
      "1.2477344999933848e-06\n",
      "1.3329784000088693e-06\n",
      "1.506865600007586e-06\n",
      "1.6586029000027338e-06\n",
      "1.4011222999979508e-06\n"
     ]
    }
   ],
   "source": [
    "loops=1000000\n",
    "N=10\n",
    "for _ in range(7):\n",
    "    T=timeit('fib2(N)',number=loops,globals=globals()) # here we need globals() to allow hand over of N\n",
    "    print(T/loops)"
   ]
  },
  {
   "cell_type": "markdown",
   "metadata": {},
   "source": [
    "We still had to divide the total run time by the number of loops to get the result from above. The natural fluctuation of the run time, due to resource competition with other processes on the computer, still creates fluctuations."
   ]
  },
  {
   "cell_type": "markdown",
   "metadata": {},
   "source": [
    "Using `timeit()`, we can compute the run time against n for several values of n. As you can see, it takes some time to compute this, so it is advisable to use parameters judiciously. Not too many values of n, and not too many loops or runs either."
   ]
  },
  {
   "cell_type": "code",
   "execution_count": 53,
   "metadata": {
    "ExecuteTime": {
     "end_time": "2023-11-11T23:08:53.634921Z",
     "start_time": "2023-11-11T23:08:52.740165Z"
    },
    "scrolled": false
   },
   "outputs": [
    {
     "data": {
      "image/png": "[encoded data removed]",
      "text/plain": [
       "<Figure size 640x480 with 1 Axes>"
      ]
     },
     "metadata": {},
     "output_type": "display_data"
    }
   ],
   "source": [
    "Nvalues=range(100)\n",
    "Tvalues=[]\n",
    "loops=1000\n",
    "for N in Nvalues:\n",
    "    Tvalues.append(timeit('fib2(N)',number=loops,globals=globals())/loops)\n",
    "plt.plot(Nvalues,Tvalues)\n",
    "plt.xlabel(\"n\")\n",
    "plt.ylabel(\"t [ms]\")\n",
    "plt.show()"
   ]
  },
  {
   "cell_type": "markdown",
   "metadata": {},
   "source": [
    "You clearly see linear growth in n, but you also see a ruggedness reflecting resource competition (the details will change every time you repeat the calculation). It might thus be more advisable to replace the average over runs by the minimum. Here, this is safe to do, as the complexity does not change between runs: we always repeat the same calculation."
   ]
  },
  {
   "cell_type": "code",
   "execution_count": 54,
   "metadata": {
    "ExecuteTime": {
     "end_time": "2023-11-11T23:09:10.305686Z",
     "start_time": "2023-11-11T23:08:53.636930Z"
    },
    "scrolled": false
   },
   "outputs": [
    {
     "data": {
      "image/png": "[encoded data removed]",
      "text/plain": [
       "<Figure size 640x480 with 1 Axes>"
      ]
     },
     "metadata": {},
     "output_type": "display_data"
    }
   ],
   "source": [
    "Nvalues=range(100)\n",
    "Tvalues=[]\n",
    "Tvalues2=[]\n",
    "loops=1000\n",
    "for N in Nvalues:\n",
    "    Tvalues.append(timeit('fib2(N)',number=loops,globals=globals())/loops)\n",
    "    Tvalues2.append(min([timeit('fib2(N)',number=1,globals=globals()) for _ in range(loops)]))\n",
    "plt.plot(Nvalues,Tvalues,label=\"average\")\n",
    "plt.plot(Nvalues,Tvalues2,label=\"minimum\")\n",
    "plt.xlabel(\"n\")\n",
    "plt.ylabel(\"t [ms]\")\n",
    "plt.legend()\n",
    "plt.show()"
   ]
  },
  {
   "cell_type": "markdown",
   "metadata": {},
   "source": [
    "Regardless of the details, we clearly see a linear growth of the run time as a function of $n$, and hence $O(n)$ time complexity, for `fib2()`."
   ]
  },
  {
   "cell_type": "markdown",
   "metadata": {},
   "source": [
    "After these preparations, we can compare `fib()` and `fib2()`. Note that the values have to be chosen carefully to balance run-time and precision. In particular, for `fib()` I need to restrict to much smaller values of $n$."
   ]
  },
  {
   "cell_type": "code",
   "execution_count": 55,
   "metadata": {
    "ExecuteTime": {
     "end_time": "2023-11-11T23:09:33.057003Z",
     "start_time": "2023-11-11T23:09:10.308694Z"
    }
   },
   "outputs": [
    {
     "data": {
      "image/png": "[encoded data removed]",
      "text/plain": [
       "<Figure size 640x480 with 1 Axes>"
      ]
     },
     "metadata": {},
     "output_type": "display_data"
    },
    {
     "data": {
      "image/png": "[encoded data removed]",
      "text/plain": [
       "<Figure size 640x480 with 1 Axes>"
      ]
     },
     "metadata": {},
     "output_type": "display_data"
    }
   ],
   "source": [
    "Nvalues=range(20)\n",
    "Tvalues=[]\n",
    "loops=1000\n",
    "for N in Nvalues:\n",
    "    Tvalues.append(min([timeit('fib(N)',number=1,globals=globals()) for _ in range(loops)]))\n",
    "Nvalues2=range(100)\n",
    "Tvalues2=[]\n",
    "for N in Nvalues2:\n",
    "    Tvalues2.append(min([timeit('fib2(N)',number=1,globals=globals()) for _ in range(loops)]))\n",
    "plt.title(\"run time analysis\")\n",
    "plt.plot(Nvalues,Tvalues,label=\"recursive Fibonacci\")\n",
    "plt.plot(Nvalues2,Tvalues2,label=\"for-loop Fibonacci\")\n",
    "plt.xlabel(\"n\")\n",
    "plt.ylabel(\"t [ms]\")\n",
    "plt.yscale(\"log\")\n",
    "plt.legend()\n",
    "plt.show()\n",
    "plt.title(\"run time analysis\")\n",
    "plt.plot(Nvalues2,Tvalues2,label=\"for-loop Fibonacci\")\n",
    "plt.xlabel(\"n\")\n",
    "plt.ylabel(\"t [ms]\")\n",
    "plt.legend()\n",
    "plt.show()"
   ]
  },
  {
   "cell_type": "markdown",
   "metadata": {},
   "source": [
    "This example shows clearly that implementation details matter: Extrapolating the straight line in the semi-logarithmic plot, we see that `fib(100)` would take about $10^{12}$ times as long as `fib(20)` to run, so roughly a year, whereas `fib2(100` only takes a fraction of a microsecond."
   ]
  },
  {
   "cell_type": "markdown",
   "metadata": {},
   "source": [
    "# THE END\n",
    "\n",
    "We have now arrived at the end of our lectures. There is much we haven't covered, both on the programming and on the algorithms side. If you liked this, look for more programming modules next year!"
   ]
  },
  {
   "cell_type": "code",
   "execution_count": null,
   "metadata": {},
   "outputs": [],
   "source": []
  }
 ],
 "metadata": {
  "kernelspec": {
   "display_name": "Python 3 (ipykernel)",
   "language": "python",
   "name": "python3"
  },
  "language_info": {
   "codemirror_mode": {
    "name": "ipython",
    "version": 3
   },
   "file_extension": ".py",
   "mimetype": "text/x-python",
   "name": "python",
   "nbconvert_exporter": "python",
   "pygments_lexer": "ipython3",
   "version": "3.11.3"
  }
 },
 "nbformat": 4,
 "nbformat_minor": 2
}
