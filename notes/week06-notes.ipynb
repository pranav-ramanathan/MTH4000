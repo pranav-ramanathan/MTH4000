{
 "cells": [
  {
   "cell_type": "markdown",
   "metadata": {
    "slideshow": {
     "slide_type": "-"
    }
   },
   "source": [
    "# MTH4000 Programming in Python I - Lecture 6\n",
    "Module organisers Dr Matthew Lewis and Prof. Thomas Prellberg"
   ]
  },
  {
   "cell_type": "markdown",
   "metadata": {},
   "source": [
    "## Loops"
   ]
  },
  {
   "cell_type": "markdown",
   "metadata": {},
   "source": [
    "Last week, we discussed logical statements and used them to construct `if` statements.  `if` statements allowed us to execute different blocks of code, dependent on the truth value of a given logical expression."
   ]
  },
  {
   "cell_type": "code",
   "execution_count": null,
   "metadata": {
    "ExecuteTime": {
     "end_time": "2023-10-23T13:42:00.776807Z",
     "start_time": "2023-10-23T13:42:00.766321Z"
    }
   },
   "outputs": [],
   "source": [
    "x=3\n",
    "\n",
    "if x%2==0:\n",
    "    x=x//2                                                 # BLOCK ONE\n",
    "    print('After dividing by two, we get:')                # BLOCK ONE\n",
    "else:\n",
    "    x=3*x+1                                                # BLOCK TWO\n",
    "    print('Multiplying by three and adding one, we get:')  # BLOCK TWO\n",
    "print(x)"
   ]
  },
  {
   "cell_type": "markdown",
   "metadata": {},
   "source": [
    "In the above example, for instance, the code contains two separate blocks.  The number of times that each of these blocks is run is either one or zero, depending on the truth value of the expression `x%2==0`.\n",
    "\n",
    "Suppose now that we have a code block, and we wish to execute it more than once.  We may wish to execute it a hundred times, or a thousand, or indeed, any fixed number of times.  How could we achieve this?\n",
    "\n",
    "We could manually copy and paste the same code several times:"
   ]
  },
  {
   "cell_type": "code",
   "execution_count": null,
   "metadata": {
    "ExecuteTime": {
     "end_time": "2023-10-23T13:42:14.905275Z",
     "start_time": "2023-10-23T13:42:14.899093Z"
    }
   },
   "outputs": [],
   "source": [
    "print('All work and no play makes Jack a dull boy.')\n",
    "print('All work and no play makes Jack a dull boy.')\n",
    "print('All work and no play makes Jack a dull boy.')\n",
    "print('All work and no play makes Jack a dull boy.')\n",
    "print('All work and no play makes Jack a dull boy.')"
   ]
  },
  {
   "cell_type": "markdown",
   "metadata": {},
   "source": [
    "We could write the code inside a function, and then call that function as often as we need."
   ]
  },
  {
   "cell_type": "code",
   "execution_count": null,
   "metadata": {
    "ExecuteTime": {
     "end_time": "2023-10-23T13:42:17.969959Z",
     "start_time": "2023-10-23T13:42:17.963077Z"
    }
   },
   "outputs": [],
   "source": [
    "def quote():\n",
    "    print('All work and no play makes Jack a dull boy.')\n",
    "\n",
    "quote()\n",
    "quote()\n",
    "quote()\n",
    "quote()\n",
    "quote()"
   ]
  },
  {
   "cell_type": "markdown",
   "metadata": {},
   "source": [
    "But writing out the function call a thousand times would also prove tedious.  \n",
    "\n",
    "Fortunately, Python provides functionality for running the same piece of code many times without us having to manually re-type the same commands over and over again.  This functionality is referred to as a **loop**.  The most basic type of loop is a `for` loop."
   ]
  },
  {
   "cell_type": "markdown",
   "metadata": {},
   "source": [
    "### For Loops"
   ]
  },
  {
   "cell_type": "markdown",
   "metadata": {},
   "source": [
    "[`for` loops](http://docs.python.org/3/reference/compound_stmts.html#for) have a similar structure to the list comprehensions that we have seen in previous weeks.  They contain two important objects, an `item` and an `iterable`.  As before, the `item` is just some variable.  The `iterable` is some sequence type object, i.e. a list, tuple or range object.\n",
    "\n",
    "In the following example, the `item` is the variable `k`, and the `iterable` is `range(5)`."
   ]
  },
  {
   "cell_type": "code",
   "execution_count": null,
   "metadata": {
    "ExecuteTime": {
     "end_time": "2023-10-23T13:43:20.763540Z",
     "start_time": "2023-10-23T13:43:20.759598Z"
    }
   },
   "outputs": [],
   "source": [
    "for k in range(5):\n",
    "    print(k)"
   ]
  },
  {
   "cell_type": "markdown",
   "metadata": {},
   "source": [
    "The variable `k` is assigned all of the values in `range(5)` one-by-one, and the ensuing code block is then executed once for each of these values. \n",
    "\n",
    "The first value inside `range(5)` is $0$, and so `k` is assigned the value $0$, which is then printed.  This continues until `k` is given the final value of $4$.  Once this is printed, the loop terminates.\n",
    "\n",
    "Note the similar syntax to list comprehensions.  We use the keywords `for` and `in` to label the `item` and `iterable`, respectively.  The only differences are that the code is no longer written inside a list, and that we must finish off the initial line with a colon.  The colon denotes the start of the code block; all indented code immediately beneath this colon will be run once for each value of `k`.\n",
    "\n",
    "We can write another loop that uses a list as the `iterable`, rather than a range object:"
   ]
  },
  {
   "cell_type": "code",
   "execution_count": null,
   "metadata": {
    "ExecuteTime": {
     "end_time": "2023-10-23T13:43:24.912228Z",
     "start_time": "2023-10-23T13:43:24.903999Z"
    }
   },
   "outputs": [],
   "source": [
    "iterable=['these','words','get','assigned','to','item','one','by','one']\n",
    "\n",
    "for item in iterable:\n",
    "    print(item)\n",
    "print('but this command is outside of the loop')"
   ]
  },
  {
   "cell_type": "markdown",
   "metadata": {},
   "source": [
    "This time, the `item` is labelled `item`, and the `iterable` is a list `iterable` that contains strings, rather than integers.\n",
    "\n",
    "The final print command in the above code is not indented, meaning that it is not part of the loop.  The body of a loop, just like the body of a function, is marked-out by indentation.  Since the final line is not in the body of the loop, it is only run a single time after the loop is closed.\n",
    "\n",
    "We could insert that final line inside the loop, and see how the resulting output differs:"
   ]
  },
  {
   "cell_type": "code",
   "execution_count": null,
   "metadata": {
    "ExecuteTime": {
     "end_time": "2023-10-23T13:43:38.334342Z",
     "start_time": "2023-10-23T13:43:38.329407Z"
    }
   },
   "outputs": [],
   "source": [
    "for item in iterable:\n",
    "    print(item)\n",
    "    print('but this command is outside of the loop') # The print statement is now very misleading.  This command is very much INSIDE the loop."
   ]
  },
  {
   "cell_type": "markdown",
   "metadata": {},
   "source": [
    "The second print command does not use the value of the variable `item`, but this is permissible.  In fact, it's possible to write loops that do not reference the value of the `item` at all.  These loops will just run the code block $n$ times, where $n$ is equal to the length of the `iterable`."
   ]
  },
  {
   "cell_type": "code",
   "execution_count": null,
   "metadata": {
    "ExecuteTime": {
     "end_time": "2023-10-23T13:43:45.433361Z",
     "start_time": "2023-10-23T13:43:45.426070Z"
    }
   },
   "outputs": [],
   "source": [
    "for _ in range(5):\n",
    "    print('All work and no play makes Jack a dull boy.')"
   ]
  },
  {
   "cell_type": "markdown",
   "metadata": {},
   "source": [
    "At this point we've come full-circle.  It should now be clear that the amount of effort required to run this command a thousand times using a `for` loop is negligible in comparison to actually typing out a thousand of these commands.\n",
    "\n",
    "There is a key difference in the behaviour of variables that appear in loops, with those that are used in the definitions of functions and list comprehensions.  We have already seen that once we have constructed a new function or list comprehension, any variables we use within it are immediately forgotten by the code (that is, they are local variables)."
   ]
  },
  {
   "cell_type": "code",
   "execution_count": null,
   "metadata": {
    "ExecuteTime": {
     "end_time": "2023-10-23T13:43:47.025705Z",
     "start_time": "2023-10-23T13:43:47.017587Z"
    }
   },
   "outputs": [],
   "source": [
    "x=3\n",
    "\n",
    "f=lambda x: x**2 # The interpreter won't remember x being used here.  This x is just used as a label for any value returned as an input.\n",
    "\n",
    "f(5) # This input 5 is labelled x in the function definition, but this has no bearing on the global variable x, which remains unchanged.\n",
    "\n",
    "[f(x) for x in range(5)]  # Similarly, the interpreter won't care that x was used to construct this list.\n",
    "\n",
    "x # x still equals 3"
   ]
  },
  {
   "cell_type": "markdown",
   "metadata": {},
   "source": [
    "This is in contrast to loops, which **do** create (and overwrite) global variables, which are remembered even after the loop has been run."
   ]
  },
  {
   "cell_type": "code",
   "execution_count": null,
   "metadata": {
    "ExecuteTime": {
     "end_time": "2023-10-23T13:44:05.894397Z",
     "start_time": "2023-10-23T13:44:05.890316Z"
    }
   },
   "outputs": [],
   "source": [
    "for n in range(5):\n",
    "    print(n)"
   ]
  },
  {
   "cell_type": "markdown",
   "metadata": {},
   "source": [
    "The variable `n` was created for this loop, but still exists now that the loop has terminated."
   ]
  },
  {
   "cell_type": "code",
   "execution_count": null,
   "metadata": {
    "ExecuteTime": {
     "end_time": "2023-10-23T13:44:08.205921Z",
     "start_time": "2023-10-23T13:44:08.196875Z"
    }
   },
   "outputs": [],
   "source": [
    "n"
   ]
  },
  {
   "cell_type": "markdown",
   "metadata": {},
   "source": [
    "If we write a new loop that uses the variable `n`, we will lose this current value of `n`."
   ]
  },
  {
   "cell_type": "code",
   "execution_count": null,
   "metadata": {
    "ExecuteTime": {
     "end_time": "2023-10-23T13:44:10.184721Z",
     "start_time": "2023-10-23T13:44:10.176687Z"
    }
   },
   "outputs": [],
   "source": [
    "for n in ['new','values','for','n']:\n",
    "    print(n)"
   ]
  },
  {
   "cell_type": "code",
   "execution_count": null,
   "metadata": {
    "ExecuteTime": {
     "end_time": "2023-10-23T13:44:11.060034Z",
     "start_time": "2023-10-23T13:44:11.053422Z"
    }
   },
   "outputs": [],
   "source": [
    "n"
   ]
  },
  {
   "cell_type": "markdown",
   "metadata": {},
   "source": [
    "Let's now try an example where the code block does more than simply print out the entries of the iterable.  This code prints the *square* of each value contained in the list `[1,2,3,4]`."
   ]
  },
  {
   "cell_type": "code",
   "execution_count": null,
   "metadata": {
    "ExecuteTime": {
     "end_time": "2023-10-23T13:44:12.088394Z",
     "start_time": "2023-10-23T13:44:12.083313Z"
    }
   },
   "outputs": [],
   "source": [
    "for x in [1,2,3,4]:\n",
    "    print(x**2)"
   ]
  },
  {
   "cell_type": "markdown",
   "metadata": {},
   "source": [
    "The computation `x**2` is quite straightforward, and can be written in a single line.  This means that the values generated by the above loop could also be computed inside a list comprehension, with `x**2` as the left-hand expression:"
   ]
  },
  {
   "cell_type": "code",
   "execution_count": null,
   "metadata": {
    "ExecuteTime": {
     "end_time": "2023-10-23T13:44:13.197321Z",
     "start_time": "2023-10-23T13:44:13.192623Z"
    }
   },
   "outputs": [],
   "source": [
    "my_lst=[x**2 for x in [1,2,3,4]]\n",
    "print(my_lst)"
   ]
  },
  {
   "cell_type": "markdown",
   "metadata": {},
   "source": [
    "When we run this code, the output appears all at once, but what is hidden here is that the output is actually constructed sequentially one-by-one.\n",
    "\n",
    "We can simulate the above construction of `my_lst` by manually typing a `for` loop that builds this list for us."
   ]
  },
  {
   "cell_type": "code",
   "execution_count": null,
   "metadata": {
    "ExecuteTime": {
     "end_time": "2023-10-23T13:44:14.634514Z",
     "start_time": "2023-10-23T13:44:14.628777Z"
    }
   },
   "outputs": [],
   "source": [
    "my_lst=[]\n",
    "for x in [1,2,3,4]:\n",
    "    my_lst.append(x**2)\n",
    "print(my_lst)"
   ]
  },
  {
   "cell_type": "markdown",
   "metadata": {},
   "source": [
    "In this code, each value inside `[1,2,3,4]` is returned to `x`, squared, and then appended to the list `my_lst`.  Remember that `.append` method adds an item to the list `my_lst` by modifying `my_lst` itself. \n",
    "\n",
    "If you want to understand code in more detail, it is helpful to add a few print commands while you are testing your code."
   ]
  },
  {
   "cell_type": "code",
   "execution_count": null,
   "metadata": {
    "ExecuteTime": {
     "end_time": "2023-10-23T13:44:15.785030Z",
     "start_time": "2023-10-23T13:44:15.778665Z"
    }
   },
   "outputs": [],
   "source": [
    "my_lst=[]\n",
    "for x in [1,2,3,4]:\n",
    "    my_lst.append(x**2)\n",
    "    print(my_lst)"
   ]
  },
  {
   "cell_type": "markdown",
   "metadata": {},
   "source": [
    "Note that the only difference between the last two code boxes is the indentation of the print statement. Once you indent it, it becomes part of the code block in the `for` loop and therefore gets executed repeatedly, not just at the end of the program.\n",
    "\n",
    "If you want to understand it in still more detail, you can add even more print commands!"
   ]
  },
  {
   "cell_type": "code",
   "execution_count": null,
   "metadata": {
    "ExecuteTime": {
     "end_time": "2023-10-23T13:44:17.205177Z",
     "start_time": "2023-10-23T13:44:17.197571Z"
    }
   },
   "outputs": [],
   "source": [
    "my_lst=[]\n",
    "for x in [1,2,3,4]:\n",
    "    print('START code block with x =',x)\n",
    "    print('my_lst has value',my_lst)\n",
    "    print('Now append',x**2,'to my_lst')\n",
    "    my_lst.append(x**2)\n",
    "    print('my_lst has value', my_lst)\n",
    "    print('FINISH code block\\n')"
   ]
  },
  {
   "cell_type": "markdown",
   "metadata": {},
   "source": [
    "As you can see, this can be helpful if you have trouble understanding your how your code is executed. But at the same time, too many print statements can look confusing. A great alternative to this is the [Python visualizer](http://www.pythontutor.com/visualize.html), which allows you to paste your code and see each step of the execution. Try it with the above code, but without any print statements:\n",
    "```python\n",
    "lst=[]\n",
    "for x in [1,2,3,4]:\n",
    "    lst.append(x**2)\n",
    "```"
   ]
  },
  {
   "cell_type": "markdown",
   "metadata": {},
   "source": [
    "### While Loops"
   ]
  },
  {
   "cell_type": "markdown",
   "metadata": {},
   "source": [
    "`for` loops are useful for situations where we wish to iterate over some parameter, and we know exactly which values we wish that parameter to take.  For instance, suppose we want to print the first 10 cube numbers:"
   ]
  },
  {
   "cell_type": "code",
   "execution_count": null,
   "metadata": {
    "ExecuteTime": {
     "end_time": "2023-10-23T13:44:21.635655Z",
     "start_time": "2023-10-23T13:44:21.628940Z"
    }
   },
   "outputs": [],
   "source": [
    "for n in range(1,11):\n",
    "    print(n**3)"
   ]
  },
  {
   "cell_type": "markdown",
   "metadata": {},
   "source": [
    "It's clear that to print the first 10 cube numbers, we needed our variable `n` to receive the values $1,2,\\ldots,10$.\n",
    "\n",
    "But what if we modified the problem slightly?  Suppose we wanted to print all the cube numbers up to 3000.  How could we achieve this?\n",
    "\n",
    "We would need to know the value of the largest integer $n$ such that $n^3<3000$.  This can be achieved by taking cube roots."
   ]
  },
  {
   "cell_type": "code",
   "execution_count": null,
   "metadata": {
    "ExecuteTime": {
     "end_time": "2023-10-23T13:44:23.609029Z",
     "start_time": "2023-10-23T13:44:23.603944Z"
    }
   },
   "outputs": [],
   "source": [
    "from math import floor\n",
    "\n",
    "floor(3000**(1/3))"
   ]
  },
  {
   "cell_type": "markdown",
   "metadata": {},
   "source": [
    "Hence, it suffices to use a `for` loop where `n` is assigned all values in `range(1,15)`."
   ]
  },
  {
   "cell_type": "code",
   "execution_count": null,
   "metadata": {
    "ExecuteTime": {
     "end_time": "2023-10-23T13:44:24.561126Z",
     "start_time": "2023-10-23T13:44:24.555223Z"
    }
   },
   "outputs": [],
   "source": [
    "for n in range(1,15):\n",
    "    print(n**3)"
   ]
  },
  {
   "cell_type": "markdown",
   "metadata": {},
   "source": [
    "This doesn't appear to be very efficient or convenient, however.  Firstly, we needed to perform an auxiliary computation just to find the upper limit for our parameter `n`, which takes additional time and effort.  Secondly, we were fortunate to have such a straightforward method of finding this upper bound.  What if we had been generating prime numbers, for instance?  Would such an upper bound have been so easy to find?\n",
    "\n",
    "For these purposes, we introduce `while` loops.  A [`while` loop](http://docs.python.org/3/reference/compound_stmts.html#the-while-statement) repeatedly executes a block of code, as long as a specified logical condition remains true.\n",
    "\n",
    "Take, for example, the loop below.  It prints a list of square numbers less than 30."
   ]
  },
  {
   "cell_type": "code",
   "execution_count": null,
   "metadata": {
    "ExecuteTime": {
     "end_time": "2023-10-23T13:44:25.663706Z",
     "start_time": "2023-10-23T13:44:25.657273Z"
    }
   },
   "outputs": [],
   "source": [
    "x=1\n",
    "while x**2<30: # `while` is another new keyword\n",
    "    print(x**2)\n",
    "    x=x+1"
   ]
  },
  {
   "cell_type": "markdown",
   "metadata": {},
   "source": [
    "The above box defines a variable `x`, and constructs a `while` loop with condition `x**2<30`.  The line is then finished with a colon, and a code block is given underneath.  As long as the expression `x**2<30` evaluates to the Boolean value `True`, this code block will be repeatedly executed.  \n",
    "\n",
    "For this reason, we require a line in the code block, `x=x+1`, to modify the value of `x` so that the condition `x**2<30` will eventually fail.  **Unlike `for` loops, the value of `x` is not automatically updated through each iteration.  If we want it to change, then we must tell Python how to change it.**  \n",
    "\n",
    "Note that `while` loops do not require a variable `item` or an `iterable` object.  The value `x` had to be defined before the `while` loop had even begun!  In fact, the condition on the `while` loop does not even have to reference a variable at all, it can reference a statement that constantly evaluates to `True`, or is constantly `False`."
   ]
  },
  {
   "cell_type": "code",
   "execution_count": null,
   "metadata": {
    "ExecuteTime": {
     "end_time": "2023-10-23T13:44:26.676546Z",
     "start_time": "2023-10-23T13:44:26.671165Z"
    }
   },
   "outputs": [],
   "source": [
    "# while True:\n",
    "    # print('This will give an infinite loop.') # Warning: This WILL give an infinite loop!  \n",
    "\n",
    "# ( Click 'Kernel' and 'Interrupt' from the overhead menu to stop a code box running. )"
   ]
  },
  {
   "cell_type": "code",
   "execution_count": null,
   "metadata": {
    "ExecuteTime": {
     "end_time": "2023-10-23T13:44:27.275267Z",
     "start_time": "2023-10-23T13:44:27.271569Z"
    }
   },
   "outputs": [],
   "source": [
    "while False:\n",
    "    print('On the other hand, this block will never be run at all.')"
   ]
  },
  {
   "cell_type": "markdown",
   "metadata": {},
   "source": [
    "The main message here is: **make sure you choose a logical condition that will eventually become `False`.**\n",
    "\n",
    "Back to the proper examples, the following is a `while` loop with a condition based on the length of a list:"
   ]
  },
  {
   "cell_type": "code",
   "execution_count": null,
   "metadata": {
    "ExecuteTime": {
     "end_time": "2023-10-23T13:44:28.703030Z",
     "start_time": "2023-10-23T13:44:28.694623Z"
    }
   },
   "outputs": [],
   "source": [
    "to_me=[]\n",
    "to_you=['all','of','these','strings','will','be','copied','across']\n",
    "\n",
    "while len(to_me)<len(to_you):\n",
    "    to_me.append(to_you[len(to_me)])\n",
    "    \n",
    "print(to_me)"
   ]
  },
  {
   "cell_type": "markdown",
   "metadata": {},
   "source": [
    "This example illustrates that the condition of a `while` loop does not need to depend simply on a single numerical value, but can involve more complicated types (such as lists), and can even involve function calls.  We do note, however, that this code could have also been written using a `for` loop."
   ]
  },
  {
   "cell_type": "code",
   "execution_count": null,
   "metadata": {
    "ExecuteTime": {
     "end_time": "2023-10-23T13:44:29.710168Z",
     "start_time": "2023-10-23T13:44:29.703813Z"
    }
   },
   "outputs": [],
   "source": [
    "to_me=[]\n",
    "to_you=['all','of','these','strings','will','be','copied','across']\n",
    "\n",
    "for i in to_you:\n",
    "    to_me.append(i)\n",
    "    \n",
    "print(to_me)"
   ]
  },
  {
   "cell_type": "markdown",
   "metadata": {},
   "source": [
    "Whenever possible, you should use `for` loops instead of `while` loops, as the former will not normally cause an infinite loop.\n",
    "\n",
    "A genuinely different example of a `while` loop that cannot be written as a `for` loop is the following loop (which actually numerically solves $\\cos(x)=x$ - we'll come back to this later)."
   ]
  },
  {
   "cell_type": "code",
   "execution_count": null,
   "metadata": {
    "ExecuteTime": {
     "end_time": "2023-10-23T13:44:30.992672Z",
     "start_time": "2023-10-23T13:44:30.872416Z"
    }
   },
   "outputs": [],
   "source": [
    "import numpy as np\n",
    "x=1\n",
    "y=0\n",
    "while abs(x-y)>1e-10:\n",
    "    y=x\n",
    "    x=x+(np.cos(x)-x)/(np.sin(x)+1)\n",
    "    print(x)"
   ]
  },
  {
   "cell_type": "markdown",
   "metadata": {},
   "source": [
    "### Comparing Sequence Constructions"
   ]
  },
  {
   "cell_type": "markdown",
   "metadata": {},
   "source": [
    "We now have introduced several constructions that allow us to create sequences. Let's first recap three ways we used earlier when we discussed iterables, namely writing lists directly, using ranges, and list comprehension."
   ]
  },
  {
   "cell_type": "code",
   "execution_count": null,
   "metadata": {
    "ExecuteTime": {
     "end_time": "2023-10-23T13:44:44.047668Z",
     "start_time": "2023-10-23T13:44:44.041215Z"
    }
   },
   "outputs": [],
   "source": [
    "print([5,11,17,23,29,35])\n",
    "print(list(range(5,36,6)))\n",
    "print([5+6*n for n in range (6)])"
   ]
  },
  {
   "cell_type": "markdown",
   "metadata": {},
   "source": [
    "Writing lists directly is something we can always do (assuming we know the items explicitly), ranges are useful for integer data that is evenly spaced, and list comprehension can be used when we know a formula for the $n^{th}$ item.\n",
    "\n",
    "As we have just seen, instead of a list comprehension we can use a `for` loop that appends items sequentially. To do so, you need to create an empty list before you start the loop (so you have something to append to), and then in the loop repeatedly compute the next list item and append it to your list."
   ]
  },
  {
   "cell_type": "code",
   "execution_count": null,
   "metadata": {
    "ExecuteTime": {
     "end_time": "2023-10-23T13:44:45.884420Z",
     "start_time": "2023-10-23T13:44:45.880336Z"
    }
   },
   "outputs": [],
   "source": [
    "my_list=[]\n",
    "for n in range(6):\n",
    "    new_item=5+6*n\n",
    "    my_list.append(new_item)\n",
    "print(my_list)"
   ]
  },
  {
   "cell_type": "markdown",
   "metadata": {},
   "source": [
    "As we have also just seen above, this can also be written using a `while` loop."
   ]
  },
  {
   "cell_type": "code",
   "execution_count": null,
   "metadata": {
    "ExecuteTime": {
     "end_time": "2023-10-23T13:44:47.108510Z",
     "start_time": "2023-10-23T13:44:47.101143Z"
    }
   },
   "outputs": [],
   "source": [
    "my_list=[]\n",
    "n=0\n",
    "while n<6:\n",
    "    new_item=5+6*n\n",
    "    my_list.append(new_item)\n",
    "    n=n+1\n",
    "print(my_list)"
   ]
  },
  {
   "cell_type": "markdown",
   "metadata": {},
   "source": [
    "Note that if you can write a sequence using list comprehension instead of using loops, you should choose to do this. It is the most efficient way."
   ]
  },
  {
   "cell_type": "markdown",
   "metadata": {},
   "source": [
    "### Recursive Sequences"
   ]
  },
  {
   "cell_type": "markdown",
   "metadata": {},
   "source": [
    "`for` loops and `while` loops are very useful when we don't know an explicit formula for the elements of a sequence, but we do know how to compute new elements by using the previous ones. Such a sequence is called a recursive sequence."
   ]
  },
  {
   "cell_type": "markdown",
   "metadata": {},
   "source": [
    "The items $x_n=5+6n$ in the above example also satisfy the recursion\n",
    "\n",
    "$$x_n=x_{n-1}+6\\;.$$\n",
    "\n",
    "This recursion can be used in a `for` or `while` loop to compute the next list item, once we know the initial item."
   ]
  },
  {
   "cell_type": "code",
   "execution_count": null,
   "metadata": {
    "ExecuteTime": {
     "end_time": "2023-10-23T13:44:49.551811Z",
     "start_time": "2023-10-23T13:44:49.547323Z"
    }
   },
   "outputs": [],
   "source": [
    "my_list=[5]\n",
    "for n in range(1,6):\n",
    "    new_item=my_list[-1]+6\n",
    "    my_list.append(new_item)\n",
    "print(my_list)"
   ]
  },
  {
   "cell_type": "markdown",
   "metadata": {},
   "source": [
    "Note that Python makes it very easy to refer to the last entry of our list as `mylist[-1]` using the convention of negative indices. Alternatively, we could have written `mylist[len(mylist)-1]`, or in this case also `mylist[n-1]` as the length of the list in this particular loop is `n`. \n",
    "\n",
    "(Please remember that using negative indices was covered in Lecture 2.)"
   ]
  },
  {
   "cell_type": "code",
   "execution_count": null,
   "metadata": {
    "ExecuteTime": {
     "end_time": "2023-10-23T13:45:08.339896Z",
     "start_time": "2023-10-23T13:45:08.335871Z"
    }
   },
   "outputs": [],
   "source": [
    "my_list=[5]\n",
    "n=1\n",
    "while n<6:\n",
    "    new_item=5+6*n\n",
    "    my_list.append(new_item)\n",
    "    n=n+1\n",
    "print(my_list)"
   ]
  },
  {
   "cell_type": "markdown",
   "metadata": {},
   "source": [
    "Let us look at a slightly more complicated example: the Fibonacci numbers $1,1,2,3,5,8,13,21,34,55,\\ldots$ are recursively defined by $x_0=1$, $x_1=1$, and\n",
    "\n",
    "$$x_n=x_{n-1}+x_{n-2}\\,,$$\n",
    "\n",
    "for $n>1$.  While there is an explicit formula for the $n^{th}$ Fibonacci number involving powers of the golden ratio, the recursive description (where the next term depends on the two previous ones) is again easy to code using the `for` loop, together with `append`. The structure of the `for` loop is precisely as above, except that we need two starting values."
   ]
  },
  {
   "cell_type": "code",
   "execution_count": null,
   "metadata": {
    "ExecuteTime": {
     "end_time": "2023-10-23T13:45:09.609887Z",
     "start_time": "2023-10-23T13:45:09.601829Z"
    }
   },
   "outputs": [],
   "source": [
    "fibonacci_numbers=[1,1]\n",
    "for n in range(2,15):\n",
    "    next_fibonacci=fibonacci_numbers[-1]+fibonacci_numbers[-2]\n",
    "    fibonacci_numbers.append(next_fibonacci)\n",
    "print(fibonacci_numbers)"
   ]
  },
  {
   "cell_type": "markdown",
   "metadata": {},
   "source": [
    "If you paid attention last week, you will already have realised that I could also have formulated the Fibonacci number computation as a recursive function:"
   ]
  },
  {
   "cell_type": "code",
   "execution_count": null,
   "metadata": {
    "ExecuteTime": {
     "end_time": "2023-10-23T13:45:10.555562Z",
     "start_time": "2023-10-23T13:45:10.547386Z"
    }
   },
   "outputs": [],
   "source": [
    "def fibonacci(n):\n",
    "    if n<=1:\n",
    "        f=1\n",
    "    else:\n",
    "        f=fibonacci(n-1)+fibonacci(n-2)\n",
    "    return f\n",
    "\n",
    "[fibonacci(n) for n in range(15)]"
   ]
  },
  {
   "cell_type": "markdown",
   "metadata": {},
   "source": [
    "### Computing Sums"
   ]
  },
  {
   "cell_type": "markdown",
   "metadata": {},
   "source": [
    "Lets assume we want to numerically evaluate \n",
    "\n",
    "$$\\frac1e=\\sum\\limits_{n=0}^\\infty\\frac{(-1)^n}{n!}\\;.$$\n",
    "\n",
    "To start with, we need to a define function compute the factorial of $n$. A few weeks ago, we used the black-box function `math.factorial`, and in last week's lecture we used a recursive function. Here we implement the recursive description $n!=n\\cdot(n-1)!$ with a `while` loop."
   ]
  },
  {
   "cell_type": "code",
   "execution_count": null,
   "metadata": {
    "ExecuteTime": {
     "end_time": "2023-10-23T13:45:17.097913Z",
     "start_time": "2023-10-23T13:45:17.090652Z"
    }
   },
   "outputs": [],
   "source": [
    "def factorial(N):\n",
    "    'computes N! = 1*2*...*(N-1)*N'\n",
    "    product=1\n",
    "    for n in range(1,N+1):\n",
    "        product=n*product\n",
    "    return product\n",
    "\n",
    "print(factorial(1),factorial(4),factorial(10))"
   ]
  },
  {
   "cell_type": "markdown",
   "metadata": {},
   "source": [
    "(Alternatively, we could also have used `np.prod(range(1,N+1))`. There are usually different ways to write code for the same problem.)"
   ]
  },
  {
   "cell_type": "markdown",
   "metadata": {},
   "source": [
    "Now we want to compute $1/e$ by approximating the infinite sum with finite partial sums\n",
    "\n",
    "$$\\sum_{n=0}^N\\frac{(-1)^n}{n!}\\;.$$\n",
    "\n",
    "We can of course do it by summing up a list of coefficients generated by list comprehension via\n",
    "\n",
    "```python\n",
    "sum([(-1)**n/factorial(n) for n in range(N+1)])\n",
    "```\n",
    "\n",
    "but we want to practice writing loops, so lets do the summation with a `while` loop."
   ]
  },
  {
   "cell_type": "code",
   "execution_count": null,
   "metadata": {
    "ExecuteTime": {
     "end_time": "2023-10-23T13:45:18.835380Z",
     "start_time": "2023-10-23T13:45:18.827043Z"
    }
   },
   "outputs": [],
   "source": [
    "def euler(N):\n",
    "    summation=0\n",
    "    n=0\n",
    "    while n<=N:\n",
    "        summation=summation+(-1)**n/factorial(n)\n",
    "        n=n+1\n",
    "    return(summation)\n",
    "\n",
    "print(euler(10))"
   ]
  },
  {
   "cell_type": "markdown",
   "metadata": {},
   "source": [
    "But how good is this approximation? How large do we need to choose $N$? Fortunately, for alternating sums we have the [Leibniz criterion](http://en.wikipedia.org/wiki/Alternating_series_test), a.k.a. alternating series test, stating that if the absolute value of the summands strictly decreases to zero then the error is smaller than the first omitted term. (You'll learn much more about this in Calculus II.)\n",
    "\n",
    "We can therefore conclude that\n",
    "\n",
    "$$\\left|\\sum_{n=0}^N\\frac{(-1)^n}{n!}-\\frac1e\\right|<\\frac1{(N+1)!}\\;.$$\n",
    "\n",
    "This means that if we want to compute $1/e$ up to some accuracy, we need to keep summing terms *while* these are greater than this accuracy, which is perfect for a using a `while` loop."
   ]
  },
  {
   "cell_type": "code",
   "execution_count": null,
   "metadata": {
    "ExecuteTime": {
     "end_time": "2023-10-23T13:47:10.759633Z",
     "start_time": "2023-10-23T13:47:10.755146Z"
    }
   },
   "outputs": [],
   "source": [
    "def euler2(accuracy):\n",
    "    summation=0\n",
    "    n=0\n",
    "    while 1/factorial(n)>accuracy:\n",
    "        summation=summation+(-1)**n/factorial(n)\n",
    "        n=n+1\n",
    "    return(summation)\n",
    "\n",
    "print(euler2(1e-5))"
   ]
  },
  {
   "cell_type": "markdown",
   "metadata": {},
   "source": [
    "You see that the only part of the code that has changed is the logical condition after the `while`. \n",
    "\n",
    "Does this work as we want? Lets compare the actual error with the given accuracy:"
   ]
  },
  {
   "cell_type": "code",
   "execution_count": null,
   "metadata": {
    "ExecuteTime": {
     "end_time": "2023-10-23T13:47:11.878512Z",
     "start_time": "2023-10-23T13:47:11.871207Z"
    }
   },
   "outputs": [],
   "source": [
    "def pretty_print(accuracy, compute, actual):\n",
    "    print('accuracy:', accuracy)\n",
    "    print('computed:', compute(accuracy),\\\n",
    "          'error:', abs(compute(accuracy)-actual))\n",
    "    print()\n",
    "\n",
    "pretty_print(1e-6,euler2,np.exp(-1))\n",
    "pretty_print(1e-9,euler2,np.exp(-1))\n",
    "pretty_print(1e-12,euler2,np.exp(-1))\n",
    "print('    1/e =',np.exp(-1))"
   ]
  },
  {
   "cell_type": "markdown",
   "metadata": {},
   "source": [
    "We see that indeed the error is less than the given accuracy."
   ]
  },
  {
   "cell_type": "markdown",
   "metadata": {},
   "source": [
    "### The danger of infinite while loops"
   ]
  },
  {
   "cell_type": "markdown",
   "metadata": {},
   "source": [
    "When using `while` loops, it is important to make sure that the logical condition in the `while` loop will eventially become false, otherwise your loop will run forever. When this happens you will keep seeing an asterisk in `In[*]` and you need to stop Python by interrupting the kernel by hand (as explained last week)."
   ]
  },
  {
   "cell_type": "markdown",
   "metadata": {},
   "source": [
    "Lets assume we tried to compute Euler's constant up to machine precision, i.e. as long as the evaluation of 1/n! was indistinguishable from `0.0`:"
   ]
  },
  {
   "cell_type": "code",
   "execution_count": null,
   "metadata": {
    "ExecuteTime": {
     "end_time": "2023-10-23T13:47:15.568575Z",
     "start_time": "2023-10-23T13:47:15.557234Z"
    }
   },
   "outputs": [],
   "source": [
    "def euler3():\n",
    "    summation=0\n",
    "    n=0\n",
    "    while 1/factorial(n)>0:\n",
    "        summation=summation+(-1)**n/factorial(n)\n",
    "        n=n+1\n",
    "    return(summation)\n",
    "\n",
    "print(euler3())\n",
    "print('1/e =',np.exp(-1))"
   ]
  },
  {
   "cell_type": "markdown",
   "metadata": {},
   "source": [
    "There are some expected rounding errors, but this works reasonably well. But now assume we had a minor mistake in the code:"
   ]
  },
  {
   "cell_type": "code",
   "execution_count": null,
   "metadata": {
    "ExecuteTime": {
     "end_time": "2023-10-23T13:53:21.824594Z",
     "start_time": "2023-10-23T13:47:16.573318Z"
    }
   },
   "outputs": [],
   "source": [
    "def euler4():\n",
    "    summation=0\n",
    "    n=0\n",
    "    while 1/factorial(n)>=0:\n",
    "        summation=summation+(-1)**n/factorial(n)\n",
    "        n=n+1\n",
    "    return(summation)\n",
    "\n",
    "print(euler4())\n",
    "print('1/e =',np.exp(-1))"
   ]
  },
  {
   "cell_type": "markdown",
   "metadata": {},
   "source": [
    "Nothing happens, and we have to interrupt by hand. Did you find the mistake? \n",
    "\n",
    "This kind of endless loop did happen to some people in one of the in-term tests..."
   ]
  },
  {
   "cell_type": "markdown",
   "metadata": {},
   "source": [
    "## Conclusion and Outlook"
   ]
  },
  {
   "cell_type": "markdown",
   "metadata": {},
   "source": [
    "In this lecture we have introduced loops and used them for the creation of lists and numerical evaluation of sums. After the midterm we shall continue with applications."
   ]
  }
 ],
 "metadata": {
  "kernelspec": {
   "display_name": "Python 3 (ipykernel)",
   "language": "python",
   "name": "python3"
  },
  "language_info": {
   "codemirror_mode": {
    "name": "ipython",
    "version": 3
   },
   "file_extension": ".py",
   "mimetype": "text/x-python",
   "name": "python",
   "nbconvert_exporter": "python",
   "pygments_lexer": "ipython3",
   "version": "3.9.12"
  }
 },
 "nbformat": 4,
 "nbformat_minor": 2
}
