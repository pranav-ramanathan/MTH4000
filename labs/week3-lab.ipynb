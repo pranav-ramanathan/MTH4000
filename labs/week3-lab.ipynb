{
 "cells": [
  {
   "cell_type": "markdown",
   "metadata": {
    "slideshow": {
     "slide_type": "-"
    }
   },
   "source": [
    "# MTH4000 Programming in Python I - Lab 3\n",
    "Dr Matthew Lewis and Prof. Thomas Prellberg"
   ]
  },
  {
   "cell_type": "markdown",
   "metadata": {
    "scrolled": true
   },
   "source": [
    "## Exercises"
   ]
  },
  {
   "cell_type": "markdown",
   "metadata": {},
   "source": [
    "Note that ***Reading and Understanding the Instructions*** is part of doing your work. This is always true, but especially in this coursework there are places where you will invariably get lost if you don't follow this strategy."
   ]
  },
  {
   "cell_type": "markdown",
   "metadata": {},
   "source": [
    "### Exercise 1: Nested lists"
   ]
  },
  {
   "cell_type": "markdown",
   "metadata": {},
   "source": [
    "If we remove the `sum()` in the code of Exercise 2 in last week's lab workbook, we don't compute the sum of list entries, and the output is a list whose entries are themselves lists. "
   ]
  },
  {
   "cell_type": "code",
   "execution_count": 1,
   "metadata": {
    "ExecuteTime": {
     "end_time": "2023-10-07T07:50:16.666082Z",
     "start_time": "2023-10-07T07:50:16.645764Z"
    }
   },
   "outputs": [
    {
     "name": "stdout",
     "output_type": "stream",
     "text": [
      "[0, 1, 8, 27, 64]\n",
      "[[], [1], [1, 7], [1, 7, 19], [1, 7, 19, 37]]\n"
     ]
    }
   ],
   "source": [
    "print([sum([3*k*(k+1)+1 for k in range(n)]) for n in range(5)])\n",
    "print([    [3*k*(k+1)+1 for k in range(n)]  for n in range(5)])"
   ]
  },
  {
   "cell_type": "markdown",
   "metadata": {},
   "source": [
    "**Make sure you really understand the above code** (for example, why in the second print statement the first list entry is given by `[]`). \n",
    "\n",
    "It might help to pull the code apart a bit more. The code `[3*k*(k+1)+1 for k in range(n)]` gets computed five times, for values of $n$ from $0$ to 4:"
   ]
  },
  {
   "cell_type": "code",
   "execution_count": 2,
   "metadata": {
    "ExecuteTime": {
     "end_time": "2023-10-07T07:50:17.544177Z",
     "start_time": "2023-10-07T07:50:17.531851Z"
    },
    "scrolled": true
   },
   "outputs": [
    {
     "name": "stdout",
     "output_type": "stream",
     "text": [
      "[]\n",
      "[1]\n",
      "[1, 7]\n",
      "[1, 7, 19]\n",
      "[1, 7, 19, 37]\n"
     ]
    }
   ],
   "source": [
    "print([3*k*(k+1)+1 for k in range(0)])\n",
    "print([3*k*(k+1)+1 for k in range(1)])\n",
    "print([3*k*(k+1)+1 for k in range(2)])\n",
    "print([3*k*(k+1)+1 for k in range(3)])\n",
    "print([3*k*(k+1)+1 for k in range(4)])"
   ]
  },
  {
   "cell_type": "markdown",
   "metadata": {},
   "source": [
    "The five results of these computations then get put into a list, producing the output given above.\n",
    "\n",
    "Once you you understand what is going on here, you can test your understanding by trying to create the following three lists of lists using list comprehension:"
   ]
  },
  {
   "cell_type": "markdown",
   "metadata": {},
   "source": [
    "1. $$[\\,[0, 0],\\, [1, 1],\\, [2, 4],\\, [3, 9],\\, [4, 16],\\, [5, 25],\\, [6, 36],\\, [7, 49]\\,]\\:,$$ \n",
    "\n",
    "\n",
    "2. $$[\\,[0],\\, [0, 1],\\, [0,1,2],\\, [0,1,2,3],\\, [0,1,2,3,4]\\,]\\:,$$\n",
    "\n",
    "\n",
    "3. $$[\\,[1],\\, [1, 2],\\, [1,2,3],\\, [1,2,3,4],\\, [1,2,3,4,5],\\, [1,2,3,4,5,6]\\,]\\:.$$"
   ]
  },
  {
   "cell_type": "markdown",
   "metadata": {},
   "source": [
    "**Hint:** if you don't immediately see the patterns, try first using pen and paper to write down some ideas and test them."
   ]
  },
  {
   "cell_type": "code",
   "execution_count": 8,
   "metadata": {
    "ExecuteTime": {
     "end_time": "2023-10-04T13:42:39.107568Z",
     "start_time": "2023-10-04T13:42:39.093359Z"
    }
   },
   "outputs": [
    {
     "name": "stdout",
     "output_type": "stream",
     "text": [
      "[[0, 0], [1, 1], [2, 4], [3, 9], [4, 16], [5, 25], [6, 36], [7, 49]]\n",
      "[[0], [0, 1], [0, 1, 2], [0, 1, 2, 3], [0, 1, 2, 3, 4]]\n",
      "[[1], [1, 2], [1, 2, 3], [1, 2, 3, 4], [1, 2, 3, 4, 5], [1, 2, 3, 4, 5, 6]]\n"
     ]
    }
   ],
   "source": [
    "print([[n**k for k in range(1,3)] for n in range(8)]) #1 squares from 0 - 7 \n",
    "print([[n for n in range(k)] for k in range(1, 6)]) #2\n",
    "print([[n+1 for n in range(k)] for k in range(1,7)]) #3"
   ]
  },
  {
   "cell_type": "markdown",
   "metadata": {},
   "source": [
    "### Exercise 2: the Ruler Function"
   ]
  },
  {
   "cell_type": "markdown",
   "metadata": {},
   "source": [
    "We would like you look at the [Ruler Function](https://en.wikipedia.org/wiki/Ruler_function), which counts the number of times a positive integer $n$ can be evenly divided by two. A cool way of determining this is to consider the binary representation of integers and getting the number of trailing zeros, using the built-in `bin()` function. Binary numbers are shown as strings of zeros and ones with a leading \"0b\", so for example the binary representation of $20=16+4=2^4+2^2$ is given by `0b10100`."
   ]
  },
  {
   "cell_type": "code",
   "execution_count": 9,
   "metadata": {
    "ExecuteTime": {
     "end_time": "2023-10-07T07:50:23.805961Z",
     "start_time": "2023-10-07T07:50:23.791106Z"
    },
    "scrolled": true
   },
   "outputs": [
    {
     "data": {
      "text/plain": [
       "'0b10100'"
      ]
     },
     "execution_count": 9,
     "metadata": {},
     "output_type": "execute_result"
    }
   ],
   "source": [
    "bin(20)"
   ]
  },
  {
   "cell_type": "markdown",
   "metadata": {},
   "source": [
    "We see that there are two trailing zeros, corresponding to the fact that $20=5\\times 2^2$.\n",
    "\n",
    "We can strip the trailing zeros with the `.rstrip()` method."
   ]
  },
  {
   "cell_type": "code",
   "execution_count": 10,
   "metadata": {
    "ExecuteTime": {
     "end_time": "2023-10-07T07:50:25.051166Z",
     "start_time": "2023-10-07T07:50:25.041897Z"
    }
   },
   "outputs": [
    {
     "data": {
      "text/plain": [
       "'0b101'"
      ]
     },
     "execution_count": 10,
     "metadata": {},
     "output_type": "execute_result"
    }
   ],
   "source": [
    "bin(20).rstrip(\"0\")"
   ]
  },
  {
   "cell_type": "markdown",
   "metadata": {},
   "source": [
    "This shortens the string to `0b101` and we can compute the difference in length, using the `len()` function."
   ]
  },
  {
   "cell_type": "code",
   "execution_count": 3,
   "metadata": {
    "ExecuteTime": {
     "end_time": "2023-10-07T07:50:29.133559Z",
     "start_time": "2023-10-07T07:50:29.122430Z"
    }
   },
   "outputs": [],
   "source": [
    "import numpy as np\n",
    "len(bin(20))-len(bin(20).rstrip(\"0\"))\n",
    "\n",
    "def ruler(num):\n",
    "    num = int(num)\n",
    "    return float(len(bin(num)) - len(bin(num).rstrip(\"0\")))"
   ]
  },
  {
   "cell_type": "markdown",
   "metadata": {},
   "source": [
    "In other words, the number of times a positive integer `n` can be evenly divided by two can be computed using\n",
    "```python\n",
    "    len(bin(n))-len(bin(n).rstrip(\"0\"))\n",
    "```"
   ]
  },
  {
   "cell_type": "markdown",
   "metadata": {},
   "source": [
    "Produce two plots of the graph of the ruler function for integers $n$ from $0$ to $2^8-1$ and from $0$ to $2^{16}-1$, respectively."
   ]
  },
  {
   "cell_type": "code",
   "execution_count": 4,
   "metadata": {
    "ExecuteTime": {
     "end_time": "2023-10-04T13:42:44.976167Z",
     "start_time": "2023-10-04T13:42:39.209604Z"
    }
   },
   "outputs": [
    {
     "data": {
      "text/plain": [
       "[<matplotlib.lines.Line2D at 0x117ef06a0>]"
      ]
     },
     "execution_count": 4,
     "metadata": {},
     "output_type": "execute_result"
    },
    {
     "data": {
      "image/png": "[encoded data removed]",
      "text/plain": [
       "<Figure size 640x480 with 1 Axes>"
      ]
     },
     "metadata": {},
     "output_type": "display_data"
    }
   ],
   "source": [
    "import matplotlib.pyplot as plt\n",
    "import numpy as np\n",
    "\n",
    "ax = plt.gca()\n",
    "# ax.set_aspect(\"equal\")\n",
    "# make the top and right spine invisible:\n",
    "ax.spines['top'].set_color('none')\n",
    "ax.spines['right'].set_color('none')\n",
    "# moving bottom spine y=0 position:\n",
    "ax.spines['bottom'].set_position(('data',0))\n",
    "# move left spine to x=0 position:\n",
    "ax.spines['left'].set_position(('data',0))\n",
    "plt.grid('True')\n",
    "\n",
    "x1 = np.linspace(0, 2**8)\n",
    "y1 = np.array([ruler(x) for x in x1])\n",
    "\n",
    "x2 = np.linspace(0, 2**16)\n",
    "y2 = np.array([ruler(x) for x in x2])\n",
    "# plt.plot(x1, y1, color=\"red\")\n",
    "plt.plot(x2,y2, color=\"green\")"
   ]
  },
  {
   "cell_type": "markdown",
   "metadata": {},
   "source": [
    "### Exercise 3:  Thomae's Function"
   ]
  },
  {
   "cell_type": "markdown",
   "metadata": {},
   "source": [
    "Similar to our discussion of Euler's totient function $\\varphi(n)$, we would like you to look at [Thomae's function](https://en.wikipedia.org/wiki/Thomae%27s_function), which is defined by:\n",
    "\n",
    "$$f(x)=\\begin{cases}\n",
    "  \\frac{1}{q} &\\text{if }x = \\tfrac{p}{q}\\quad (x \\text{ is rational), with } p \\in \\mathbb Z \\text{ and } q \\in \\mathbb N \\text{ coprime}\\\\\n",
    "  0           &\\text{if }x \\text{ is irrational.}\n",
    "\\end{cases}$$\n",
    "\n",
    "Thomae's function is difficult to graph, as it is discontinuous at infinitely many points (specifically, at **all** rational numbers).  We can however, plot a good approximation of the graph of this function on the domain $(0,1)$ using the following algorithm:\n",
    "\n",
    "1.  Fix some value $m\\in\\mathbb{N}$.  Our graph will consist of values $\\{\\frac{i}{m}\\,:\\, i\\in\\{1,\\ldots,m-1\\}\\}$ along the x-axis.\n",
    "\n",
    "\n",
    "2.  For each value $i\\in \\{1,\\ldots,m-1\\}$, compute the greatest common divisor of $i$ and $m$, then divide this value by $m$.  These will be our y-axis values.\n",
    "\n",
    "\n",
    "3.  Plot the resulting figure produced from these x-values and y-values.\n",
    "\n",
    "Implement this algorithm in the code box below.  For best results, choose a large value of $m$ that has many different prime factors."
   ]
  },
  {
   "cell_type": "code",
   "execution_count": 5,
   "metadata": {
    "ExecuteTime": {
     "end_time": "2023-10-04T13:42:48.070552Z",
     "start_time": "2023-10-04T13:42:44.982463Z"
    }
   },
   "outputs": [
    {
     "data": {
      "text/plain": [
       "[<matplotlib.lines.Line2D at 0x12402c190>,\n",
       " <matplotlib.lines.Line2D at 0x12402c250>,\n",
       " <matplotlib.lines.Line2D at 0x12402d2a0>,\n",
       " <matplotlib.lines.Line2D at 0x12402d390>,\n",
       " <matplotlib.lines.Line2D at 0x117e8f190>,\n",
       " <matplotlib.lines.Line2D at 0x12402d480>,\n",
       " <matplotlib.lines.Line2D at 0x12402d630>,\n",
       " <matplotlib.lines.Line2D at 0x12402d720>,\n",
       " <matplotlib.lines.Line2D at 0x12402d810>,\n",
       " <matplotlib.lines.Line2D at 0x12402d900>,\n",
       " <matplotlib.lines.Line2D at 0x12402d9f0>,\n",
       " <matplotlib.lines.Line2D at 0x12402dae0>,\n",
       " <matplotlib.lines.Line2D at 0x117eda560>,\n",
       " <matplotlib.lines.Line2D at 0x117eda530>,\n",
       " <matplotlib.lines.Line2D at 0x1240076d0>,\n",
       " <matplotlib.lines.Line2D at 0x1240074f0>,\n",
       " <matplotlib.lines.Line2D at 0x124004a00>,\n",
       " <matplotlib.lines.Line2D at 0x124006320>,\n",
       " <matplotlib.lines.Line2D at 0x12402dcf0>,\n",
       " <matplotlib.lines.Line2D at 0x12402dde0>,\n",
       " <matplotlib.lines.Line2D at 0x12402ded0>,\n",
       " <matplotlib.lines.Line2D at 0x12402dfc0>,\n",
       " <matplotlib.lines.Line2D at 0x12402e0b0>,\n",
       " <matplotlib.lines.Line2D at 0x12402e1a0>,\n",
       " <matplotlib.lines.Line2D at 0x12402e290>,\n",
       " <matplotlib.lines.Line2D at 0x12402e380>,\n",
       " <matplotlib.lines.Line2D at 0x12402e470>,\n",
       " <matplotlib.lines.Line2D at 0x12402e560>,\n",
       " <matplotlib.lines.Line2D at 0x12402e650>,\n",
       " <matplotlib.lines.Line2D at 0x12402e740>,\n",
       " <matplotlib.lines.Line2D at 0x12402e830>,\n",
       " <matplotlib.lines.Line2D at 0x12402e920>,\n",
       " <matplotlib.lines.Line2D at 0x12402ea10>,\n",
       " <matplotlib.lines.Line2D at 0x12402eb00>,\n",
       " <matplotlib.lines.Line2D at 0x12402ebf0>,\n",
       " <matplotlib.lines.Line2D at 0x12402ece0>,\n",
       " <matplotlib.lines.Line2D at 0x12402edd0>,\n",
       " <matplotlib.lines.Line2D at 0x12402eec0>,\n",
       " <matplotlib.lines.Line2D at 0x12402efb0>,\n",
       " <matplotlib.lines.Line2D at 0x12402f0a0>,\n",
       " <matplotlib.lines.Line2D at 0x12402f190>,\n",
       " <matplotlib.lines.Line2D at 0x12402f280>,\n",
       " <matplotlib.lines.Line2D at 0x12402f370>,\n",
       " <matplotlib.lines.Line2D at 0x12402f460>,\n",
       " <matplotlib.lines.Line2D at 0x12402f550>,\n",
       " <matplotlib.lines.Line2D at 0x12402f640>,\n",
       " <matplotlib.lines.Line2D at 0x12402f730>,\n",
       " <matplotlib.lines.Line2D at 0x12402f820>,\n",
       " <matplotlib.lines.Line2D at 0x12402f910>,\n",
       " <matplotlib.lines.Line2D at 0x12402fa00>]"
      ]
     },
     "execution_count": 5,
     "metadata": {},
     "output_type": "execute_result"
    },
    {
     "data": {
      "image/png": "[encoded data removed]",
      "text/plain": [
       "<Figure size 640x480 with 1 Axes>"
      ]
     },
     "metadata": {},
     "output_type": "display_data"
    }
   ],
   "source": [
    "import math\n",
    "\n",
    "ax = plt.gca()\n",
    "# ax.set_aspect(\"equal\")\n",
    "# make the top and right spine invisible:\n",
    "ax.spines['top'].set_color('none')\n",
    "ax.spines['right'].set_color('none')\n",
    "# moving bottom spine y=0 position:\n",
    "ax.spines['bottom'].set_position(('data',0))\n",
    "# move left spine to x=0 position:\n",
    "ax.spines['left'].set_position(('data',0))\n",
    "plt.grid('True')\n",
    "\n",
    "m = 2 * 3 *  5 * 7 * 11 * 13 * 17 * 19 * 23 * 29 \n",
    "i = np.linspace(1, m)\n",
    "\n",
    "x = i / m\n",
    "\n",
    "\n",
    "y_values = [math.gcd(m,int(i[k])) / i for k in range(len(i))]\n",
    "\n",
    "\n",
    "plt.plot(x, y_values)"
   ]
  },
  {
   "cell_type": "markdown",
   "metadata": {},
   "source": [
    "You should find that your graph is dependent on your choice of $m$.  What happens if you choose a value of $m$ that is prime?  Can you see why this happens?"
   ]
  },
  {
   "cell_type": "markdown",
   "metadata": {},
   "source": [
    "### Exercise 4: More on the Riemann Zeta Function"
   ]
  },
  {
   "cell_type": "markdown",
   "metadata": {},
   "source": [
    "This is a continuation of last week's exercise, to do more numerical computations using our improved knowledge of Python. Recall the Riemann Zeta function \n",
    "\n",
    "$$\\zeta(s)=\\sum_{n=1}^\\infty\\frac1{n^s}\\;.$$"
   ]
  },
  {
   "cell_type": "markdown",
   "metadata": {},
   "source": [
    "Last week you computed a few partial sums. Using list comprehension, we can simplify the code quite considerably, and easily include hundreds of terms or more."
   ]
  },
  {
   "cell_type": "markdown",
   "metadata": {},
   "source": [
    "#### Exercise 4.a: Compute the $100$th, $400$th, $1600$th partial sums for $s=2,4,6$.Compare against the exactly known values. How many digits agreement do you find with the $1600$th partial sums?"
   ]
  },
  {
   "cell_type": "code",
   "execution_count": 53,
   "metadata": {
    "ExecuteTime": {
     "end_time": "2023-10-04T13:42:49.050421Z",
     "start_time": "2023-10-04T13:42:48.082181Z"
    }
   },
   "outputs": [],
   "source": [
    "def riemann_sum(no_terms, s_val):\n",
    "    return sum(1 / (n ** s_val) for n in range(1, no_terms+1))"
   ]
  },
  {
   "cell_type": "code",
   "execution_count": 59,
   "metadata": {},
   "outputs": [
    {
     "name": "stdout",
     "output_type": "stream",
     "text": [
      "1.6349839001848923\n",
      "1.6424371892440628\n",
      "1.6443092621200377\n",
      "true value: 1.6449340668482264\n"
     ]
    }
   ],
   "source": [
    "print(riemann_sum(100, 2))\n",
    "print(riemann_sum(400, 2))\n",
    "print(riemann_sum(1600, 2))\n",
    "\n",
    "print(f\"true value: {(math.pi ** 2)/6}\")"
   ]
  },
  {
   "cell_type": "code",
   "execution_count": 60,
   "metadata": {},
   "outputs": [
    {
     "name": "stdout",
     "output_type": "stream",
     "text": [
      "1.0823229053444727\n",
      "1.0823232285223028\n",
      "1.0823232336298347\n",
      "true value: 1.082323233711138\n"
     ]
    }
   ],
   "source": [
    "print(riemann_sum(100, 4))\n",
    "print(riemann_sum(400, 4))\n",
    "print(riemann_sum(1600, 4))\n",
    "\n",
    "print(f\"true value: {(math.pi ** 4)/90}\")"
   ]
  },
  {
   "cell_type": "code",
   "execution_count": 61,
   "metadata": {},
   "outputs": [
    {
     "name": "stdout",
     "output_type": "stream",
     "text": [
      "1.0173430619649437\n",
      "1.0173430619844286\n",
      "1.017343061984441\n",
      "true value: 1.017343061984449\n"
     ]
    }
   ],
   "source": [
    "print(riemann_sum(100, 6))\n",
    "print(riemann_sum(400, 6))\n",
    "print(riemann_sum(1600, 6))\n",
    "\n",
    "print(f\"true value: {(math.pi ** 6)/945}\")"
   ]
  },
  {
   "cell_type": "markdown",
   "metadata": {},
   "source": [
    "#### Advanced:"
   ]
  },
  {
   "cell_type": "markdown",
   "metadata": {},
   "source": [
    "$\\zeta(s)$ also can be expressed as an infinite product over all primes,\n",
    "\n",
    "$$\\zeta(s)=\\prod_p\\left(\\frac1{1-p^{-s}}\\right)\\;,$$\n",
    "\n",
    "where the product is over the primes $p=2,3,5,7,11,13,\\ldots$. "
   ]
  },
  {
   "cell_type": "markdown",
   "metadata": {},
   "source": [
    "For the product formula we need an easy way of accessing the $n$-th prime. Fortunately, there already exists a prime function in a Python module (you can find stuff like this with Google) which we can access using `from sympy import prime`."
   ]
  },
  {
   "cell_type": "code",
   "execution_count": 68,
   "metadata": {},
   "outputs": [
    {
     "data": {
      "text/plain": [
       "49"
      ]
     },
     "execution_count": 68,
     "metadata": {},
     "output_type": "execute_result"
    }
   ],
   "source": [
    "func = lambda t: t**2\n",
    "func(7)"
   ]
  },
  {
   "cell_type": "code",
   "execution_count": 63,
   "metadata": {},
   "outputs": [],
   "source": [
    "from sympy import prime"
   ]
  },
  {
   "cell_type": "markdown",
   "metadata": {},
   "source": [
    "#### Exercise 4.b: Using the `prime` function, print a list of the first $20$ prime numbers, and print the $1000$th prime number."
   ]
  },
  {
   "cell_type": "code",
   "execution_count": 66,
   "metadata": {
    "ExecuteTime": {
     "end_time": "2023-10-04T13:42:54.320615Z",
     "start_time": "2023-10-04T13:42:49.068032Z"
    }
   },
   "outputs": [
    {
     "name": "stdout",
     "output_type": "stream",
     "text": [
      "[2, 3, 5, 7, 11, 13, 17, 19, 23, 29, 31, 37, 41, 43, 47, 53, 59, 61, 67, 71]\n",
      "[2, 3, 5, 7, 11, 13, 17, 19, 23, 29, 31, 37, 41, 43, 47, 53, 59, 61, 67, 71, 73, 79, 83, 89, 97, 101, 103, 107, 109, 113, 127, 131, 137, 139, 149, 151, 157, 163, 167, 173, 179, 181, 191, 193, 197, 199, 211, 223, 227, 229, 233, 239, 241, 251, 257, 263, 269, 271, 277, 281, 283, 293, 307, 311, 313, 317, 331, 337, 347, 349, 353, 359, 367, 373, 379, 383, 389, 397, 401, 409, 419, 421, 431, 433, 439, 443, 449, 457, 461, 463, 467, 479, 487, 491, 499, 503, 509, 521, 523, 541, 547, 557, 563, 569, 571, 577, 587, 593, 599, 601, 607, 613, 617, 619, 631, 641, 643, 647, 653, 659, 661, 673, 677, 683, 691, 701, 709, 719, 727, 733, 739, 743, 751, 757, 761, 769, 773, 787, 797, 809, 811, 821, 823, 827, 829, 839, 853, 857, 859, 863, 877, 881, 883, 887, 907, 911, 919, 929, 937, 941, 947, 953, 967, 971, 977, 983, 991, 997, 1009, 1013, 1019, 1021, 1031, 1033, 1039, 1049, 1051, 1061, 1063, 1069, 1087, 1091, 1093, 1097, 1103, 1109, 1117, 1123, 1129, 1151, 1153, 1163, 1171, 1181, 1187, 1193, 1201, 1213, 1217, 1223, 1229, 1231, 1237, 1249, 1259, 1277, 1279, 1283, 1289, 1291, 1297, 1301, 1303, 1307, 1319, 1321, 1327, 1361, 1367, 1373, 1381, 1399, 1409, 1423, 1427, 1429, 1433, 1439, 1447, 1451, 1453, 1459, 1471, 1481, 1483, 1487, 1489, 1493, 1499, 1511, 1523, 1531, 1543, 1549, 1553, 1559, 1567, 1571, 1579, 1583, 1597, 1601, 1607, 1609, 1613, 1619, 1621, 1627, 1637, 1657, 1663, 1667, 1669, 1693, 1697, 1699, 1709, 1721, 1723, 1733, 1741, 1747, 1753, 1759, 1777, 1783, 1787, 1789, 1801, 1811, 1823, 1831, 1847, 1861, 1867, 1871, 1873, 1877, 1879, 1889, 1901, 1907, 1913, 1931, 1933, 1949, 1951, 1973, 1979, 1987, 1993, 1997, 1999, 2003, 2011, 2017, 2027, 2029, 2039, 2053, 2063, 2069, 2081, 2083, 2087, 2089, 2099, 2111, 2113, 2129, 2131, 2137, 2141, 2143, 2153, 2161, 2179, 2203, 2207, 2213, 2221, 2237, 2239, 2243, 2251, 2267, 2269, 2273, 2281, 2287, 2293, 2297, 2309, 2311, 2333, 2339, 2341, 2347, 2351, 2357, 2371, 2377, 2381, 2383, 2389, 2393, 2399, 2411, 2417, 2423, 2437, 2441, 2447, 2459, 2467, 2473, 2477, 2503, 2521, 2531, 2539, 2543, 2549, 2551, 2557, 2579, 2591, 2593, 2609, 2617, 2621, 2633, 2647, 2657, 2659, 2663, 2671, 2677, 2683, 2687, 2689, 2693, 2699, 2707, 2711, 2713, 2719, 2729, 2731, 2741, 2749, 2753, 2767, 2777, 2789, 2791, 2797, 2801, 2803, 2819, 2833, 2837, 2843, 2851, 2857, 2861, 2879, 2887, 2897, 2903, 2909, 2917, 2927, 2939, 2953, 2957, 2963, 2969, 2971, 2999, 3001, 3011, 3019, 3023, 3037, 3041, 3049, 3061, 3067, 3079, 3083, 3089, 3109, 3119, 3121, 3137, 3163, 3167, 3169, 3181, 3187, 3191, 3203, 3209, 3217, 3221, 3229, 3251, 3253, 3257, 3259, 3271, 3299, 3301, 3307, 3313, 3319, 3323, 3329, 3331, 3343, 3347, 3359, 3361, 3371, 3373, 3389, 3391, 3407, 3413, 3433, 3449, 3457, 3461, 3463, 3467, 3469, 3491, 3499, 3511, 3517, 3527, 3529, 3533, 3539, 3541, 3547, 3557, 3559, 3571, 3581, 3583, 3593, 3607, 3613, 3617, 3623, 3631, 3637, 3643, 3659, 3671, 3673, 3677, 3691, 3697, 3701, 3709, 3719, 3727, 3733, 3739, 3761, 3767, 3769, 3779, 3793, 3797, 3803, 3821, 3823, 3833, 3847, 3851, 3853, 3863, 3877, 3881, 3889, 3907, 3911, 3917, 3919, 3923, 3929, 3931, 3943, 3947, 3967, 3989, 4001, 4003, 4007, 4013, 4019, 4021, 4027, 4049, 4051, 4057, 4073, 4079, 4091, 4093, 4099, 4111, 4127, 4129, 4133, 4139, 4153, 4157, 4159, 4177, 4201, 4211, 4217, 4219, 4229, 4231, 4241, 4243, 4253, 4259, 4261, 4271, 4273, 4283, 4289, 4297, 4327, 4337, 4339, 4349, 4357, 4363, 4373, 4391, 4397, 4409, 4421, 4423, 4441, 4447, 4451, 4457, 4463, 4481, 4483, 4493, 4507, 4513, 4517, 4519, 4523, 4547, 4549, 4561, 4567, 4583, 4591, 4597, 4603, 4621, 4637, 4639, 4643, 4649, 4651, 4657, 4663, 4673, 4679, 4691, 4703, 4721, 4723, 4729, 4733, 4751, 4759, 4783, 4787, 4789, 4793, 4799, 4801, 4813, 4817, 4831, 4861, 4871, 4877, 4889, 4903, 4909, 4919, 4931, 4933, 4937, 4943, 4951, 4957, 4967, 4969, 4973, 4987, 4993, 4999, 5003, 5009, 5011, 5021, 5023, 5039, 5051, 5059, 5077, 5081, 5087, 5099, 5101, 5107, 5113, 5119, 5147, 5153, 5167, 5171, 5179, 5189, 5197, 5209, 5227, 5231, 5233, 5237, 5261, 5273, 5279, 5281, 5297, 5303, 5309, 5323, 5333, 5347, 5351, 5381, 5387, 5393, 5399, 5407, 5413, 5417, 5419, 5431, 5437, 5441, 5443, 5449, 5471, 5477, 5479, 5483, 5501, 5503, 5507, 5519, 5521, 5527, 5531, 5557, 5563, 5569, 5573, 5581, 5591, 5623, 5639, 5641, 5647, 5651, 5653, 5657, 5659, 5669, 5683, 5689, 5693, 5701, 5711, 5717, 5737, 5741, 5743, 5749, 5779, 5783, 5791, 5801, 5807, 5813, 5821, 5827, 5839, 5843, 5849, 5851, 5857, 5861, 5867, 5869, 5879, 5881, 5897, 5903, 5923, 5927, 5939, 5953, 5981, 5987, 6007, 6011, 6029, 6037, 6043, 6047, 6053, 6067, 6073, 6079, 6089, 6091, 6101, 6113, 6121, 6131, 6133, 6143, 6151, 6163, 6173, 6197, 6199, 6203, 6211, 6217, 6221, 6229, 6247, 6257, 6263, 6269, 6271, 6277, 6287, 6299, 6301, 6311, 6317, 6323, 6329, 6337, 6343, 6353, 6359, 6361, 6367, 6373, 6379, 6389, 6397, 6421, 6427, 6449, 6451, 6469, 6473, 6481, 6491, 6521, 6529, 6547, 6551, 6553, 6563, 6569, 6571, 6577, 6581, 6599, 6607, 6619, 6637, 6653, 6659, 6661, 6673, 6679, 6689, 6691, 6701, 6703, 6709, 6719, 6733, 6737, 6761, 6763, 6779, 6781, 6791, 6793, 6803, 6823, 6827, 6829, 6833, 6841, 6857, 6863, 6869, 6871, 6883, 6899, 6907, 6911, 6917, 6947, 6949, 6959, 6961, 6967, 6971, 6977, 6983, 6991, 6997, 7001, 7013, 7019, 7027, 7039, 7043, 7057, 7069, 7079, 7103, 7109, 7121, 7127, 7129, 7151, 7159, 7177, 7187, 7193, 7207, 7211, 7213, 7219, 7229, 7237, 7243, 7247, 7253, 7283, 7297, 7307, 7309, 7321, 7331, 7333, 7349, 7351, 7369, 7393, 7411, 7417, 7433, 7451, 7457, 7459, 7477, 7481, 7487, 7489, 7499, 7507, 7517, 7523, 7529, 7537, 7541, 7547, 7549, 7559, 7561, 7573, 7577, 7583, 7589, 7591, 7603, 7607, 7621, 7639, 7643, 7649, 7669, 7673, 7681, 7687, 7691, 7699, 7703, 7717, 7723, 7727, 7741, 7753, 7757, 7759, 7789, 7793, 7817, 7823, 7829, 7841, 7853, 7867, 7873, 7877, 7879, 7883, 7901, 7907, 7919]\n"
     ]
    }
   ],
   "source": [
    "print([prime(n) for n in range(1, 21)])\n",
    "print([prime(n) for n in range(1, 1001)])"
   ]
  },
  {
   "cell_type": "markdown",
   "metadata": {},
   "source": [
    "Computing primes is a bit slow, so we pre-compute 1600 primes to use for the next part of the exercise.\n",
    "\n",
    "Patience, this takes about a minute or so."
   ]
  },
  {
   "cell_type": "code",
   "execution_count": 69,
   "metadata": {
    "ExecuteTime": {
     "end_time": "2023-10-04T13:43:52.521759Z",
     "start_time": "2023-10-04T13:42:54.327645Z"
    }
   },
   "outputs": [],
   "source": [
    "prime_list = [prime(n) for n in range(1, 1601)]"
   ]
  },
  {
   "cell_type": "markdown",
   "metadata": {},
   "source": [
    "Note that the n-th prime can now be accessed by `primes[n-1]`"
   ]
  },
  {
   "cell_type": "markdown",
   "metadata": {},
   "source": [
    "#### Exercise 4.c: Compute the $100$th, $400$th and $1600$th partial products for $s=2,4,6$, and compare against the known values. How many digits agreement do you find with the $1600$th partial products?\n",
    "\n",
    "You will notice that your code takes considerably more time to execute, due to the need to repeatedly use multiplication, division, powers, and calling `prime`. "
   ]
  },
  {
   "cell_type": "markdown",
   "metadata": {},
   "source": [
    "Similarly to evaluating the sum of a set of values in a list, we can find the product by using the function `numpy.prod`, instead of the built-in `sum` function."
   ]
  },
  {
   "cell_type": "code",
   "execution_count": 74,
   "metadata": {
    "ExecuteTime": {
     "end_time": "2023-10-04T13:43:52.641338Z",
     "start_time": "2023-10-04T13:43:52.527779Z"
    }
   },
   "outputs": [
    {
     "data": {
      "text/plain": [
       "1.6449224348549059"
      ]
     },
     "execution_count": 74,
     "metadata": {},
     "output_type": "execute_result"
    }
   ],
   "source": [
    "def riemann_sum(no_terms, s_val):\n",
    "    riemann_prime = lambda x: 1 / (1 - (x**-s_val))\n",
    "    return np.prod([riemann_prime(n) for n in prime_list[:no_terms]])\n",
    "riemann_sum(1600, 2)"
   ]
  },
  {
   "cell_type": "markdown",
   "metadata": {},
   "source": [
    "## Submit your Jupyter Notebook to QMPLUS"
   ]
  },
  {
   "cell_type": "markdown",
   "metadata": {},
   "source": [
    "Once you are done, save the jupyter notebook and submit it to QMPLUS under Lab Report Week 3."
   ]
  }
 ],
 "metadata": {
  "kernelspec": {
   "display_name": "Python 3 (ipykernel)",
   "language": "python",
   "name": "python3"
  },
  "language_info": {
   "codemirror_mode": {
    "name": "ipython",
    "version": 3
   },
   "file_extension": ".py",
   "mimetype": "text/x-python",
   "name": "python",
   "nbconvert_exporter": "python",
   "pygments_lexer": "ipython3",
   "version": "3.10.12"
  }
 },
 "nbformat": 4,
 "nbformat_minor": 4
}
