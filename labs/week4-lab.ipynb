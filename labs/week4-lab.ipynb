{
 "cells": [
  {
   "cell_type": "markdown",
   "metadata": {
    "slideshow": {
     "slide_type": "-"
    }
   },
   "source": [
    "# MTH4000 Programming in Python I - Lab 4\n",
    "Dr Matthew Lewis and Prof. Thomas Prellberg\n",
    "\n",
    "## Exercises"
   ]
  },
  {
   "cell_type": "code",
   "execution_count": 1,
   "metadata": {
    "ExecuteTime": {
     "end_time": "2023-10-05T13:59:43.080057Z",
     "start_time": "2023-10-05T13:59:41.527011Z"
    }
   },
   "outputs": [],
   "source": [
    "import numpy as np\n",
    "import matplotlib.pyplot as plt"
   ]
  },
  {
   "cell_type": "markdown",
   "metadata": {},
   "source": [
    "### Exercise 1: Comparing the Arithmetic, Harmonic, and Geometric Means"
   ]
  },
  {
   "cell_type": "markdown",
   "metadata": {},
   "source": [
    "In the lecture, we saw how to define a function computing the average (also called the [arithmetic mean](https://en.wikipedia.org/wiki/Arithmetic_mean)) of a sequence of numbers $x_1,x_2,\\ldots,x_n$:"
   ]
  },
  {
   "cell_type": "markdown",
   "metadata": {},
   "source": [
    "$$\\frac1n\\sum_{k=1}^nx_k$$"
   ]
  },
  {
   "cell_type": "markdown",
   "metadata": {},
   "source": [
    "(Note that the below is written slightly different than in the lecture.)"
   ]
  },
  {
   "cell_type": "code",
   "execution_count": 2,
   "metadata": {
    "ExecuteTime": {
     "end_time": "2023-10-05T13:59:43.090824Z",
     "start_time": "2023-10-05T13:59:43.085049Z"
    }
   },
   "outputs": [],
   "source": [
    "def arithmetic_mean(x): \n",
    "    \"Compute the average of the values in the sequence x.\" \n",
    "    n=len(x)\n",
    "    return sum(x)/n"
   ]
  },
  {
   "cell_type": "markdown",
   "metadata": {},
   "source": [
    "#### Exercise 1.a:\n",
    "\n",
    "Define two functions computing the [harmonic mean](https://en.wikipedia.org/wiki/Harmonic_mean):"
   ]
  },
  {
   "cell_type": "markdown",
   "metadata": {},
   "source": [
    " $$\\frac n{\\sum\\limits_{k=1}^n\\dfrac1{x_k}}\\:,$$"
   ]
  },
  {
   "cell_type": "markdown",
   "metadata": {},
   "source": [
    "and the [geometric mean](https://en.wikipedia.org/wiki/Geometric_mean):"
   ]
  },
  {
   "cell_type": "markdown",
   "metadata": {},
   "source": [
    "$$\\sqrt[n]{\\prod_{k=1}^nx_k}\\:,$$"
   ]
  },
  {
   "cell_type": "markdown",
   "metadata": {},
   "source": [
    "of a sequence of positive numbers $x_1,x_2,\\ldots,x_n$. \n",
    "\n",
    "(Remember that you can access individual entries of a list `L` by their index `i` by writing `L[i]`.)"
   ]
  },
  {
   "cell_type": "code",
   "execution_count": 1,
   "metadata": {
    "ExecuteTime": {
     "end_time": "2023-10-05T13:59:43.110410Z",
     "start_time": "2023-10-05T13:59:43.092985Z"
    }
   },
   "outputs": [
    {
     "data": {
      "text/plain": [
       "2.0"
      ]
     },
     "execution_count": 1,
     "metadata": {},
     "output_type": "execute_result"
    }
   ],
   "source": [
    "harmonic_mean = lambda xs: len(xs) / sum([x ** -1 for x in xs])\n",
    "harmonic_mean([1, 4, 4])"
   ]
  },
  {
   "cell_type": "code",
   "execution_count": 4,
   "metadata": {},
   "outputs": [
    {
     "data": {
      "text/plain": [
       "0.5"
      ]
     },
     "execution_count": 4,
     "metadata": {},
     "output_type": "execute_result"
    }
   ],
   "source": [
    "geometric_mean = lambda xs: (np.prod(xs)) ** (1/len(xs))\n",
    "geometric_mean([4, 1, 1/32])"
   ]
  },
  {
   "cell_type": "markdown",
   "metadata": {},
   "source": [
    "#### Exercise 1.b: \n",
    "\n",
    "With numerical experimentation (i.e. by plugging in a few sequences of numbers), compare the sizes of these three means. Which one seems biggest, which one smallest?"
   ]
  },
  {
   "cell_type": "code",
   "execution_count": 7,
   "metadata": {
    "ExecuteTime": {
     "end_time": "2023-10-05T13:59:43.126403Z",
     "start_time": "2023-10-05T13:59:43.114107Z"
    }
   },
   "outputs": [
    {
     "name": "stdout",
     "output_type": "stream",
     "text": [
      "geometric: 24.240159394714155\n",
      "harmonic: 17.191586128482093\n",
      "arithmetic: 31.22222222222222\n",
      "list: [6, 8, 12, 32, 40, 36, 63, 48, 36]\n",
      "geometric: 19.520288495774338\n",
      "harmonic: 9.852682794972294\n",
      "arithmetic: 29.22222222222222\n",
      "list: [2, 14, 6, 36, 25, 24, 35, 40, 81]\n",
      "geometric: 24.1221576335956\n",
      "harmonic: 18.961449140733862\n",
      "arithmetic: 32.77777777777778\n",
      "list: [9, 12, 21, 16, 20, 42, 14, 80, 81]\n"
     ]
    }
   ],
   "source": [
    "from random import randint\n",
    "for _ in range(3):\n",
    "    xs = [randint(1, 10)*i for i in range(1, 10)]\n",
    "    \n",
    "    print(f\"geometric: {geometric_mean(xs)}\\nharmonic: {harmonic_mean(xs)}\\narithmetic: {arithmetic_mean(xs)}\\nlist: {xs}\")"
   ]
  },
  {
   "cell_type": "markdown",
   "metadata": {},
   "source": [
    "The arithmetic mean always seems largest, the harmonic mean smallest."
   ]
  },
  {
   "cell_type": "markdown",
   "metadata": {},
   "source": [
    "### Exercise 2: Modifying Plots with Linear Transformations"
   ]
  },
  {
   "cell_type": "markdown",
   "metadata": {},
   "source": [
    "The code below defines two lists, `x` and `y`:"
   ]
  },
  {
   "cell_type": "code",
   "execution_count": 8,
   "metadata": {
    "ExecuteTime": {
     "end_time": "2023-10-05T13:59:43.135815Z",
     "start_time": "2023-10-05T13:59:43.128539Z"
    }
   },
   "outputs": [],
   "source": [
    "x=[1,4,-1]\n",
    "y=[0,-2,3]"
   ]
  },
  {
   "cell_type": "markdown",
   "metadata": {},
   "source": [
    "If each of these lists corresponds to a single three-dimensional vector, then for a pair of values $a , b \\in\\mathbb{R}$, we can compute a list corresponding to the vector $ax+by$ as follows:"
   ]
  },
  {
   "cell_type": "code",
   "execution_count": 9,
   "metadata": {
    "ExecuteTime": {
     "end_time": "2023-10-05T13:59:43.151137Z",
     "start_time": "2023-10-05T13:59:43.138933Z"
    }
   },
   "outputs": [
    {
     "data": {
      "text/plain": [
       "[3, 8, 3]"
      ]
     },
     "execution_count": 9,
     "metadata": {},
     "output_type": "execute_result"
    }
   ],
   "source": [
    "a=3\n",
    "b=2\n",
    "\n",
    "[a*x[i]+b*y[i] for i in range(len(x))]"
   ]
  },
  {
   "cell_type": "markdown",
   "metadata": {},
   "source": [
    "#### Exercise 2.a:\n",
    "\n",
    "Write a function `linear_combination` which takes any two lists, `x` and `y`, and any two floats `a` and `b`, and returns the list corresponding to the vector $ax+by$."
   ]
  },
  {
   "cell_type": "code",
   "execution_count": 10,
   "metadata": {
    "ExecuteTime": {
     "end_time": "2023-10-05T13:59:43.159169Z",
     "start_time": "2023-10-05T13:59:43.151646Z"
    }
   },
   "outputs": [
    {
     "data": {
      "text/plain": [
       "[3, 8, 3]"
      ]
     },
     "execution_count": 10,
     "metadata": {},
     "output_type": "execute_result"
    }
   ],
   "source": [
    "def linear_combination(x: list, y: list, a: float, b: float):\n",
    "    return [a*x[i]+b*y[i] for i in range(len(x))]\n",
    "linear_combination(x, y, a, b)"
   ]
  },
  {
   "cell_type": "markdown",
   "metadata": {},
   "source": [
    "The code below plots a circle centred at the origin."
   ]
  },
  {
   "cell_type": "code",
   "execution_count": 11,
   "metadata": {
    "ExecuteTime": {
     "end_time": "2023-10-05T13:59:43.433728Z",
     "start_time": "2023-10-05T13:59:43.163291Z"
    }
   },
   "outputs": [
    {
     "data": {
      "image/png": "[encoded data removed]",
      "text/plain": [
       "<Figure size 640x480 with 1 Axes>"
      ]
     },
     "metadata": {},
     "output_type": "display_data"
    }
   ],
   "source": [
    "x=[np.cos(2*i*np.pi/1000) for i in range(1001)]\n",
    "y=[np.sin(2*i*np.pi/1000) for i in range(1001)]\n",
    "\n",
    "plt.plot(x,y)\n",
    "plt.gca().axis('equal')\n",
    "plt.show()"
   ]
  },
  {
   "cell_type": "markdown",
   "metadata": {},
   "source": [
    "Apply your function `linear_combination` to the list of y-values in the `plot` function to deform this circle into an ellipse.  You should use values $a=0.8$ and $b=0.3$.  **Note:  It is not necessary to change the values of the lists `x` and `y`.**"
   ]
  },
  {
   "cell_type": "code",
   "execution_count": 12,
   "metadata": {
    "ExecuteTime": {
     "end_time": "2023-10-05T13:59:43.576294Z",
     "start_time": "2023-10-05T13:59:43.435716Z"
    }
   },
   "outputs": [
    {
     "data": {
      "image/png": "[encoded data removed]",
      "text/plain": [
       "<Figure size 640x480 with 1 Axes>"
      ]
     },
     "metadata": {},
     "output_type": "display_data"
    }
   ],
   "source": [
    "x=[np.cos(2*i*np.pi/1000) for i in range(1001)]\n",
    "y=[np.sin(2*i*np.pi/1000) for i in range(1001)]\n",
    "\n",
    "y_stretched = linear_combination(x, y, 0.8, 0.3)\n",
    "\n",
    "plt.plot(x,y_stretched)\n",
    "plt.gca().axis('equal')\n",
    "plt.show()"
   ]
  },
  {
   "cell_type": "markdown",
   "metadata": {},
   "source": [
    "#### Exercise 2.b:\n",
    "\n",
    "The code below plots a figure of a stretched-out smiley face."
   ]
  },
  {
   "cell_type": "code",
   "execution_count": 13,
   "metadata": {
    "ExecuteTime": {
     "end_time": "2023-10-05T13:59:43.735035Z",
     "start_time": "2023-10-05T13:59:43.580827Z"
    }
   },
   "outputs": [
    {
     "data": {
      "image/png": "[encoded data removed]",
      "text/plain": [
       "<Figure size 640x480 with 1 Axes>"
      ]
     },
     "metadata": {},
     "output_type": "display_data"
    }
   ],
   "source": [
    "x1=np.linspace(-1,1,1000) # Used as x-values in the first two plots\n",
    "x2=np.linspace(-0.5,0.5,1000) # Used as x-values in the third plot\n",
    "x3=[-0.4,0.4] # Used as x-values in the fourth plot\n",
    "\n",
    "plt.plot(x1,1.8*x1+2*(1-x1**2)**0.5,color='blue') # upper head\n",
    "plt.plot(x1,1.8*x1-2*(1-x1**2)**0.5,color='blue') # lower head\n",
    "plt.plot(x2,1.6*(x2**2)+1.8*x2-0.9,linewidth=2,color='blue') #smile\n",
    "plt.plot(x3,[0.18,1.62],'o',markersize=8,color='blue') # eyes\n",
    "\n",
    "plt.axis('equal')\n",
    "plt.show()"
   ]
  },
  {
   "cell_type": "markdown",
   "metadata": {},
   "source": [
    "Copy-and-paste this code into the box below, and modify it by applying the `linear_combination` function to the y-values in each plot, with $a=-0.9$ and $b=0.5$.  \n",
    "\n",
    "**Hint: You will need to use the corresponding x-values each time you call the function, but the x-values themselves must remain unchanged.**"
   ]
  },
  {
   "cell_type": "code",
   "execution_count": 16,
   "metadata": {
    "ExecuteTime": {
     "end_time": "2023-10-05T13:59:43.953632Z",
     "start_time": "2023-10-05T13:59:43.735035Z"
    }
   },
   "outputs": [
    {
     "data": {
      "image/png": "[encoded data removed]",
      "text/plain": [
       "<Figure size 640x480 with 1 Axes>"
      ]
     },
     "metadata": {},
     "output_type": "display_data"
    }
   ],
   "source": [
    "x1=np.linspace(-1,1,1000) # Used as x-values in the first two plots\n",
    "x2=np.linspace(-0.5,0.5,1000) # Used as x-values in the third plot\n",
    "x3=[-0.4,0.4] # Used as x-values in the fourth plot\n",
    "\n",
    "a, b = -0.9, 0.5\n",
    "\n",
    "\n",
    "y1_top = linear_combination(x1, 1.8*x1+2*(1-x1**2)**0.5, a, b)\n",
    "y1_bottom = linear_combination(x1, 1.8*x1-2*(1-x1**2)**0.5, a, b)\n",
    "y2 = linear_combination(x2, 1.6*(x2**2)+1.8*x2-0.9, a, b)\n",
    "y3 = linear_combination(x3, [0.18,1.62], a, b)\n",
    "\n",
    "\n",
    "plt.plot(x1,y1_top,color='blue') # upper head\n",
    "plt.plot(x1,y1_bottom,color='blue') # lower head\n",
    "plt.plot(x2,y2,linewidth=2,color='blue') #smile\n",
    "plt.plot(x3,y3,'o',markersize=8,color='blue') # eyes\n",
    "\n",
    "plt.axis('equal')\n",
    "plt.show()"
   ]
  },
  {
   "cell_type": "markdown",
   "metadata": {},
   "source": [
    "### Exercise 3: Series Summation made Easier with Functions"
   ]
  },
  {
   "cell_type": "markdown",
   "metadata": {},
   "source": [
    "Now that we have introduced functions, we can also simplify the code from previous weeks considerably. Consider for example your work on computing the [Riemann Zeta function](https://en.wikipedia.org/wiki/Riemann_zeta_function):"
   ]
  },
  {
   "cell_type": "markdown",
   "metadata": {},
   "source": [
    "$$\\zeta(s)=\\sum_{n=1}^\\infty\\frac1{n^s}\\;.$$ "
   ]
  },
  {
   "cell_type": "markdown",
   "metadata": {},
   "source": [
    "You already simplified your code considerably by using variable assignment, list comprehension, and the `sum` function, writing code like the following to compute the $100^{th}$ partial sum of the series for $\\zeta(2)$."
   ]
  },
  {
   "cell_type": "code",
   "execution_count": null,
   "metadata": {
    "ExecuteTime": {
     "end_time": "2023-10-05T13:59:43.963286Z",
     "start_time": "2023-10-05T13:59:43.956246Z"
    }
   },
   "outputs": [],
   "source": [
    "s=2\n",
    "print(sum([1/n**s for n in range(1,101)]))"
   ]
  },
  {
   "cell_type": "markdown",
   "metadata": {},
   "source": [
    "But if I asked you to now do this computation for the $n^{th}$ partial sum of the series of $\\zeta(s)$ for several values of $n$ and $s$, you would not want to repeatedly type the same bit of code (as you will likely have done last week). So let us define a function instead."
   ]
  },
  {
   "cell_type": "markdown",
   "metadata": {},
   "source": [
    "#### Exercise 3.a:\n",
    "\n",
    "Write a function, `zeta_sum` that accepts a numerical value `s` and an integer `N`, and returns the value of the partial product of the Riemann Zeta function with `N` factors."
   ]
  },
  {
   "cell_type": "code",
   "execution_count": 21,
   "metadata": {
    "ExecuteTime": {
     "end_time": "2023-10-05T13:59:43.971220Z",
     "start_time": "2023-10-05T13:59:43.965764Z"
    }
   },
   "outputs": [],
   "source": [
    "def zeta_sum(s, N: int):\n",
    "    return sum(1 / (n ** s) for n in range(1, N+1))"
   ]
  },
  {
   "cell_type": "markdown",
   "metadata": {},
   "source": [
    "#### Exercise 3.b:\n",
    "\n",
    "Using the function you have just defined, compute the $1000^{th}$, $2000^{th}$ and $3000^{th}$ partial products for $s=2,4,6$, and compare against the exact values of $\\zeta(s)$."
   ]
  },
  {
   "cell_type": "code",
   "execution_count": 22,
   "metadata": {
    "ExecuteTime": {
     "end_time": "2023-10-05T13:59:44.330038Z",
     "start_time": "2023-10-05T13:59:43.974461Z"
    }
   },
   "outputs": [
    {
     "name": "stdout",
     "output_type": "stream",
     "text": [
      "number of terms: 1000, zeta(2): 1.6439345666815615\n",
      "number of terms: 2000, zeta(4): 1.0823232336695046\n",
      "number of terms: 3000, zeta(6): 1.017343061984441\n"
     ]
    }
   ],
   "source": [
    "n_vals = [1000, 2000, 3000]\n",
    "s_vals = [2, 4, 6]\n",
    "\n",
    "for i, s in enumerate(s_vals):\n",
    "    print(f\"number of terms: {n_vals[i]}, zeta({s}): {zeta_sum(s, n_vals[i])}\")"
   ]
  },
  {
   "cell_type": "markdown",
   "metadata": {},
   "source": [
    "### Exercise 4: Computing the slope of a secant to a curve"
   ]
  },
  {
   "cell_type": "markdown",
   "metadata": {},
   "source": [
    "The secant of a function $f$ at two values $x_1$ and $x_2$ is the straight line passing through the points $(x_1,f(x_1))$ and $(x_2,f(x_2))$. It has slope "
   ]
  },
  {
   "cell_type": "markdown",
   "metadata": {},
   "source": [
    "$$\\frac{f(x_1)-f(x_1)}{x_1-x_2}\\;.$$"
   ]
  },
  {
   "cell_type": "markdown",
   "metadata": {},
   "source": [
    "#### Exercise 4.a: \n",
    "\n",
    "First, we must remind ourselves of the role of lambda functions in Python.  A function can be defined with the `lambda` keyword, without having to go through the normal process of using `def` and `return`.  For instance, the following code defines a function $f(x)=x^2$."
   ]
  },
  {
   "cell_type": "code",
   "execution_count": 24,
   "metadata": {
    "ExecuteTime": {
     "end_time": "2023-10-05T13:59:44.343139Z",
     "start_time": "2023-10-05T13:59:44.336538Z"
    }
   },
   "outputs": [],
   "source": [
    "f=lambda x: x**2"
   ]
  },
  {
   "cell_type": "markdown",
   "metadata": {},
   "source": [
    "Define a function `difference_quotient` that accepts a function `f` and floats `x0` and `x1`, and returns the slope of the secant of $f$ at $x0$ and $x1$:"
   ]
  },
  {
   "cell_type": "code",
   "execution_count": 32,
   "metadata": {
    "ExecuteTime": {
     "end_time": "2023-10-05T13:59:44.357423Z",
     "start_time": "2023-10-05T13:59:44.348900Z"
    }
   },
   "outputs": [],
   "source": [
    "def difference_quotient(f, x0, x1):\n",
    "    return (f(x1) - f(x0)) / (x1 - x0)\n"
   ]
  },
  {
   "cell_type": "markdown",
   "metadata": {},
   "source": [
    "Use the function `difference_quotient` to compute the difference quotient for our function $f(x)=x^2$ for $x_0=2$ and the four values $x_1=2.1, 2.01, 2.001, 2.0001$."
   ]
  },
  {
   "cell_type": "code",
   "execution_count": 42,
   "metadata": {
    "ExecuteTime": {
     "end_time": "2023-10-05T13:59:44.369294Z",
     "start_time": "2023-10-05T13:59:44.361438Z"
    },
    "scrolled": true
   },
   "outputs": [
    {
     "name": "stdout",
     "output_type": "stream",
     "text": [
      "4.099999999999998\n",
      "4.009999999999977\n",
      "4.00100000000014\n",
      "4.000099999999392\n",
      "4.000010000000827\n",
      "4.000001000088901\n",
      "4.000000097699626\n",
      "4.0\n",
      "4.0\n"
     ]
    }
   ],
   "source": [
    "x0 = 2\n",
    "x1_vals = [2 + (10**n) for n in range(-1, -10, -1)]\n",
    "\n",
    "for x1 in x1_vals:\n",
    "    print(difference_quotient(f, x0, x1))"
   ]
  },
  {
   "cell_type": "markdown",
   "metadata": {},
   "source": [
    "What do you notice about these results? Can you explain your observation?"
   ]
  },
  {
   "cell_type": "markdown",
   "metadata": {},
   "source": []
  },
  {
   "cell_type": "markdown",
   "metadata": {},
   "source": [
    "**Exercise 4.b:**\n",
    "\n",
    "As well as accepting other functions as input, Python functions can also **return** functions as output.  Take the following example, `fun_sum`, which accepts two functions `f` and `g` as input and returns the function defined by their sum, $f(x)+g(x)$, for any $x\\in\\mathbb{R}$."
   ]
  },
  {
   "cell_type": "code",
   "execution_count": 40,
   "metadata": {
    "ExecuteTime": {
     "end_time": "2023-10-05T13:59:44.379263Z",
     "start_time": "2023-10-05T13:59:44.372944Z"
    }
   },
   "outputs": [],
   "source": [
    "def fun_sum(f,g):\n",
    "    \"Returns the function f+g.\"\n",
    "    return lambda x: f(x)+g(x)"
   ]
  },
  {
   "cell_type": "markdown",
   "metadata": {},
   "source": [
    "Take some time to appreciate what has happened here.  The object returned by `fun_sum` is another function which, for any input `x`, returns the value `f(x)+g(x)`.  If we define the function $g(x)=2x+1$, then we can use `fun_sum` to define $k(x)=x^2+2x+1$ in the following way:"
   ]
  },
  {
   "cell_type": "code",
   "execution_count": 41,
   "metadata": {
    "ExecuteTime": {
     "end_time": "2023-10-05T13:59:44.394293Z",
     "start_time": "2023-10-05T13:59:44.384392Z"
    }
   },
   "outputs": [
    {
     "data": {
      "text/plain": [
       "16"
      ]
     },
     "execution_count": 41,
     "metadata": {},
     "output_type": "execute_result"
    }
   ],
   "source": [
    "g=lambda x: 2*x+1  # Define g.\n",
    "\n",
    "k=fun_sum(f,g)  # fun_sum(f,g) returns the function defined by f+g.  This function is then assigned to the variable k.\n",
    "\n",
    "k(3) # For instance, k(3)=f(3)+g(3)=3^2+2*3+1=16."
   ]
  },
  {
   "cell_type": "markdown",
   "metadata": {},
   "source": [
    "Define a function `slope` which accepts a function `f` and a float `h` as input, and returns a function defined by the difference quotient $\\frac{f(x+h)-f(x)}{h}$, for any input $x\\in\\mathbb{R}$."
   ]
  },
  {
   "cell_type": "code",
   "execution_count": 46,
   "metadata": {
    "ExecuteTime": {
     "end_time": "2023-10-05T13:59:44.404868Z",
     "start_time": "2023-10-05T13:59:44.397265Z"
    }
   },
   "outputs": [],
   "source": [
    "def slope(f, h: float):\n",
    "    return lambda x: (f(x+h) - f(x)) / h"
   ]
  },
  {
   "cell_type": "markdown",
   "metadata": {},
   "source": [
    "Test this function by running the code box below.  If your code is successful, then the function `slope_of_f` should approximate the function $2x$, and so the code should return a value close to $2x$."
   ]
  },
  {
   "cell_type": "code",
   "execution_count": 47,
   "metadata": {
    "ExecuteTime": {
     "end_time": "2023-10-05T13:59:44.418463Z",
     "start_time": "2023-10-05T13:59:44.409477Z"
    }
   },
   "outputs": [
    {
     "data": {
      "text/plain": [
       "14.000099999975646"
      ]
     },
     "execution_count": 47,
     "metadata": {},
     "output_type": "execute_result"
    }
   ],
   "source": [
    "slope_of_f=slope(f,0.0001)\n",
    "\n",
    "slope_of_f(7)"
   ]
  },
  {
   "cell_type": "markdown",
   "metadata": {},
   "source": [
    "### Exercise 5: Obtain a LinkedIn profile (needed for the assessment)!"
   ]
  },
  {
   "attachments": {},
   "cell_type": "markdown",
   "metadata": {},
   "source": [
    "The final assignment for this week is to obtain and update your [LinkedIn profile](https://www.linkedin.com/). You may wish to use your recently created email address to do so. During the week 5 test, you will need to let us know the url of your profile. You will be assessed on \n",
    "- having a profile\n",
    "- having some information added to your public profile, e.g. Headline, Position, Industry, Education, and Location\n",
    "- having uploaded an appropriate profile (or background) photo \n",
    "- having a non-empty about box\n",
    "\n",
    "Note that \"your profile photo may be removed by LinkedIn if it is not of your likeness.\" If you do not wish your picture to be on LinkedIn, it is sufficient to upload a background image that you feel would be appropriate."
   ]
  },
  {
   "cell_type": "markdown",
   "metadata": {},
   "source": [
    "## Submit your Jupyter Notebook to QMPLUS"
   ]
  },
  {
   "cell_type": "markdown",
   "metadata": {},
   "source": [
    "Once you are done, save the jupyter notebook and submit it to QMPLUS under Lab Report Week 4."
   ]
  }
 ],
 "metadata": {
  "kernelspec": {
   "display_name": "Python 3 (ipykernel)",
   "language": "python",
   "name": "python3"
  },
  "language_info": {
   "codemirror_mode": {
    "name": "ipython",
    "version": 3
   },
   "file_extension": ".py",
   "mimetype": "text/x-python",
   "name": "python",
   "nbconvert_exporter": "python",
   "pygments_lexer": "ipython3",
   "version": "3.10.12"
  }
 },
 "nbformat": 4,
 "nbformat_minor": 4
}
