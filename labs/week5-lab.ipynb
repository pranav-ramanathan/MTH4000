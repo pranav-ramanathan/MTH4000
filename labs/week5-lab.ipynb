{
 "cells": [
  {
   "cell_type": "markdown",
   "metadata": {
    "slideshow": {
     "slide_type": "-"
    }
   },
   "source": [
    "# MTH4000 Programming in Python I - Lab 5\n",
    "Dr Matthew Lewis and Prof. Thomas Prellberg\n",
    "\n",
    "## Exercises"
   ]
  },
  {
   "cell_type": "markdown",
   "metadata": {},
   "source": [
    "### Exercise 1: Translating mathematical statements into Python code"
   ]
  },
  {
   "cell_type": "markdown",
   "metadata": {},
   "source": [
    "For any statements A and B, you will recall that the statement \"A implies B\" is equivalent to \"B or not A\".  This can be demonstrated by constructing a truth table:\n",
    "\n",
    "<table width=40%>\n",
    "  <tr>\n",
    "    <th>A</th>\n",
    "    <th>B</th>\n",
    "    <th>A implies B</th>\n",
    "    <th>B or not A</th>\n",
    "  </tr>\n",
    "  <tr>\n",
    "    <td>True</td>\n",
    "    <td>True</td>\n",
    "    <td>True</td>\n",
    "    <td>True</td>\n",
    "  </tr>\n",
    "  <tr>\n",
    "    <td>True</td>\n",
    "    <td>False</td>\n",
    "    <td>False</td>\n",
    "    <td>False</td>\n",
    "  </tr>\n",
    "  <tr>\n",
    "    <td>False</td>\n",
    "    <td>True</td>\n",
    "    <td>True</td>\n",
    "    <td>True</td>\n",
    "  </tr>\n",
    "  <tr>\n",
    "    <td>False</td>\n",
    "    <td>False</td>\n",
    "    <td>True</td>\n",
    "    <td>True</td>\n",
    "  </tr>\n",
    "</table>\n",
    "\n",
    "Since the Boolean operators `or` and `not` are already defined in Python, we can use them to construct our own `implies` function.  This function accepts two Boolean values, `A` and `B`, and returns the truth value of the statement \"A implies B\":"
   ]
  },
  {
   "cell_type": "code",
   "execution_count": 1,
   "metadata": {
    "ExecuteTime": {
     "end_time": "2023-10-22T14:48:36.095330Z",
     "start_time": "2023-10-22T14:48:36.085551Z"
    }
   },
   "outputs": [],
   "source": [
    "def implies(A,B):\n",
    "    \"returns the truth of 'A implies B'\"\n",
    "    return B or not A"
   ]
  },
  {
   "cell_type": "markdown",
   "metadata": {},
   "source": [
    "#### Exercise 1.a: \n",
    "\n",
    "Test that the `implies` function works by evaluating it for all four possible combinations of Boolean values."
   ]
  },
  {
   "cell_type": "code",
   "execution_count": 2,
   "metadata": {
    "ExecuteTime": {
     "end_time": "2023-10-09T17:47:37.695183Z",
     "start_time": "2023-10-09T17:47:37.686304Z"
    }
   },
   "outputs": [
    {
     "data": {
      "text/plain": [
       "True"
      ]
     },
     "execution_count": 2,
     "metadata": {},
     "output_type": "execute_result"
    }
   ],
   "source": [
    "implies(False, False)"
   ]
  },
  {
   "cell_type": "markdown",
   "metadata": {},
   "source": [
    "#### Exercise 1.b: \n",
    "\n",
    "Write a function `not_implies` that accepts two Boolean values, `A` and `B`, and returns the negation of \"A implies B\" (i.e.  computes the truth value of the statement \"not (A implies B)\" ) and evaluate it for all four possible inputs."
   ]
  },
  {
   "cell_type": "code",
   "execution_count": 3,
   "metadata": {
    "ExecuteTime": {
     "end_time": "2023-10-09T17:47:37.704108Z",
     "start_time": "2023-10-09T17:47:37.698203Z"
    }
   },
   "outputs": [],
   "source": [
    "def not_implies(A, B):\n",
    "    \"returns the negation of the truth of 'A implies B'\"\n",
    "    return not B and A"
   ]
  },
  {
   "cell_type": "code",
   "execution_count": 4,
   "metadata": {},
   "outputs": [
    {
     "data": {
      "text/plain": [
       "False"
      ]
     },
     "execution_count": 4,
     "metadata": {},
     "output_type": "execute_result"
    }
   ],
   "source": [
    "not_implies(False, False)"
   ]
  },
  {
   "cell_type": "markdown",
   "metadata": {},
   "source": [
    "We say that an integer $a$ divides an integer $m$, and write $a|m$, if $m=ka$ for some integer $k$. In Python you can write a function `divides(a,m)` which computes the truth of `a divides m` for integers `a` and `m` as follows:"
   ]
  },
  {
   "cell_type": "code",
   "execution_count": 5,
   "metadata": {
    "ExecuteTime": {
     "end_time": "2023-10-22T14:48:36.107753Z",
     "start_time": "2023-10-22T14:48:36.097342Z"
    }
   },
   "outputs": [],
   "source": [
    "def divides(a,m):\n",
    "    \"returns the truth of 'a divides m'\"\n",
    "    return(m%a==0)"
   ]
  },
  {
   "cell_type": "markdown",
   "metadata": {},
   "source": [
    "#### Exercise 1.c: \n",
    "\n",
    "Test that this Python function works by evaluating it with an instance for which the statement is true, and an instance for which it is false."
   ]
  },
  {
   "cell_type": "code",
   "execution_count": 6,
   "metadata": {
    "ExecuteTime": {
     "end_time": "2023-10-09T17:47:37.721749Z",
     "start_time": "2023-10-09T17:47:37.716272Z"
    }
   },
   "outputs": [
    {
     "data": {
      "text/plain": [
       "False"
      ]
     },
     "execution_count": 6,
     "metadata": {},
     "output_type": "execute_result"
    }
   ],
   "source": [
    "divides(7, 3)"
   ]
  },
  {
   "cell_type": "markdown",
   "metadata": {},
   "source": [
    "Last year, you will have encountered the following fact about integer division:\n",
    "\n",
    "**Theorem:** Let $a,b,m,n\\in\\mathbb Z$. If $a|m$ and $b|n$ then $ab|mn$. \n",
    "\n",
    "According to this theorem\n",
    "\n",
    "    if 7 divides 14 and 2 divides 4 then 14 divides 56  \n",
    "is a true statement, and\n",
    "\n",
    "    if 7 divides 14 and 2 divides 3 then 14 divides 42 \n",
    "is also a true statement (can you see why?)."
   ]
  },
  {
   "cell_type": "markdown",
   "metadata": {},
   "source": [
    "#### Exercise 1.d:\n",
    "\n",
    "Using the `implies` and `divides` functions defined above, write a function `test_theorem(a,b,m,n)` which tests the truth of this Theorem. Evaluate this function by evaluating it for four well-chosen examples."
   ]
  },
  {
   "cell_type": "code",
   "execution_count": 7,
   "metadata": {
    "ExecuteTime": {
     "end_time": "2023-10-09T17:47:37.732692Z",
     "start_time": "2023-10-09T17:47:37.725762Z"
    },
    "scrolled": true
   },
   "outputs": [],
   "source": [
    "def test_theorem(a:int, b:int, m:int, n:int) -> bool:\n",
    "    return implies(divides(a, m) and divides(b, n), divides(a*b, m*n))"
   ]
  },
  {
   "cell_type": "code",
   "execution_count": 8,
   "metadata": {},
   "outputs": [
    {
     "data": {
      "text/plain": [
       "True"
      ]
     },
     "execution_count": 8,
     "metadata": {},
     "output_type": "execute_result"
    }
   ],
   "source": [
    "test_theorem(7, 14, 2, 3)"
   ]
  },
  {
   "cell_type": "markdown",
   "metadata": {},
   "source": [
    "Now consider the following claim, which is different from the theorem above:\n",
    "\n",
    "**Claim:** Let $a,b,n\\in\\mathbb Z$. If $a|n$ and $b|n$ then $ab|n$."
   ]
  },
  {
   "cell_type": "markdown",
   "metadata": {},
   "source": [
    "#### Exercise 1.e: \n",
    "\n",
    "Write a function `test_theorem2(a,b,n)` which tests the truth of the above claim. Find input values that result in the function producing the output `False`, and hence disprove the statement."
   ]
  },
  {
   "cell_type": "code",
   "execution_count": 9,
   "metadata": {
    "ExecuteTime": {
     "end_time": "2023-10-09T17:47:37.741915Z",
     "start_time": "2023-10-09T17:47:37.734701Z"
    }
   },
   "outputs": [],
   "source": [
    "def test_theorem2(a, b, n):\n",
    "    return implies(divides(a, n) and divides(b, n), divides(a*b, n))"
   ]
  },
  {
   "cell_type": "code",
   "execution_count": 10,
   "metadata": {},
   "outputs": [
    {
     "data": {
      "text/plain": [
       "False"
      ]
     },
     "execution_count": 10,
     "metadata": {},
     "output_type": "execute_result"
    }
   ],
   "source": [
    "test_theorem2(4, 4, 8)"
   ]
  },
  {
   "cell_type": "markdown",
   "metadata": {},
   "source": [
    "### Exercise 2: Roots of a cubic polynomial"
   ]
  },
  {
   "cell_type": "markdown",
   "metadata": {},
   "source": [
    "The discriminant of a cubic polynomial $p(x)=ax^3+bx^2+cx+d$ is\n",
    "\n",
    "$$\\Delta=b^2c^2-4ac^3-4b^3d-27a^2d^2+18abcd\\;.$$\n",
    "\n",
    "The discriminant gives us information about the roots of the polynomial $p(x)$:\n",
    "\n",
    "- if $\\Delta>0$, then $p(x)$ has 3 distinct real roots,\n",
    "- if $\\Delta<0$, then $p(x)$ has 2 distinct complex roots and 1 real root,\n",
    "- if $\\Delta=0$, then $p(x)$ has at least 2 (real or complex) roots which are the same.\n"
   ]
  },
  {
   "cell_type": "markdown",
   "metadata": {},
   "source": [
    "Represent a cubic polynomial $p(x)=ax^3+bx^2+cx+d$ by the coefficients `a,b,c,d` of numbers. For example, the polynomial $p(x)=x^3-x+1$ is represented as `1,0,-1,1`."
   ]
  },
  {
   "cell_type": "markdown",
   "metadata": {},
   "source": [
    "#### Exercise 2.a: \n",
    "\n",
    "Write a function called `has_three_real_roots` which takes as input the four coefficients of a cubic polynomial (in decreasing order of degree), and returns `True` if $p(x)$ has 3 real distinct roots and `False` otherwise. "
   ]
  },
  {
   "cell_type": "code",
   "execution_count": 11,
   "metadata": {
    "ExecuteTime": {
     "end_time": "2023-10-09T17:47:37.751060Z",
     "start_time": "2023-10-09T17:47:37.743924Z"
    }
   },
   "outputs": [],
   "source": [
    "def has_three_real_roots(a, b=0, c=0, d=0) -> bool:\n",
    "    discriminant = (b**2)*(c**2) - 4*a*c**3 - 4*d*b**3 - 27*(a**2)*(d**2) + 18*a*b*c*d\n",
    "    if discriminant > 0:\n",
    "        return True\n",
    "    else:\n",
    "        return False"
   ]
  },
  {
   "cell_type": "markdown",
   "metadata": {},
   "source": [
    "#### Exercise 2.b.: \n",
    "\n",
    "Test this function on the polynomials $x^3$, $x(1-x)^2$, $x^3-x+1$ and $x^3-x$. "
   ]
  },
  {
   "cell_type": "code",
   "execution_count": 12,
   "metadata": {
    "ExecuteTime": {
     "end_time": "2023-10-09T17:47:37.768901Z",
     "start_time": "2023-10-09T17:47:37.756079Z"
    }
   },
   "outputs": [
    {
     "data": {
      "text/plain": [
       "False"
      ]
     },
     "execution_count": 12,
     "metadata": {},
     "output_type": "execute_result"
    }
   ],
   "source": [
    "has_three_real_roots(1)"
   ]
  },
  {
   "cell_type": "code",
   "execution_count": 13,
   "metadata": {},
   "outputs": [
    {
     "data": {
      "text/plain": [
       "False"
      ]
     },
     "execution_count": 13,
     "metadata": {},
     "output_type": "execute_result"
    }
   ],
   "source": [
    "has_three_real_roots(a=1, c=-1, d=1)"
   ]
  },
  {
   "cell_type": "code",
   "execution_count": 14,
   "metadata": {},
   "outputs": [
    {
     "data": {
      "text/plain": [
       "True"
      ]
     },
     "execution_count": 14,
     "metadata": {},
     "output_type": "execute_result"
    }
   ],
   "source": [
    "has_three_real_roots(a=1, c=-1)"
   ]
  },
  {
   "cell_type": "code",
   "execution_count": 15,
   "metadata": {},
   "outputs": [
    {
     "data": {
      "text/plain": [
       "False"
      ]
     },
     "execution_count": 15,
     "metadata": {},
     "output_type": "execute_result"
    }
   ],
   "source": [
    "has_three_real_roots(1, -2, 1)"
   ]
  },
  {
   "cell_type": "markdown",
   "metadata": {},
   "source": [
    "### Exercise 3:  Monte Carlo Methods"
   ]
  },
  {
   "cell_type": "markdown",
   "metadata": {},
   "source": [
    "A Monte Carlo method is an algorithm that approximates the area of a region by taking a large sample of uniformly distributed points over an area that covers that region, and evaluating the proportion of points that fall inside it.\n",
    "\n",
    "For instance, consider the region bounded by the following condition:\n",
    "\n",
    "$$x^2+y^2\\leq 1\\: .$$\n",
    "\n",
    "This region is shown shaded in white in the plot below."
   ]
  },
  {
   "cell_type": "code",
   "execution_count": 16,
   "metadata": {
    "ExecuteTime": {
     "end_time": "2023-10-22T14:48:36.876853Z",
     "start_time": "2023-10-22T14:48:36.111762Z"
    }
   },
   "outputs": [
    {
     "data": {
      "image/png": "[encoded data removed]",
      "text/plain": [
       "<Figure size 640x480 with 1 Axes>"
      ]
     },
     "metadata": {},
     "output_type": "display_data"
    }
   ],
   "source": [
    "import numpy as np\n",
    "from matplotlib import pyplot as plt\n",
    "\n",
    "x=np.linspace(-1,1,100)\n",
    "y1=(1-x**2)**0.5\n",
    "y2=-(1-x**2)**0.5\n",
    "\n",
    "plt.plot(x,y1,color='white')\n",
    "plt.plot(x,y2,color='white')\n",
    "ax=plt.gca()\n",
    "ax.axis('equal')\n",
    "ax.set_facecolor('black')\n",
    "ax.fill_between(x,y1,y2,facecolor='white')\n",
    "plt.show()"
   ]
  },
  {
   "cell_type": "markdown",
   "metadata": {},
   "source": [
    "It should be clear that this boundary is a circle of radius $1$, and so a Monte Carlo method should return a value approximately equal to $\\pi$."
   ]
  },
  {
   "cell_type": "markdown",
   "metadata": {},
   "source": [
    "#### Exercise 3.a"
   ]
  },
  {
   "cell_type": "markdown",
   "metadata": {},
   "source": [
    "The region is covered by the set $[-1,1]\\times[-1,1]$, which is a square of area $4$.  Therefore, if we take a large number of uniformly distributed points over the square $[-1,1]\\times[-1,1]$, the proportion of the points that lie inside the region should be approximately equal to a quarter of the region's area."
   ]
  },
  {
   "cell_type": "code",
   "execution_count": 36,
   "metadata": {
    "ExecuteTime": {
     "end_time": "2023-10-22T14:48:36.893203Z",
     "start_time": "2023-10-22T14:48:36.879863Z"
    }
   },
   "outputs": [],
   "source": [
    "from random import uniform\n",
    "\n",
    "# Create a list of 10000 points (x,y) that are uniformly distributed in the square [-1,1]*[-1,1]\n",
    "points=[(uniform(-1,1),uniform(-1,1)) for i in range(10000)]\n",
    "\n",
    "def inside_circle(x):\n",
    "    \"Accepts a tuple x, and returns 1 if the point given by x lies inside the circle x^2+y^2=1.  Returns 0 otherwise.\"\n",
    "    if x[0]**2+x[1]**2<=1:\n",
    "        return 1\n",
    "    else:\n",
    "        return 0"
   ]
  },
  {
   "cell_type": "markdown",
   "metadata": {},
   "source": [
    "Use the function `inside_circle` to find the proportion of points inside the list `points` that lie inside the circle $x^2+y^2=1$, then use this proportion to find an estimate for $\\pi$."
   ]
  },
  {
   "cell_type": "code",
   "execution_count": 37,
   "metadata": {
    "ExecuteTime": {
     "end_time": "2023-10-09T17:47:38.555163Z",
     "start_time": "2023-10-09T17:47:38.542776Z"
    }
   },
   "outputs": [
    {
     "name": "stdout",
     "output_type": "stream",
     "text": [
      "3.146\n"
     ]
    }
   ],
   "source": [
    "# Count the number of points inside the circle\n",
    "inside_count = sum(inside_circle(point) for point in points)\n",
    "\n",
    "# Calculate the proportion of points inside the circle\n",
    "proportion_inside = inside_count / len(points)\n",
    "\n",
    "# Estimate pi\n",
    "pi_estimate = 4 * proportion_inside\n",
    "\n",
    "print(pi_estimate)\n",
    "\n",
    "    "
   ]
  },
  {
   "cell_type": "markdown",
   "metadata": {},
   "source": [
    "#### Exercise 3.b"
   ]
  },
  {
   "cell_type": "markdown",
   "metadata": {},
   "source": [
    "Now consider the region bounded by the conditions:\n",
    "\n",
    "$$\\begin{align*}\n",
    "x^2+y^2 &\\leq 9\\\\\n",
    "\\text{and}\\qquad 3x^2+y^2 &\\geq 9\n",
    "\\end{align*}$$\n",
    "\n",
    "This region is shown shaded in white in the plot below."
   ]
  },
  {
   "cell_type": "code",
   "execution_count": 19,
   "metadata": {
    "ExecuteTime": {
     "end_time": "2023-10-22T14:48:37.040199Z",
     "start_time": "2023-10-22T14:48:36.898218Z"
    }
   },
   "outputs": [
    {
     "data": {
      "image/png": "[encoded data removed]",
      "text/plain": [
       "<Figure size 640x480 with 1 Axes>"
      ]
     },
     "metadata": {},
     "output_type": "display_data"
    }
   ],
   "source": [
    "y=np.linspace(-3,3,100)\n",
    "x1=-(9-y**2)**0.5\n",
    "x2=-(1/3**0.5)*(9-y**2)**0.5\n",
    "\n",
    "plt.plot(x1,y,color='white')\n",
    "plt.plot(x2,y,color='white')\n",
    "ax=plt.gca()\n",
    "ax.axis('equal')\n",
    "ax.set_facecolor('black')\n",
    "ax.fill_between(x1,y,facecolor='white')\n",
    "ax.fill_between(x2,y,facecolor='black',edgecolor='black')\n",
    "plt.show()"
   ]
  },
  {
   "cell_type": "markdown",
   "metadata": {},
   "source": [
    "In the box below, define a new list `points` of $10000$ uniformly distributed points that cover the rectangle $[-3,0]\\times[-3,3]$, and then define a function `inside_crescent` which returns a value of $1$ if a point lies inside this region, and $0$ otherwise."
   ]
  },
  {
   "cell_type": "code",
   "execution_count": 38,
   "metadata": {
    "ExecuteTime": {
     "end_time": "2023-10-09T17:47:38.712467Z",
     "start_time": "2023-10-09T17:47:38.700607Z"
    }
   },
   "outputs": [],
   "source": [
    "crescent_points=[(uniform(-3,0),uniform(-3,3)) for i in range(10000)]\n",
    "\n",
    "def inside_crescent(coors: tuple) -> int:\n",
    "    x, y = coors\n",
    "    if (x**2 + y**2 <= 9) and (3*x**2 + y**2 >= 9):\n",
    "        return 1\n",
    "    else:\n",
    "        return 0"
   ]
  },
  {
   "cell_type": "markdown",
   "metadata": {},
   "source": [
    "Once you have done this, apply `inside_crescent` to the list `points` to find an approximation of the area enclosed by the crescent."
   ]
  },
  {
   "cell_type": "code",
   "execution_count": 39,
   "metadata": {
    "ExecuteTime": {
     "end_time": "2023-10-09T17:47:38.729991Z",
     "start_time": "2023-10-09T17:47:38.714479Z"
    }
   },
   "outputs": [
    {
     "name": "stdout",
     "output_type": "stream",
     "text": [
      "5.7924\n"
     ]
    }
   ],
   "source": [
    "inside_points = sum(inside_crescent(point) for point in crescent_points)\n",
    "crescent_area_estimate = (inside_points / len(points)) * 18\n",
    "print(crescent_area_estimate)"
   ]
  },
  {
   "cell_type": "markdown",
   "metadata": {},
   "source": [
    "Note that for any ellipse given by\n",
    "\n",
    "$$\\left(\\frac{x}{a}\\right)^2+\\left(\\frac{y}{b}\\right)^2=1\\:,$$\n",
    "\n",
    "the enclosed area is equal to $\\pi a b$.  We can therefore evaluate the exact area of the above crescent to be:\n",
    "\n",
    "$$\\frac{3\\pi}{2}\\left(3-\\sqrt{3}\\right)\\;.$$\n",
    "\n",
    "Does this match the value obtained from your code above?"
   ]
  },
  {
   "cell_type": "code",
   "execution_count": 22,
   "metadata": {
    "ExecuteTime": {
     "end_time": "2023-10-09T17:47:38.738627Z",
     "start_time": "2023-10-09T17:47:38.733002Z"
    }
   },
   "outputs": [],
   "source": [
    "# It is close to the value"
   ]
  },
  {
   "cell_type": "markdown",
   "metadata": {},
   "source": [
    "### Exercise 4: Revisiting the Ruler Function"
   ]
  },
  {
   "cell_type": "markdown",
   "metadata": {},
   "source": [
    "We would like you look again at the [Ruler Function](https://en.wikipedia.org/wiki/Ruler_function), which counts the number of times a positive integer $n$ can be evenly divided by two. A cool way of determining this was to consider the binary representation of integers and getting the number of trailing zeros. Using this idea, we had arrived at\n",
    "```python\n",
    "def ruler(n):\n",
    "    return len(bin(n))-len(bin(n).rstrip('0'))\n",
    "```\n",
    "\n",
    "We now explore an alternative approach. If a positive integer is even we can divide it by two and consider the parity of the resulting number. Repeating this, leads to another way of computing the ruler function.\n",
    "\n",
    "We define recursively $f:\\mathbb N\\to\\mathbb N$ as\n",
    "$$f:n\\mapsto f(n)=\\begin{cases}\n",
    "  0        &\\text{if $n$ is odd, and}\\\\\n",
    "  1+f(n/2) &\\text{if $n$ is even.}\n",
    "\\end{cases}$$"
   ]
  },
  {
   "cell_type": "markdown",
   "metadata": {},
   "source": [
    "Write a function `ruler_recursive()` that encodes this definition in Python. \n",
    "\n",
    "Compare the output of this function with `ruler()` for $n=1,2,\\ldots,16$.\n",
    "\n",
    "What happens if you try to evaluate this function at zero? Why?"
   ]
  },
  {
   "cell_type": "code",
   "execution_count": 23,
   "metadata": {
    "ExecuteTime": {
     "end_time": "2023-10-17T09:01:50.697826Z",
     "start_time": "2023-10-17T09:01:50.686913Z"
    }
   },
   "outputs": [],
   "source": [
    "def ruler_recursive(n):\n",
    "    if n % 2 == 0:\n",
    "        return 1 + ruler_recursive(n/2)\n",
    "    else:\n",
    "        return 0"
   ]
  },
  {
   "cell_type": "code",
   "execution_count": 24,
   "metadata": {},
   "outputs": [
    {
     "data": {
      "text/plain": [
       "2"
      ]
     },
     "execution_count": 24,
     "metadata": {},
     "output_type": "execute_result"
    }
   ],
   "source": [
    "ruler_recursive(4)"
   ]
  },
  {
   "cell_type": "markdown",
   "metadata": {},
   "source": [
    "`ruler_recursive(0)` does not terminate, as it tries to compute `1+ruler_recursive(0)`, leading to an endless recursion."
   ]
  },
  {
   "cell_type": "markdown",
   "metadata": {},
   "source": [
    "### Exercise 5: Recursive Functions"
   ]
  },
  {
   "cell_type": "markdown",
   "metadata": {},
   "source": [
    "In the lecture you encountered the recursive definition of binomial coefficients $\\binom nk$.\n",
    "Of course you know also that these are just the coefficients in the expansion of $(1+x)^n$, i.e.\n",
    "$$(1+x)^n=\\sum_{k=0}^n\\binom nkx^k.$$\n",
    "This approach allows us to define $\\binom nk=0$ whenever $k<0$ or $k>n$ and leads to a slightly different\n",
    "implementation of `binom(n,k)` from the one given in the lecture."
   ]
  },
  {
   "cell_type": "code",
   "execution_count": 25,
   "metadata": {
    "ExecuteTime": {
     "end_time": "2023-10-22T14:48:37.052630Z",
     "start_time": "2023-10-22T14:48:37.043224Z"
    }
   },
   "outputs": [
    {
     "data": {
      "text/plain": [
       "[[1],\n",
       " [1, 1],\n",
       " [1, 2, 1],\n",
       " [1, 3, 3, 1],\n",
       " [1, 4, 6, 4, 1],\n",
       " [1, 5, 10, 10, 5, 1],\n",
       " [1, 6, 15, 20, 15, 6, 1],\n",
       " [1, 7, 21, 35, 35, 21, 7, 1]]"
      ]
     },
     "execution_count": 25,
     "metadata": {},
     "output_type": "execute_result"
    }
   ],
   "source": [
    "def binom(n,k):\n",
    "    if k<0 or k>n:\n",
    "        b=0\n",
    "    elif n==0:\n",
    "        b=1\n",
    "    else:\n",
    "        b=binom(n-1,k-1)+binom(n-1,k)\n",
    "    return b\n",
    "\n",
    "[[binom(n,k) for k in range(n+1)] for n in range(8)]"
   ]
  },
  {
   "cell_type": "markdown",
   "metadata": {},
   "source": [
    "\n",
    "Similarly, the **trinomial coefficients** $\\binom nk_2$ are defined by the coefficients in the expansion of $(1+x+x^2)^n$, i.e.\n",
    "\n",
    "$$(1+x+x^2)^n=\\sum_{k=-n}^{n}\\binom nk_2x^{n+k}.$$\n",
    "\n",
    "They satisfy a recursion similar to the one of binomial coefficients,\n",
    "\n",
    "$$\\binom nk_2=\\binom{n-1}{k-1}_2+\\binom{n-1}k_2+\\binom{n-1}{k+1}_2.$$"
   ]
  },
  {
   "cell_type": "markdown",
   "metadata": {},
   "source": [
    "#### Exercise 4.a: \n",
    "\n",
    "Write a Python function `trinom(n,k)` that computes the trinomial coefficients $\\binom nk_2$. (Note that you still need to determine the correct conditions at the boundary for the recurrence: for example, what happens if k is too small or too large?)"
   ]
  },
  {
   "cell_type": "code",
   "execution_count": 26,
   "metadata": {
    "ExecuteTime": {
     "end_time": "2023-10-09T17:47:38.756916Z",
     "start_time": "2023-10-09T17:47:38.752066Z"
    }
   },
   "outputs": [],
   "source": [
    "def trinom(n: int, k: int):\n",
    "    if n == 0:\n",
    "        return 1 if k == 0 else 0\n",
    "    elif k < -n or k > n:\n",
    "        return 0\n",
    "    else:\n",
    "        return trinom(n-1, k-1) + trinom(n-1, k) + trinom(n-1, k+1)"
   ]
  },
  {
   "cell_type": "markdown",
   "metadata": {},
   "source": [
    "#### Exercise 4.b: \n",
    "\n",
    "Using `trinom(n,k)`, compute the first eight rows of the trinomial triangle defined in analogy to Pascal's triangle."
   ]
  },
  {
   "cell_type": "code",
   "execution_count": 27,
   "metadata": {
    "ExecuteTime": {
     "end_time": "2023-10-09T17:47:38.771951Z",
     "start_time": "2023-10-09T17:47:38.758923Z"
    }
   },
   "outputs": [
    {
     "data": {
      "text/plain": [
       "[[1],\n",
       " [1, 1, 1],\n",
       " [1, 2, 3, 2, 1],\n",
       " [1, 3, 6, 7, 6, 3, 1],\n",
       " [1, 4, 10, 16, 19, 16, 10, 4, 1],\n",
       " [1, 5, 15, 30, 45, 51, 45, 30, 15, 5, 1],\n",
       " [1, 6, 21, 50, 90, 126, 141, 126, 90, 50, 21, 6, 1],\n",
       " [1, 7, 28, 77, 161, 266, 357, 393, 357, 266, 161, 77, 28, 7, 1]]"
      ]
     },
     "execution_count": 27,
     "metadata": {},
     "output_type": "execute_result"
    }
   ],
   "source": [
    "[[trinom(n,k) for k in range(-n, n+1)] for n in range(8)]"
   ]
  },
  {
   "cell_type": "markdown",
   "metadata": {},
   "source": [
    "## Submit your Jupyter Notebook to QMPLUS"
   ]
  },
  {
   "cell_type": "markdown",
   "metadata": {},
   "source": [
    "Once you are done, save the jupyter notebook and submit it to QMPLUS under Lab Report Week 5."
   ]
  }
 ],
 "metadata": {
  "kernelspec": {
   "display_name": "Python 3 (ipykernel)",
   "language": "python",
   "name": "python3"
  },
  "language_info": {
   "codemirror_mode": {
    "name": "ipython",
    "version": 3
   },
   "file_extension": ".py",
   "mimetype": "text/x-python",
   "name": "python",
   "nbconvert_exporter": "python",
   "pygments_lexer": "ipython3",
   "version": "3.10.12"
  }
 },
 "nbformat": 4,
 "nbformat_minor": 4
}
