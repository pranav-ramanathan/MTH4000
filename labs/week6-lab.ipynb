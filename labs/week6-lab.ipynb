{
 "cells": [
  {
   "cell_type": "markdown",
   "metadata": {
    "slideshow": {
     "slide_type": "-"
    }
   },
   "source": [
    "# MTH5001 Introduction to Computer Programming - Lab 6\n",
    "Dr Matthew Lewis and Prof. Thomas Prellberg\n",
    "\n",
    "## Exercises"
   ]
  },
  {
   "cell_type": "markdown",
   "metadata": {},
   "source": [
    "### Exercise 1: The Collatz Conjecture"
   ]
  },
  {
   "cell_type": "markdown",
   "metadata": {},
   "source": [
    "For a positive integer $a$, consider the sequence defined by $x_0=a$ and\n",
    "\n",
    "$$x_{n+1}=\\begin{cases}3x_n+1&\\text{if $x_n$ is odd,}\\\\ \\frac{x_n}{2} &\\text{if $x_n$ is even.}\\end{cases}$$\n",
    "\n",
    "The [Collatz Conjecture](http://en.wikipedia.org/wiki/Collatz_conjecture) states that this sequence will *always* reach $1$, no matter what the given value of $a$ is."
   ]
  },
  {
   "cell_type": "markdown",
   "metadata": {},
   "source": [
    "#### Exercise 1.a:\n",
    "\n",
    "Write a Python function `f(x)` that computes the function $f:\\mathbb Z\\to\\mathbb Z$ given by \n",
    "\n",
    "$$f(x)=\\begin{cases}3x+1&\\text{if $x$ is odd,}\\\\ \\frac{x}{2} &\\text{if $x$ is even.}\\end{cases}$$\n",
    "\n",
    "Test this function by computing $f(n)$ for $1\\leq n\\leq 20$.\n",
    "\n",
    "(Note that the output should be integer, not floating point!)"
   ]
  },
  {
   "cell_type": "code",
   "execution_count": 1,
   "metadata": {
    "ExecuteTime": {
     "end_time": "2023-10-23T14:23:46.754865Z",
     "start_time": "2023-10-23T14:23:46.740480Z"
    }
   },
   "outputs": [
    {
     "data": {
      "text/plain": [
       "4"
      ]
     },
     "execution_count": 1,
     "metadata": {},
     "output_type": "execute_result"
    }
   ],
   "source": [
    "f = lambda x : x // 2 if (x%2) == 0 else 3*x + 1\n",
    "f(1)"
   ]
  },
  {
   "cell_type": "markdown",
   "metadata": {},
   "source": [
    "From the output you will be able to see that iteration starting with $x=10$, say, will produce you $10\\to5\\to16\\to8\\to4\\to2\\to1\\to4\\to2\\to1\\ldots$."
   ]
  },
  {
   "cell_type": "markdown",
   "metadata": {},
   "source": [
    "### Exercise 2: Writing for and while loops"
   ]
  },
  {
   "cell_type": "markdown",
   "metadata": {},
   "source": [
    "We now write code that repeatedly applies the function `f`, defined above, to a single value in order to generate the Collatz sequence of that value.\n",
    "\n",
    "It may be helpful to remind yourself of the structure of a `for` loop.  A `for` loop contains:\n",
    "\n",
    "- `for` and `in` keywords\n",
    "- a sequence object `iterable`, such as a list, tuple or range\n",
    "- a variable `item`, which takes each value in `iterable`\n",
    "- a colon `:` at the very end of the `for` statement\n",
    "- a code block (indented 4 spaces) which executes once for each value in `iterable`"
   ]
  },
  {
   "cell_type": "markdown",
   "metadata": {},
   "source": [
    "#### Exercise 2.a:\n",
    "\n",
    "Using a `for` loop, write a function `iterate_Collatz(a,N)` that creates a list of the iterates $x_0=a,x_1,\\ldots x_N$ for $0\\leq n\\leq N$.\n",
    "\n",
    "For example, `iterate_Collatz(10,10)` should produce the output `[10, 5, 16, 8, 4, 2, 1, 4, 2, 1, 4]`"
   ]
  },
  {
   "cell_type": "code",
   "execution_count": 2,
   "metadata": {
    "ExecuteTime": {
     "end_time": "2023-10-23T14:23:46.764567Z",
     "start_time": "2023-10-23T14:23:46.757874Z"
    }
   },
   "outputs": [
    {
     "data": {
      "text/plain": [
       "[10, 5, 16, 8, 4, 2, 1, 4, 2, 1, 4]"
      ]
     },
     "execution_count": 2,
     "metadata": {},
     "output_type": "execute_result"
    }
   ],
   "source": [
    "def iterate_Collatz(a: int, N: int) -> list:\n",
    "    collatz_list = []\n",
    "    for _ in range(N+1):\n",
    "        collatz_list.append(a)\n",
    "        a = f(a)\n",
    "    return collatz_list\n",
    "iterate_Collatz(10,10)"
   ]
  },
  {
   "cell_type": "markdown",
   "metadata": {},
   "source": [
    "#### Exercise 2.b:\n",
    "\n",
    "Evaluate  this function for several values of $a$ and $N$. Try in particular $a=27$, $a=231$, and $a=703$. Try to find $N$ such that the sequence ends precisely at the first occurrence of  $1$."
   ]
  },
  {
   "cell_type": "code",
   "execution_count": 3,
   "metadata": {
    "ExecuteTime": {
     "end_time": "2023-10-23T14:23:46.773228Z",
     "start_time": "2023-10-23T14:23:46.767594Z"
    }
   },
   "outputs": [],
   "source": [
    "def iterate_Collatz2(a: int) -> list:\n",
    "    collatz_list = [a]\n",
    "    while a != 1:\n",
    "        a = f(a)\n",
    "        collatz_list.append(a)\n",
    "        \n",
    "    return collatz_list"
   ]
  },
  {
   "cell_type": "markdown",
   "metadata": {},
   "source": [
    "#### Exercise 2.c:\n",
    "\n",
    "Using a `while` loop, write a function `iterate_Collatz2(a)` that creates a list of the iterates $x_0=a,x_1,\\ldots$ up to the first occurrence of $x_N=1$.\n",
    "\n",
    "For example, `iterate_Collatz2(10)` should produce the output `[10, 5, 16, 8, 4, 2, 1]`.\n",
    "\n",
    "For this question, it may be useful to remind yourself of the structure of a `while` loop.  A `while` loop contains:\n",
    "\n",
    "- `while` keyword\n",
    "- a logical expression followed by a colon `:`\n",
    "- a code block (indented four spaces) that is executed only if the logical expression evaluates to `True`\n",
    "- a variable in the logical expression which is updated each time through the loop (technically optional, but essential in practice)\n",
    "- Note: If the logical expression always evaluates to True, then you get an **infinite loop**."
   ]
  },
  {
   "cell_type": "code",
   "execution_count": 4,
   "metadata": {
    "ExecuteTime": {
     "end_time": "2023-10-23T14:23:46.784781Z",
     "start_time": "2023-10-23T14:23:46.776238Z"
    }
   },
   "outputs": [],
   "source": [
    "def iterate_Collatz2(a: int) -> list:\n",
    "    collatz_list = [a]\n",
    "    while a != 1:\n",
    "        a = f(a)\n",
    "        collatz_list.append(a)\n",
    "        \n",
    "    return collatz_list"
   ]
  },
  {
   "cell_type": "markdown",
   "metadata": {},
   "source": [
    "#### Exercise 2.d:\n",
    "\n",
    "Evaluate  this function for several values of $a$. Try in particular $a=27$, $a=231$, and $a=703$. "
   ]
  },
  {
   "cell_type": "code",
   "execution_count": 5,
   "metadata": {
    "ExecuteTime": {
     "end_time": "2023-10-23T14:23:46.791420Z",
     "start_time": "2023-10-23T14:23:46.786790Z"
    }
   },
   "outputs": [
    {
     "name": "stdout",
     "output_type": "stream",
     "text": [
      "[27, 82, 41, 124, 62, 31, 94, 47, 142, 71, 214, 107, 322, 161, 484, 242, 121, 364, 182, 91, 274, 137, 412, 206, 103, 310, 155, 466, 233, 700, 350, 175, 526, 263, 790, 395, 1186, 593, 1780, 890, 445, 1336, 668, 334, 167, 502, 251, 754, 377, 1132, 566, 283, 850, 425, 1276, 638, 319, 958, 479, 1438, 719, 2158, 1079, 3238, 1619, 4858, 2429, 7288, 3644, 1822, 911, 2734, 1367, 4102, 2051, 6154, 3077, 9232, 4616, 2308, 1154, 577, 1732, 866, 433, 1300, 650, 325, 976, 488, 244, 122, 61, 184, 92, 46, 23, 70, 35, 106, 53, 160, 80, 40, 20, 10, 5, 16, 8, 4, 2, 1]\n",
      "\n",
      "[231, 694, 347, 1042, 521, 1564, 782, 391, 1174, 587, 1762, 881, 2644, 1322, 661, 1984, 992, 496, 248, 124, 62, 31, 94, 47, 142, 71, 214, 107, 322, 161, 484, 242, 121, 364, 182, 91, 274, 137, 412, 206, 103, 310, 155, 466, 233, 700, 350, 175, 526, 263, 790, 395, 1186, 593, 1780, 890, 445, 1336, 668, 334, 167, 502, 251, 754, 377, 1132, 566, 283, 850, 425, 1276, 638, 319, 958, 479, 1438, 719, 2158, 1079, 3238, 1619, 4858, 2429, 7288, 3644, 1822, 911, 2734, 1367, 4102, 2051, 6154, 3077, 9232, 4616, 2308, 1154, 577, 1732, 866, 433, 1300, 650, 325, 976, 488, 244, 122, 61, 184, 92, 46, 23, 70, 35, 106, 53, 160, 80, 40, 20, 10, 5, 16, 8, 4, 2, 1]\n",
      "\n",
      "[703, 2110, 1055, 3166, 1583, 4750, 2375, 7126, 3563, 10690, 5345, 16036, 8018, 4009, 12028, 6014, 3007, 9022, 4511, 13534, 6767, 20302, 10151, 30454, 15227, 45682, 22841, 68524, 34262, 17131, 51394, 25697, 77092, 38546, 19273, 57820, 28910, 14455, 43366, 21683, 65050, 32525, 97576, 48788, 24394, 12197, 36592, 18296, 9148, 4574, 2287, 6862, 3431, 10294, 5147, 15442, 7721, 23164, 11582, 5791, 17374, 8687, 26062, 13031, 39094, 19547, 58642, 29321, 87964, 43982, 21991, 65974, 32987, 98962, 49481, 148444, 74222, 37111, 111334, 55667, 167002, 83501, 250504, 125252, 62626, 31313, 93940, 46970, 23485, 70456, 35228, 17614, 8807, 26422, 13211, 39634, 19817, 59452, 29726, 14863, 44590, 22295, 66886, 33443, 100330, 50165, 150496, 75248, 37624, 18812, 9406, 4703, 14110, 7055, 21166, 10583, 31750, 15875, 47626, 23813, 71440, 35720, 17860, 8930, 4465, 13396, 6698, 3349, 10048, 5024, 2512, 1256, 628, 314, 157, 472, 236, 118, 59, 178, 89, 268, 134, 67, 202, 101, 304, 152, 76, 38, 19, 58, 29, 88, 44, 22, 11, 34, 17, 52, 26, 13, 40, 20, 10, 5, 16, 8, 4, 2, 1]\n",
      "\n"
     ]
    }
   ],
   "source": [
    "a_vals = [27, 231, 703]\n",
    "\n",
    "for val in a_vals:\n",
    "    print(iterate_Collatz2(val), end=\"\\n\\n\")"
   ]
  },
  {
   "cell_type": "markdown",
   "metadata": {},
   "source": [
    "### Exercise 3: Recursive Functions (Revisited)\n",
    "\n",
    "As an alternative to using for and while loops, we can generate the Collatz sequence recursively as follows."
   ]
  },
  {
   "cell_type": "code",
   "execution_count": 6,
   "metadata": {
    "ExecuteTime": {
     "end_time": "2023-10-28T17:01:08.805965Z",
     "start_time": "2023-10-28T17:01:08.793909Z"
    }
   },
   "outputs": [],
   "source": [
    "def recursive_Collatz(a):\n",
    "    print(a)\n",
    "    if a!=1:\n",
    "        recursive_Collatz(f(a))"
   ]
  },
  {
   "cell_type": "markdown",
   "metadata": {},
   "source": [
    "Note that this function recurses through the Collatz iteration and stops if $a=1$ is reached. More precisely, this function accepts an integer `a`, and ***prints*** out the values  $x_{n+1}=f(x_n)$, starting with $x_0=a$ and ending with the first occurrence of $x_N=1$. Note that this function does not contain any `return` statement."
   ]
  },
  {
   "cell_type": "code",
   "execution_count": 7,
   "metadata": {
    "ExecuteTime": {
     "end_time": "2023-10-28T17:01:08.813200Z",
     "start_time": "2023-10-28T17:01:08.808973Z"
    }
   },
   "outputs": [
    {
     "name": "stdout",
     "output_type": "stream",
     "text": [
      "10\n",
      "5\n",
      "16\n",
      "8\n",
      "4\n",
      "2\n",
      "1\n"
     ]
    }
   ],
   "source": [
    "recursive_Collatz(10)"
   ]
  },
  {
   "cell_type": "markdown",
   "metadata": {},
   "source": [
    "Note that the print command in the first line of the body of the function means that the value of `a` is printed for each function call, we can therefore view the value that `a` takes through each iteration.  (It may be helpful to use the [Python Visualizer](http://www.pythontutor.com/visualize.html) to observe what's happening at each step of the above code.)"
   ]
  },
  {
   "cell_type": "markdown",
   "metadata": {},
   "source": [
    "To help you with the next task, we now consider the function `log2_int`, defined below:"
   ]
  },
  {
   "cell_type": "code",
   "execution_count": 8,
   "metadata": {
    "ExecuteTime": {
     "end_time": "2023-10-28T17:01:08.821853Z",
     "start_time": "2023-10-28T17:01:08.816210Z"
    }
   },
   "outputs": [],
   "source": [
    "def log2_int(a):\n",
    "    print(a)\n",
    "    if a==1:\n",
    "        N=0\n",
    "    else:\n",
    "        N=log2_int(a//2)+1\n",
    "    return N"
   ]
  },
  {
   "cell_type": "markdown",
   "metadata": {},
   "source": [
    "This function uses recursion to find the integer part of $\\log_2(a)$.  It does this by returning the value of a variable `N`, where `N` is assigned to the output returned by a previous call to the `log2_int` function, plus one.  When the argument returned to `log2_int` is equal to $1$, the variable `N` is assigned the value $0$ instead.\n",
    "\n",
    "Since the argument `a` is being halved after each iteration (more specifically, `a` is given the *integer part* of half its previous value), the argument `a` will always eventually reach $1$, at which point the recursion will terminate.  \n",
    "\n",
    "When this happens, `N` will be assigned the value $0$, and each time this output is fed back through a previous function call, its value will be increased by $1$.  The final value of `N` will be equal to the number of recursive calls that it took for `a` to reach the value of $1$."
   ]
  },
  {
   "cell_type": "code",
   "execution_count": 9,
   "metadata": {
    "ExecuteTime": {
     "end_time": "2023-10-28T17:01:08.840902Z",
     "start_time": "2023-10-28T17:01:08.825886Z"
    }
   },
   "outputs": [
    {
     "name": "stdout",
     "output_type": "stream",
     "text": [
      "300\n",
      "150\n",
      "75\n",
      "37\n",
      "18\n",
      "9\n",
      "4\n",
      "2\n",
      "1\n"
     ]
    },
    {
     "data": {
      "text/plain": [
       "8"
      ]
     },
     "execution_count": 9,
     "metadata": {},
     "output_type": "execute_result"
    }
   ],
   "source": [
    "# Run this box to test the above code.\n",
    "\n",
    "log2_int(300)"
   ]
  },
  {
   "cell_type": "markdown",
   "metadata": {},
   "source": [
    "#### Exercise 3.a (advanced):\n",
    "\n",
    "Using the coding ideas employed above in `log2_int`, you should now modify `recursive_Collatz` to write a function `count_recursive_Collatz`, that accepts an integer `a`, and ***prints*** out the values  $x_{n+1}=f(x_n)$, starting with $x_0=a$ and ending with the first occurrence of $x_N=1$ and additionally ***returns*** the number of iterations $N$ as an output.\n",
    "\n",
    "For example, `count_recursive_Collatz(10)` should print out the numbers 10, 5, 16, 8, 4, 2, 1, and give as output the number of iterations, 6."
   ]
  },
  {
   "cell_type": "code",
   "execution_count": 10,
   "metadata": {
    "ExecuteTime": {
     "end_time": "2023-10-28T17:00:18.983470Z",
     "start_time": "2023-10-28T17:00:18.936122Z"
    },
    "scrolled": true
   },
   "outputs": [
    {
     "name": "stdout",
     "output_type": "stream",
     "text": [
      "10\n",
      "5\n",
      "16\n",
      "8\n",
      "4\n",
      "2\n",
      "1\n"
     ]
    },
    {
     "data": {
      "text/plain": [
       "7"
      ]
     },
     "execution_count": 10,
     "metadata": {},
     "output_type": "execute_result"
    }
   ],
   "source": [
    "def count_recursive_Collatz(a: int):\n",
    "    print(a)\n",
    "    if a!=1:\n",
    "        return 1 + count_recursive_Collatz(f(a))\n",
    "    else:\n",
    "        return 1\n",
    "    return N\n",
    "\n",
    "count_recursive_Collatz(10)"
   ]
  },
  {
   "cell_type": "markdown",
   "metadata": {},
   "source": [
    "### Exercise 4: Generating Primes"
   ]
  },
  {
   "cell_type": "markdown",
   "metadata": {},
   "source": [
    "In this exercise, we focus on different methods for generating a list of prime numbers."
   ]
  },
  {
   "cell_type": "markdown",
   "metadata": {},
   "source": [
    "#### Exercise 4.a:"
   ]
  },
  {
   "cell_type": "markdown",
   "metadata": {},
   "source": [
    "Our first method is the most direct.  We can generate a list of primes by simply considering each value $i\\in\\mathbb{N}$, and testing whether $i$ is divisible by any of the prime numbers we have already generated.  If it is not, then we add $i$ to our list of primes.\n",
    "\n",
    "Consider the following example.  `primes` is a list containing the first five prime numbers, and we wish to test whether the value $12$ could be the next prime in our list."
   ]
  },
  {
   "cell_type": "code",
   "execution_count": 11,
   "metadata": {
    "ExecuteTime": {
     "end_time": "2023-10-28T17:01:08.850326Z",
     "start_time": "2023-10-28T17:01:08.842912Z"
    }
   },
   "outputs": [
    {
     "name": "stdout",
     "output_type": "stream",
     "text": [
      "[2, 3, 5, 7, 11]\n"
     ]
    }
   ],
   "source": [
    "primes = [2,3,5,7,11]\n",
    "\n",
    "i = 12\n",
    "\n",
    "x = True\n",
    "for j in primes:\n",
    "    if i % j == 0:\n",
    "        x = False\n",
    "if x:\n",
    "    primes.append(i)\n",
    "    \n",
    "print(primes)"
   ]
  },
  {
   "cell_type": "markdown",
   "metadata": {},
   "source": [
    "It should come as no surprise that $i=12$ failed the test, but what actually happened?\n",
    "\n",
    "The auxiliary variable `x` is defined to have Boolean value `True`, and as we iterate the variable `j` through the list `primes`, if `j` divided `i` with zero remainder, then `x` was reassigned with Boolean value `False`.  Therefore, the only way that `x` could maintain the value `True` was if no value assigned to `j` divided `i`, meaning that `i` was indeed a prime number.\n",
    "\n",
    "In the box below, adapt the code above to append *all* prime numbers less than $100$ to the list `primes`."
   ]
  },
  {
   "cell_type": "code",
   "execution_count": 12,
   "metadata": {
    "ExecuteTime": {
     "end_time": "2023-10-23T14:23:46.845847Z",
     "start_time": "2023-10-23T14:23:46.841838Z"
    }
   },
   "outputs": [
    {
     "name": "stdout",
     "output_type": "stream",
     "text": [
      "[2, 3, 5, 7, 11, 13, 17, 19, 23, 29, 31, 37, 41, 43, 47, 53, 59, 61, 67, 71, 73, 79, 83, 89, 97]\n"
     ]
    }
   ],
   "source": [
    "primes = [2,3,5,7,11]\n",
    "for i in range(12, 100):\n",
    "    x = True\n",
    "    for j in primes:\n",
    "        if i % j == 0:\n",
    "            x = False\n",
    "    if x:\n",
    "        primes.append(i)\n",
    "    \n",
    "print(primes)"
   ]
  },
  {
   "cell_type": "markdown",
   "metadata": {},
   "source": [
    "Note that this method prescribes an upper bound for the largest prime, but does not let us choose how many primes are contained in our list.\n",
    "\n",
    "Using a `while` loop, modify the above code to extend the list `primes` to contain *exactly* $100$ primes."
   ]
  },
  {
   "cell_type": "code",
   "execution_count": 13,
   "metadata": {
    "ExecuteTime": {
     "end_time": "2023-10-23T14:23:46.858052Z",
     "start_time": "2023-10-23T14:23:46.848856Z"
    }
   },
   "outputs": [
    {
     "name": "stdout",
     "output_type": "stream",
     "text": [
      "100\n",
      "[2, 3, 5, 7, 11, 13, 17, 19, 23, 29, 31, 37, 41, 43, 47, 53, 59, 61, 67, 71, 73, 79, 83, 89, 97, 101, 103, 107, 109, 113, 127, 131, 137, 139, 149, 151, 157, 163, 167, 173, 179, 181, 191, 193, 197, 199, 211, 223, 227, 229, 233, 239, 241, 251, 257, 263, 269, 271, 277, 281, 283, 293, 307, 311, 313, 317, 331, 337, 347, 349, 353, 359, 367, 373, 379, 383, 389, 397, 401, 409, 419, 421, 431, 433, 439, 443, 449, 457, 461, 463, 467, 479, 487, 491, 499, 503, 509, 521, 523, 541]\n"
     ]
    }
   ],
   "source": [
    "primes = [2,3,5,7,11]\n",
    "i = 12\n",
    "while len(primes) != 100:\n",
    "    x = True\n",
    "    for j in primes:\n",
    "        if i % j == 0:\n",
    "            x = False\n",
    "    if x:\n",
    "        primes.append(i)\n",
    "    i += 1\n",
    "\n",
    "print(len(primes))\n",
    "print(primes)"
   ]
  },
  {
   "cell_type": "markdown",
   "metadata": {},
   "source": [
    "#### Exercise 4.b:"
   ]
  },
  {
   "cell_type": "markdown",
   "metadata": {},
   "source": [
    "Our second method uses the [Sieve of Eratosthenes](https://en.wikipedia.org/wiki/Sieve_of_Eratosthenes).  Given a list of integers, `l` between $2$ and some fixed value $n$, it is possible to obtain a list of primes by simply removing all non-trivial multiples of each prime, one-by-one.\n",
    "\n",
    "For instance, if we take $i=2$, then we would begin by removing all multiples of $2$ from the list (not including $2$ itself).\n",
    "\n",
    "Consider the code below:"
   ]
  },
  {
   "cell_type": "code",
   "execution_count": 17,
   "metadata": {
    "ExecuteTime": {
     "end_time": "2023-10-28T17:01:08.859123Z",
     "start_time": "2023-10-28T17:01:08.853346Z"
    }
   },
   "outputs": [
    {
     "name": "stdout",
     "output_type": "stream",
     "text": [
      "[2, 3, 5, 7, 9, 11, 13, 15, 17, 19, 21, 23, 25, 27, 29, 31, 33, 35, 37, 39, 41, 43, 45, 47, 49, 51, 53, 55, 57, 59, 61, 63, 65, 67, 69, 71, 73, 75, 77, 79, 81, 83, 85, 87, 89, 91, 93, 95, 97, 99]\n"
     ]
    }
   ],
   "source": [
    "l=list(range(2,101))\n",
    "\n",
    "i=2\n",
    "\n",
    "m=[]\n",
    "for j in l:\n",
    "    if j==i or j%i!=0:\n",
    "        m.append(j)\n",
    "        \n",
    "print(m)"
   ]
  },
  {
   "cell_type": "markdown",
   "metadata": {},
   "source": [
    "This code produces a new list `m`, which contains all the elements of `l` that are not non-trivial multiples of $2$.  \n",
    "\n",
    "Modify the above code to generate a list of prime numbers between $2$ and $100$.  \n",
    "\n",
    "(**Hint**: If the list `l` is being used as the `iterable` inside a `for` loop, it is still possible to change the value of `l` from *inside the loop*.)"
   ]
  },
  {
   "cell_type": "code",
   "execution_count": null,
   "metadata": {
    "ExecuteTime": {
     "end_time": "2023-10-23T14:23:46.875683Z",
     "start_time": "2023-10-23T14:23:46.870176Z"
    },
    "scrolled": true
   },
   "outputs": [],
   "source": []
  },
  {
   "cell_type": "markdown",
   "metadata": {},
   "source": [
    "### Exercise 5: Obtain a Github account (needed for the assessment)!"
   ]
  },
  {
   "cell_type": "markdown",
   "metadata": {},
   "source": [
    "The final assignment for this week is to obtain and update your [GitHub account](https://www.github.com/). You may wish to use your recently created email address to do so. During the week 8 test, you will need to let us know about this account by providing your the url of your github profile. You will be assessed on\n",
    "\n",
    "- having an account\n",
    "- having a personalised readme file (readme.md)\n",
    "- creating a repository \"MTH4000\" with another readme file\n"
   ]
  },
  {
   "cell_type": "markdown",
   "metadata": {},
   "source": [
    "## Submit your Jupyter Notebook to QMPLUS"
   ]
  },
  {
   "cell_type": "markdown",
   "metadata": {},
   "source": [
    "Once you are done, save the jupyter notebook and submit it to QMPLUS under Lab Report Week 6."
   ]
  }
 ],
 "metadata": {
  "kernelspec": {
   "display_name": "Python 3 (ipykernel)",
   "language": "python",
   "name": "python3"
  },
  "language_info": {
   "codemirror_mode": {
    "name": "ipython",
    "version": 3
   },
   "file_extension": ".py",
   "mimetype": "text/x-python",
   "name": "python",
   "nbconvert_exporter": "python",
   "pygments_lexer": "ipython3",
   "version": "3.10.12"
  }
 },
 "nbformat": 4,
 "nbformat_minor": 4
}
