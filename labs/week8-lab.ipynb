{
 "cells": [
  {
   "cell_type": "markdown",
   "metadata": {
    "slideshow": {
     "slide_type": "-"
    }
   },
   "source": [
    "# MTH4000 Programming in Python I - Lab 7\n",
    "Dr Matthew Lewis and Prof. Thomas Prellberg\n",
    "\n",
    "## Exercises"
   ]
  },
  {
   "cell_type": "code",
   "execution_count": 1,
   "metadata": {
    "ExecuteTime": {
     "end_time": "2023-11-07T19:35:03.615775Z",
     "start_time": "2023-11-07T19:35:02.727539Z"
    }
   },
   "outputs": [],
   "source": [
    "import numpy as np\n",
    "import matplotlib.pyplot as plt\n",
    "import matplotlib.patches as patches"
   ]
  },
  {
   "cell_type": "markdown",
   "metadata": {},
   "source": [
    "### Exercise 1: Arc Diagrams"
   ]
  },
  {
   "cell_type": "markdown",
   "metadata": {},
   "source": [
    "In the lecture we learned about legal arrangements of pairs of parentheses. There is a lovely visual interpretation using arc diagrams.\n",
    "\n",
    "In a given arrangement, we can interpret any open bracket as the start of an arc, and any closed bracket as the end of an arc. If there are $n$ brackets, this corresponds to $n$ arcs. Labelling the arcs, we can transform\n",
    "\n",
    "    ((())())\n",
    "    \n",
    "to\n",
    "\n",
    "    01221330\n",
    "    \n",
    "indicating that there is an arc connecting equal numbers. The following function draws such an arc diagram."
   ]
  },
  {
   "cell_type": "code",
   "execution_count": 2,
   "metadata": {
    "ExecuteTime": {
     "end_time": "2023-11-07T19:35:03.795455Z",
     "start_time": "2023-11-07T19:35:03.618788Z"
    },
    "scrolled": false
   },
   "outputs": [
    {
     "data": {
      "image/png": "[encoded data removed]",
      "text/plain": [
       "<Figure size 450x200 with 1 Axes>"
      ]
     },
     "metadata": {},
     "output_type": "display_data"
    }
   ],
   "source": [
    "def draw_arc_diagram(l):\n",
    "    \"\"\"draws n arcs encoded as a list of 2n entries\"\"\"\n",
    "    plt.figure(figsize=(4.5,2)) # pick appropriate figure size\n",
    "    plt.plot([0 for _ in l],\"o\") # draw 2n points\n",
    "    for i in range(len(l)//2):\n",
    "        arc=[j for j, k in enumerate(l) if k==i] # get starting and end point of each arc\n",
    "        plt.gca().add_patch(patches.FancyArrowPatch((arc[0],0),(arc[1],0),connectionstyle=\"angle3,angleA=60,angleB=-60\")) # connect these by an arc\n",
    "    plt.gca().axis(\"off\") # remove the axis\n",
    "    plt.show()\n",
    "    \n",
    "draw_arc_diagram([0,1,2,2,1,3,3,0])"
   ]
  },
  {
   "cell_type": "markdown",
   "metadata": {},
   "source": [
    "The task you will have is to change the parenthesis arrangement to the labelled arcs representation. So how do we get from ((())()) to 01221330? In the lecture we had simplified this already by considering the positions of the brackets:\n",
    "```python\n",
    "def closed_list(open_list):\n",
    "    return [i for i in range(2*len(open_list)) if i not in open_list]\n",
    "```\n",
    "and computing legality via\n",
    "```python\n",
    "def is_legal_list(c):\n",
    "    return all(i<j for i,j in zip(c,closed_list(c)))\n",
    "```"
   ]
  },
  {
   "cell_type": "markdown",
   "metadata": {},
   "source": [
    "So instead of considering ((())()), we had started looking at the positions of the open brackets [0,1,2,5] (and, correspondingly, the positions of the closed brackets [3,4,6,7]). This means that the corresponding arc labelling is 012\\*\\*3\\*\\*, and we need to figure out how to associate labels to the individual asterisks \\*."
   ]
  },
  {
   "cell_type": "markdown",
   "metadata": {},
   "source": [
    "#### Exercise 1.1.: Convert the position of the open brackets to the corresponding arcs."
   ]
  },
  {
   "cell_type": "markdown",
   "metadata": {},
   "source": [
    "The key observation is that the the first closed bracket needs to be connected by an arc to the immediately preceding open bracket. (Otherwise, there would necessarily be a crossing of arcs!) Equivalently, the last open bracket needs to be connected by an arc to the immediately succeeding closed bracket. This can be done iteratively by drawing arcs and considering the remaining available brackets.\n",
    "\n",
    "In our example, 012\\*\\*3\\*\\* would successively become filled with 012\\*\\*33\\*, 0122\\*33\\*, 0122133\\*, and finally 01221330.\n",
    "\n"
   ]
  },
  {
   "cell_type": "markdown",
   "metadata": {},
   "source": [
    "The algorithm is therefore the following:\n",
    "\n",
    "0. Given the positions of n open brackets, create an list of length 2n filled with * denoting undetermined arc labels\n",
    "1. For all open brackets, label the i'th open bracket with arc label i.\n",
    "2. If there are no unmatched open brackets, return the arc labelling\n",
    "3. Otherwise, for the last unmatched open bracket, find the first succeeding unmatched closed bracket and label it with the same arc label.\n",
    "4. Repeat from step 2."
   ]
  },
  {
   "cell_type": "markdown",
   "metadata": {
    "ExecuteTime": {
     "end_time": "2023-10-30T22:08:02.123355Z",
     "start_time": "2023-10-30T22:08:02.082333Z"
    }
   },
   "source": [
    "Using this algorithm, write a function `arc_representation()` that takes a list of open bracket positions and returns an arc representation.\n",
    "\n",
    "We are starting you off with a function that already contains steps 0 and 1, you only have to do the loop given by steps 2, 3, and 4:\n",
    "\n",
    "```python\n",
    "def arc_representation(c):\n",
    "    n=len(c)\n",
    "    arc=[\"*\"]*2*n\n",
    "    for i in range(n):\n",
    "        pos=c[i]\n",
    "        arc[pos]=i\n",
    "# fill in the missing code\n",
    "\n",
    "\n",
    "\n",
    "\n",
    "# fill in the missing code\n",
    "    return arc\n",
    "```"
   ]
  },
  {
   "cell_type": "code",
   "execution_count": null,
   "metadata": {
    "ExecuteTime": {
     "end_time": "2023-11-07T19:32:47.569870Z",
     "start_time": "2023-11-07T19:32:47.563852Z"
    }
   },
   "outputs": [],
   "source": []
  },
  {
   "cell_type": "code",
   "execution_count": null,
   "metadata": {
    "ExecuteTime": {
     "end_time": "2023-11-04T17:22:14.668917Z",
     "start_time": "2023-11-04T17:22:14.664271Z"
    }
   },
   "outputs": [],
   "source": [
    "# test this\n",
    "arc_representation([0,1,2,5])"
   ]
  },
  {
   "cell_type": "markdown",
   "metadata": {},
   "source": [
    "#### Exercise 1.2: draw your results\n",
    "\n",
    "Produce images for all fourteen arc diagrams with four arcs.\n",
    "\n",
    "*Hint: look at the lecture notes on how to find all such arc diagrams: use `itertools`, `closed_list`, and check with `is_legal_list`*"
   ]
  },
  {
   "cell_type": "code",
   "execution_count": null,
   "metadata": {
    "ExecuteTime": {
     "end_time": "2023-11-04T17:22:15.449330Z",
     "start_time": "2023-11-04T17:22:14.670926Z"
    },
    "scrolled": false
   },
   "outputs": [],
   "source": []
  },
  {
   "cell_type": "markdown",
   "metadata": {},
   "source": [
    "### Exercise 2: Arc Diagrams with Crossings\n",
    "\n",
    "If you did the above correctly, all your arcs should be nested, i.e. there should not be any crossing. However, if you have made a mistake somewhere in your code, you might have found something like this:"
   ]
  },
  {
   "cell_type": "code",
   "execution_count": 3,
   "metadata": {
    "ExecuteTime": {
     "end_time": "2023-11-07T19:35:14.761940Z",
     "start_time": "2023-11-07T19:35:14.696880Z"
    }
   },
   "outputs": [
    {
     "data": {
      "image/png": "[encoded data removed]",
      "text/plain": [
       "<Figure size 450x200 with 1 Axes>"
      ]
     },
     "metadata": {},
     "output_type": "display_data"
    }
   ],
   "source": [
    "draw_arc_diagram([0,1,2,1,2,3,3,0])"
   ]
  },
  {
   "cell_type": "markdown",
   "metadata": {},
   "source": [
    "There is now one crossing, even though the underlying order of brackets is the same as for:"
   ]
  },
  {
   "cell_type": "code",
   "execution_count": 4,
   "metadata": {
    "ExecuteTime": {
     "end_time": "2023-11-07T19:35:16.934809Z",
     "start_time": "2023-11-07T19:35:16.860876Z"
    }
   },
   "outputs": [
    {
     "data": {
      "image/png": "[encoded data removed]",
      "text/plain": [
       "<Figure size 450x200 with 1 Axes>"
      ]
     },
     "metadata": {},
     "output_type": "display_data"
    }
   ],
   "source": [
    "draw_arc_diagram([0,1,2,2,1,3,3,0])"
   ]
  },
  {
   "cell_type": "markdown",
   "metadata": {},
   "source": [
    "In both cases we have ((())()), it's just that the connection has been done differently. It is clear that, given a legal arrangement of brackets, there are many ways of connecting these brackets with arcs such that open and closed brackets correspond to starting and ending of arcs. \n",
    "\n",
    "A bit of thinking should convince you that for ()() there is only one possible arc diagram 0011, whereas for (()) there are two, namely 0101 and 0110.\n",
    "\n",
    "But just how many are there in general? This exercise will ask you to develop Python code to explore this further."
   ]
  },
  {
   "cell_type": "markdown",
   "metadata": {},
   "source": [
    "#### Exercise 2.1: Write a function that counts the number of possible arc diagrams for a given legal arrangement of brackets.\n",
    "\n",
    "We again have to come up with an algorithm for how to do this. Let's see what can go wrong. For (()) we need to start arcs at positions 0 and 1 and end them at positions 2 and 3, and we can choose either one for each arc."
   ]
  },
  {
   "cell_type": "code",
   "execution_count": 5,
   "metadata": {
    "ExecuteTime": {
     "end_time": "2023-11-07T19:36:48.803667Z",
     "start_time": "2023-11-07T19:36:48.709665Z"
    },
    "scrolled": false
   },
   "outputs": [
    {
     "data": {
      "image/png": "[encoded data removed]",
      "text/plain": [
       "<Figure size 450x200 with 1 Axes>"
      ]
     },
     "metadata": {},
     "output_type": "display_data"
    },
    {
     "data": {
      "image/png": "[encoded data removed]",
      "text/plain": [
       "<Figure size 450x200 with 1 Axes>"
      ]
     },
     "metadata": {},
     "output_type": "display_data"
    }
   ],
   "source": [
    "draw_arc_diagram([0,1,1,0])\n",
    "draw_arc_diagram([0,1,0,1])"
   ]
  },
  {
   "cell_type": "markdown",
   "metadata": {},
   "source": [
    "For ()() we need to start arcs at positions 0 and 2 and end them at positions 1 and 3. But now there is only one way to choose these."
   ]
  },
  {
   "cell_type": "code",
   "execution_count": 6,
   "metadata": {
    "ExecuteTime": {
     "end_time": "2023-11-07T19:36:50.125342Z",
     "start_time": "2023-11-07T19:36:50.055859Z"
    }
   },
   "outputs": [
    {
     "data": {
      "image/png": "[encoded data removed]",
      "text/plain": [
       "<Figure size 450x200 with 1 Axes>"
      ]
     },
     "metadata": {},
     "output_type": "display_data"
    }
   ],
   "source": [
    "draw_arc_diagram([0,0,1,1])"
   ]
  },
  {
   "cell_type": "markdown",
   "metadata": {},
   "source": [
    "If instead we choose to connect position 0 with 3, then we would be forced to connect position 2 with 1, but this changes the \"direction\" of the arc. Consequently the two inner brackets get swapped and instead of ()() this arc diagram belongs to (())."
   ]
  },
  {
   "cell_type": "markdown",
   "metadata": {},
   "source": [
    "So how do we start? For a legal arrangement, the first bracket is necessarily an open bracket, and any closed bracket can be used to form an arc with the first bracket. We can \"remove\" these brackets and get a shorter arrangement. \n",
    "\n",
    "Now three cases can occur:\n",
    "- the shorter arrangement is empty: we are done!\n",
    "- the shorter arrangement starts with a closed bracket: we cannot finish this. Stop here.\n",
    "- the shorter arrangement starts with an open bracket: we are fine, and can continue with the shorter arrangement.\n",
    "\n",
    "This looks like we need a counter variable, a for loop, and a recursive function call. I shall leave the details to you."
   ]
  },
  {
   "cell_type": "markdown",
   "metadata": {},
   "source": [
    "Write a function `count_arc_diagrams()` that takes a legal arrangement of brackets and counts the total number of possible arc diagrams.\n",
    "\n",
    "For the argument `\"((())())\"` this function should return the number 12."
   ]
  },
  {
   "cell_type": "code",
   "execution_count": null,
   "metadata": {
    "ExecuteTime": {
     "end_time": "2023-11-04T17:22:15.693356Z",
     "start_time": "2023-11-04T17:22:15.688682Z"
    }
   },
   "outputs": [],
   "source": []
  },
  {
   "cell_type": "code",
   "execution_count": null,
   "metadata": {
    "ExecuteTime": {
     "end_time": "2023-11-04T17:22:15.701321Z",
     "start_time": "2023-11-04T17:22:15.695365Z"
    }
   },
   "outputs": [],
   "source": [
    "# testing this: you should find 12 different diagrams\n",
    "count_arc_diagrams(\"((())())\")"
   ]
  },
  {
   "cell_type": "markdown",
   "metadata": {},
   "source": [
    "Can you find them all by hand? This becomes quite tedious."
   ]
  },
  {
   "cell_type": "markdown",
   "metadata": {},
   "source": [
    "#### Exercise 2.2: (Advanced) Draw all possible arc diagrams for a given legal arrangement of brackets"
   ]
  },
  {
   "cell_type": "markdown",
   "metadata": {},
   "source": [
    "Now that we have counted all arc diagrams, how can we draw them? The above function only produced numbers and did not keep track of already selected arcs.\n",
    "\n",
    "So instead of shortening the arrangements, replace brackets by the arc labels."
   ]
  },
  {
   "cell_type": "markdown",
   "metadata": {},
   "source": [
    "A recursive approach is now less helpful. Assume we have a legal arrangement of $2n$ brackets. We need the positions of all $n$ open brackets and all $n$ closed brackets. \n",
    "\n",
    "Labelling the $n$ open brackets with $0$ to $n-1$, we now have to match them with $n$ closed brackets. There are $n!$ possibilities to label the closed brackets, so let's just go through all of them - there may be more efficient ways, but we will choose simplicity. We will use `permutations` from itertools to go through all possible permutations.\n",
    "\n",
    "For example, for ()() we have open brackets at positions 0 and 1, and closed brackets at positions 2 and 3, so `pos_open` is `[0,2]` and `pos_closed` is `[1,3]`. Permuting the entries in `pos_closed` gives `p=[1,3]` and `p=[3,1]`. For arcs to be allowed, we need `pos_open[i]<p[i]` for all indices. Choosing `p=[1,3]` we find $0<1$ and $2<3$, which is valid. However, choosing `p=[3,1]` we find $0<3$ and $2<1$, which is invalid. \n"
   ]
  },
  {
   "cell_type": "markdown",
   "metadata": {},
   "source": [
    "Write a function `arc_diagrams_for_arrangement()` that takes a list of open bracket positions and returns a list of all arc diagrams that can be created from this."
   ]
  },
  {
   "cell_type": "code",
   "execution_count": null,
   "metadata": {
    "ExecuteTime": {
     "end_time": "2023-11-04T17:22:15.708035Z",
     "start_time": "2023-11-04T17:22:15.703330Z"
    }
   },
   "outputs": [],
   "source": []
  },
  {
   "cell_type": "markdown",
   "metadata": {},
   "source": [
    "Now that this function is written, it is easy to draw the output and hence check visually that everything makes sense."
   ]
  },
  {
   "cell_type": "code",
   "execution_count": null,
   "metadata": {
    "ExecuteTime": {
     "end_time": "2023-11-04T17:22:16.387263Z",
     "start_time": "2023-11-04T17:22:15.710044Z"
    },
    "scrolled": false
   },
   "outputs": [],
   "source": [
    "all_diagrams=arc_diagrams_for_arrangement([0,1,2,5])\n",
    "for diagram in all_diagrams:\n",
    "    draw_arc_diagram(diagram)"
   ]
  },
  {
   "cell_type": "markdown",
   "metadata": {},
   "source": [
    "### Exercise 3:\n",
    "\n",
    "To finish, we change tack and ask you to compute roots of functions with the Bisection Algorithm, using `bisection()` as given in the lecture notes.\n",
    "\n",
    "For this, you need to figure out which parameters `a`, `b`, and `N` to use when calling the function `bisection(f,a,b,N)`.\n"
   ]
  },
  {
   "cell_type": "markdown",
   "metadata": {},
   "source": [
    "#### Exercise 3.0.: Copy the function `bisection()` from the lecture notes."
   ]
  },
  {
   "cell_type": "code",
   "execution_count": null,
   "metadata": {
    "ExecuteTime": {
     "end_time": "2023-11-04T17:22:16.398576Z",
     "start_time": "2023-11-04T17:22:16.388269Z"
    }
   },
   "outputs": [],
   "source": []
  },
  {
   "cell_type": "markdown",
   "metadata": {},
   "source": [
    "#### Exercise 3.1.: Find $x\\in(0,\\pi)$ for which $\\cos(x)=x$, with an accuracy of $10^{-8}$. "
   ]
  },
  {
   "cell_type": "code",
   "execution_count": null,
   "metadata": {
    "ExecuteTime": {
     "end_time": "2023-11-04T17:22:16.408649Z",
     "start_time": "2023-11-04T17:22:16.401584Z"
    }
   },
   "outputs": [],
   "source": []
  },
  {
   "cell_type": "markdown",
   "metadata": {},
   "source": [
    "#### Exercise 3.2.: Find all real roots of $x^3-5x+1=0$ with an accuracy of $10^{-12}$."
   ]
  },
  {
   "cell_type": "markdown",
   "metadata": {},
   "source": [
    "This is a degree three polynomial, so we can use"
   ]
  },
  {
   "cell_type": "code",
   "execution_count": null,
   "metadata": {
    "ExecuteTime": {
     "end_time": "2023-11-04T17:22:16.419553Z",
     "start_time": "2023-11-04T17:22:16.411661Z"
    },
    "scrolled": true
   },
   "outputs": [],
   "source": []
  },
  {
   "cell_type": "markdown",
   "metadata": {},
   "source": [
    "#### Exercise 3.3.: Find all real roots of $-x^5/100+x^3-5x+1=0$ with an accuracy of $10^{-12}$."
   ]
  },
  {
   "cell_type": "markdown",
   "metadata": {},
   "source": [
    "## Submit your Jupyter Notebook to QMPLUS"
   ]
  },
  {
   "cell_type": "markdown",
   "metadata": {},
   "source": [
    "Once you are done, save the jupyter notebook and submit it to QMPLUS under Lab Report Week 8."
   ]
  },
  {
   "cell_type": "code",
   "execution_count": null,
   "metadata": {},
   "outputs": [],
   "source": []
  }
 ],
 "metadata": {
  "kernelspec": {
   "display_name": "Python 3 (ipykernel)",
   "language": "python",
   "name": "python3"
  },
  "language_info": {
   "codemirror_mode": {
    "name": "ipython",
    "version": 3
   },
   "file_extension": ".py",
   "mimetype": "text/x-python",
   "name": "python",
   "nbconvert_exporter": "python",
   "pygments_lexer": "ipython3",
   "version": "3.11.3"
  }
 },
 "nbformat": 4,
 "nbformat_minor": 2
}
